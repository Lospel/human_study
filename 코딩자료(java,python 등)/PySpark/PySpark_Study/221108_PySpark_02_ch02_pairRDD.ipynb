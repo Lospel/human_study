{
 "cells": [
  {
   "cell_type": "code",
   "execution_count": 1,
   "id": "234e46dc",
   "metadata": {},
   "outputs": [
    {
     "data": {
      "text/html": [
       "\n",
       "        <div>\n",
       "            <p><b>SparkContext</b></p>\n",
       "\n",
       "            <p><a href=\"http://172.28.170.166:4040\">Spark UI</a></p>\n",
       "\n",
       "            <dl>\n",
       "              <dt>Version</dt>\n",
       "                <dd><code>v3.2.0</code></dd>\n",
       "              <dt>Master</dt>\n",
       "                <dd><code>local[*]</code></dd>\n",
       "              <dt>AppName</dt>\n",
       "                <dd><code>PySparkShell</code></dd>\n",
       "            </dl>\n",
       "        </div>\n",
       "        "
      ],
      "text/plain": [
       "<SparkContext master=local[*] appName=PySparkShell>"
      ]
     },
     "execution_count": 1,
     "metadata": {},
     "output_type": "execute_result"
    }
   ],
   "source": [
    "sc"
   ]
  },
  {
   "cell_type": "code",
   "execution_count": 2,
   "id": "c0bb11ec",
   "metadata": {},
   "outputs": [],
   "source": [
    "sc.stop()"
   ]
  },
  {
   "cell_type": "markdown",
   "id": "a7a3b9d7",
   "metadata": {},
   "source": [
    "## 라이브러리\n",
    "- 주요 라이브러리 불러오기"
   ]
  },
  {
   "cell_type": "code",
   "execution_count": 4,
   "id": "7ffd5cdd",
   "metadata": {},
   "outputs": [
    {
     "name": "stdout",
     "output_type": "stream",
     "text": [
      "1.23.4\n",
      "1.5.1\n",
      "3.6.2\n",
      "0.12.1\n",
      "1.1.3\n",
      "3.2.0\n"
     ]
    }
   ],
   "source": [
    "import numpy as np\n",
    "import pandas as pd\n",
    "import matplotlib\n",
    "import matplotlib.pyplot as plt\n",
    "import seaborn as sns\n",
    "import sklearn\n",
    "import pyspark\n",
    "\n",
    "print(np.__version__)\n",
    "print(pd.__version__)\n",
    "print(matplotlib.__version__)\n",
    "print(sns.__version__)\n",
    "print(sklearn.__version__)\n",
    "print(pyspark.__version__)"
   ]
  },
  {
   "cell_type": "markdown",
   "id": "900ecfeb",
   "metadata": {},
   "source": [
    "## Spark 세션 만들기 (평가1)\n",
    "- master : \"local[1]\"\n",
    "- appName : my1stSpark"
   ]
  },
  {
   "cell_type": "code",
   "execution_count": 11,
   "id": "f64d0b4d",
   "metadata": {},
   "outputs": [
    {
     "name": "stderr",
     "output_type": "stream",
     "text": [
      "22/11/08 09:41:15 WARN Utils: Service 'SparkUI' could not bind on port 4040. Attempting port 4041.\n"
     ]
    },
    {
     "data": {
      "text/html": [
       "\n",
       "            <div>\n",
       "                <p><b>SparkSession - hive</b></p>\n",
       "                \n",
       "        <div>\n",
       "            <p><b>SparkContext</b></p>\n",
       "\n",
       "            <p><a href=\"http://172.28.170.166:4041\">Spark UI</a></p>\n",
       "\n",
       "            <dl>\n",
       "              <dt>Version</dt>\n",
       "                <dd><code>v3.2.0</code></dd>\n",
       "              <dt>Master</dt>\n",
       "                <dd><code>local[1]</code></dd>\n",
       "              <dt>AppName</dt>\n",
       "                <dd><code>my1stSpark</code></dd>\n",
       "            </dl>\n",
       "        </div>\n",
       "        \n",
       "            </div>\n",
       "        "
      ],
      "text/plain": [
       "<pyspark.sql.session.SparkSession at 0x7f7357c36fd0>"
      ]
     },
     "execution_count": 11,
     "metadata": {},
     "output_type": "execute_result"
    }
   ],
   "source": [
    "from pyspark.sql import SparkSession\n",
    "spark = SparkSession.builder.master(\"local[1]\").appName(\"my1stSpark\").getOrCreate()\n",
    "spark"
   ]
  },
  {
   "cell_type": "markdown",
   "id": "d766600c",
   "metadata": {},
   "source": [
    "## RDD의 작동원리\n",
    "- 데이터 --> Transformation 메서드 활용 (lambda 함수 활용) --> Action 메서드 활용\n",
    "- PairRDD : 값이 Dictionary + 튜플처럼 저장됨"
   ]
  },
  {
   "cell_type": "code",
   "execution_count": 7,
   "id": "7df0d9c6",
   "metadata": {},
   "outputs": [
    {
     "data": {
      "text/plain": [
       "['A', 'B', 'C']"
      ]
     },
     "execution_count": 7,
     "metadata": {},
     "output_type": "execute_result"
    }
   ],
   "source": [
    "# Dictionary\n",
    "temp_dict = {\n",
    "    \"name\" : [\"A\", \"B\", \"C\"]\n",
    "}\n",
    "temp_dict[\"name\"]"
   ]
  },
  {
   "cell_type": "code",
   "execution_count": 8,
   "id": "899fb714",
   "metadata": {},
   "outputs": [
    {
     "data": {
      "text/plain": [
       "(1, 2, 3, 4)"
      ]
     },
     "execution_count": 8,
     "metadata": {},
     "output_type": "execute_result"
    }
   ],
   "source": [
    "# Tuple\n",
    "temp_tuple = (1,2,3,4)\n",
    "temp_tuple"
   ]
  },
  {
   "cell_type": "code",
   "execution_count": 9,
   "id": "50651f94",
   "metadata": {
    "scrolled": true
   },
   "outputs": [
    {
     "data": {
      "text/plain": [
       "[('python', 10),\n",
       " ('javascript', 5),\n",
       " ('java', 20),\n",
       " ('python', 5),\n",
       " ('R', 5),\n",
       " ('java', 10)]"
      ]
     },
     "execution_count": 9,
     "metadata": {},
     "output_type": "execute_result"
    }
   ],
   "source": [
    "# 프로그래밍 수강생 조사 (PairRDD 형태)\n",
    "data = [('python', 10),('javascript',5),('java',20),('python', 5),('R',5),('java',10)]\n",
    "data"
   ]
  },
  {
   "cell_type": "markdown",
   "id": "e0fba547",
   "metadata": {},
   "source": [
    "## PairRDD 생성"
   ]
  },
  {
   "cell_type": "code",
   "execution_count": 13,
   "id": "71cd0efa",
   "metadata": {},
   "outputs": [
    {
     "name": "stdout",
     "output_type": "stream",
     "text": [
      "ParallelCollectionRDD[1] at readRDDFromFile at PythonRDD.scala:274\n",
      "<class 'pyspark.rdd.RDD'>\n",
      "[('python', 10), ('javascript', 5), ('java', 20), ('python', 5), ('R', 5), ('java', 10)]\n"
     ]
    },
    {
     "name": "stderr",
     "output_type": "stream",
     "text": [
      "\r",
      "[Stage 0:>                                                          (0 + 1) / 1]\r",
      "\r",
      "                                                                                \r"
     ]
    }
   ],
   "source": [
    "regi_lan = spark.sparkContext.parallelize(data)\n",
    "print(regi_lan)\n",
    "print(type(regi_lan))\n",
    "\n",
    "# Action Method\n",
    "print(regi_lan.collect())"
   ]
  },
  {
   "cell_type": "markdown",
   "id": "b1e8b61e",
   "metadata": {},
   "source": [
    "### PairRDD 메서드 종류\n",
    "- 참조 : https://spark.apache.org/docs/latest/rdd-programming-guide.html#rdd-operations --> PairRDD 찾기"
   ]
  },
  {
   "cell_type": "markdown",
   "id": "754baee3",
   "metadata": {},
   "source": [
    "### groupbyKey()\n",
    "- 참조 : https://spark.apache.org/docs/latest/api/python/reference/api/pyspark.RDD.groupByKey.html#pyspark.RDD.groupByKey "
   ]
  },
  {
   "cell_type": "code",
   "execution_count": 14,
   "id": "8107b3cf",
   "metadata": {},
   "outputs": [
    {
     "name": "stderr",
     "output_type": "stream",
     "text": [
      "\r",
      "[Stage 1:>                                                          (0 + 1) / 1]\r"
     ]
    },
    {
     "name": "stdout",
     "output_type": "stream",
     "text": [
      "python --> [10, 5]\n",
      "javascript --> [5]\n",
      "java --> [20, 10]\n",
      "R --> [5]\n"
     ]
    },
    {
     "name": "stderr",
     "output_type": "stream",
     "text": [
      "\r",
      "                                                                                \r"
     ]
    }
   ],
   "source": [
    "group_rdd = regi_lan.groupByKey().collect()\n",
    "for keys, values in group_rdd :\n",
    "    print(keys, \"-->\", list(values))"
   ]
  },
  {
   "cell_type": "code",
   "execution_count": 15,
   "id": "555b797f",
   "metadata": {},
   "outputs": [
    {
     "data": {
      "text/plain": [
       "[('R', 1), ('java', 2), ('javascript', 1), ('python', 2)]"
      ]
     },
     "execution_count": 15,
     "metadata": {},
     "output_type": "execute_result"
    }
   ],
   "source": [
    "sorted(regi_lan.groupByKey().mapValues(len).collect())"
   ]
  },
  {
   "cell_type": "code",
   "execution_count": 16,
   "id": "0b6b6362",
   "metadata": {
    "scrolled": false
   },
   "outputs": [
    {
     "data": {
      "text/plain": [
       "[('R', [5]), ('java', [20, 10]), ('javascript', [5]), ('python', [10, 5])]"
      ]
     },
     "execution_count": 16,
     "metadata": {},
     "output_type": "execute_result"
    }
   ],
   "source": [
    "sorted(regi_lan.groupByKey().mapValues(list).collect())"
   ]
  },
  {
   "cell_type": "markdown",
   "id": "853b5de0",
   "metadata": {},
   "source": [
    "### sortByKey(\n",
    "- 참조 : https://spark.apache.org/docs/latest/api/python/reference/api/pyspark.RDD.sortByKey.html?highlight=sortbykey"
   ]
  },
  {
   "cell_type": "code",
   "execution_count": 17,
   "id": "f4d6e6ed",
   "metadata": {
    "scrolled": true
   },
   "outputs": [
    {
     "name": "stdout",
     "output_type": "stream",
     "text": [
      "[('R', 5), ('java', 20), ('java', 10), ('javascript', 5), ('python', 10), ('python', 5)]\n"
     ]
    }
   ],
   "source": [
    "print(regi_lan.sortByKey().collect())"
   ]
  },
  {
   "cell_type": "code",
   "execution_count": 18,
   "id": "b69871be",
   "metadata": {},
   "outputs": [
    {
     "name": "stdout",
     "output_type": "stream",
     "text": [
      "[('python', 10), ('python', 5), ('javascript', 5), ('java', 20), ('java', 10), ('R', 5)]\n"
     ]
    }
   ],
   "source": [
    "print(regi_lan.sortByKey(ascending=False).collect())"
   ]
  },
  {
   "cell_type": "markdown",
   "id": "2b348d52",
   "metadata": {},
   "source": [
    "### reduceByKey()\n",
    "- 사칙연산\n",
    "- lambda 함수 사용 필요\n",
    "- 참조 : https://spark.apache.org/docs/latest/api/python/reference/api/pyspark.RDD.reduceByKey.html?highlight=reducebykey"
   ]
  },
  {
   "cell_type": "code",
   "execution_count": 19,
   "id": "1f975de4",
   "metadata": {},
   "outputs": [
    {
     "data": {
      "text/plain": [
       "[('python', 15), ('javascript', 5), ('java', 30), ('R', 5)]"
      ]
     },
     "execution_count": 19,
     "metadata": {},
     "output_type": "execute_result"
    }
   ],
   "source": [
    "regi_lan.reduceByKey(lambda x1, x2 : x1+x2).collect()"
   ]
  },
  {
   "cell_type": "code",
   "execution_count": 20,
   "id": "c91962e7",
   "metadata": {},
   "outputs": [
    {
     "data": {
      "text/plain": [
       "[('python', 5), ('javascript', 5), ('java', 10), ('R', 5)]"
      ]
     },
     "execution_count": 20,
     "metadata": {},
     "output_type": "execute_result"
    }
   ],
   "source": [
    "regi_lan.reduceByKey(lambda x1, x2 : x1-x2).collect()"
   ]
  },
  {
   "cell_type": "code",
   "execution_count": 21,
   "id": "ebfc6dc4",
   "metadata": {},
   "outputs": [
    {
     "data": {
      "text/plain": [
       "[('python', 50), ('javascript', 5), ('java', 200), ('R', 5)]"
      ]
     },
     "execution_count": 21,
     "metadata": {},
     "output_type": "execute_result"
    }
   ],
   "source": [
    "regi_lan.reduceByKey(lambda x1, x2 : x1*x2).collect()"
   ]
  },
  {
   "cell_type": "code",
   "execution_count": 22,
   "id": "1d749592",
   "metadata": {},
   "outputs": [
    {
     "data": {
      "text/plain": [
       "[('python', 2.0), ('javascript', 5), ('java', 2.0), ('R', 5)]"
      ]
     },
     "execution_count": 22,
     "metadata": {},
     "output_type": "execute_result"
    }
   ],
   "source": [
    "regi_lan.reduceByKey(lambda x1, x2 : x1/x2).collect()"
   ]
  }
 ],
 "metadata": {
  "kernelspec": {
   "display_name": "Python 3 (ipykernel)",
   "language": "python",
   "name": "python3"
  },
  "language_info": {
   "codemirror_mode": {
    "name": "ipython",
    "version": 3
   },
   "file_extension": ".py",
   "mimetype": "text/x-python",
   "name": "python",
   "nbconvert_exporter": "python",
   "pygments_lexer": "ipython3",
   "version": "3.8.0"
  }
 },
 "nbformat": 4,
 "nbformat_minor": 5
}
