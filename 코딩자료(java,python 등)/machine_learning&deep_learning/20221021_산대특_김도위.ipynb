{
 "cells": [
  {
   "cell_type": "markdown",
   "id": "c90d8757",
   "metadata": {
    "id": "c90d8757",
    "papermill": {
     "duration": 0.097221,
     "end_time": "2022-04-12T03:17:30.871197",
     "exception": false,
     "start_time": "2022-04-12T03:17:30.773976",
     "status": "completed"
    },
    "tags": []
   },
   "source": [
    "# 프로젝트 개요\n",
    "- 강의명 : (산대특)_공공데이터 활용 빅데이터 분석 및 시각화 전문가 과정 육성\n",
    "- 교과목명 : 머신러닝 기초\n",
    "- 프로젝트 주제 : wine 데이터를 활용한 분류 모형 만들기\n",
    "- 프로젝트 마감일 : 2022년 10월 21일 금요일\n",
    "- 수강생명 : 김도위"
   ]
  },
  {
   "cell_type": "markdown",
   "id": "6IfcJyN5Z1JG",
   "metadata": {
    "id": "6IfcJyN5Z1JG"
   },
   "source": [
    "## 평가 1. 데이터 수집 (10점)\n",
    "- 와인 데이터셋을 판다스 데이터 프레임으로 불러들인다. \n",
    "- Describe 함수를 사용하여 각 변수의 평균과 표준편차를 구한다. \n",
    "  + alcohol (평균/표준편차)\n",
    "  + sugar (평균/표준편차)\n",
    "  + pH (평균/표준편차)"
   ]
  },
  {
   "cell_type": "markdown",
   "id": "aqsALuASkLxl",
   "metadata": {
    "id": "aqsALuASkLxl"
   },
   "source": [
    "- 와인 데이터 불러오기"
   ]
  },
  {
   "cell_type": "code",
   "execution_count": 272,
   "id": "5gGJnUl6eR-m",
   "metadata": {
    "colab": {
     "base_uri": "https://localhost:8080/",
     "height": 424
    },
    "id": "5gGJnUl6eR-m",
    "outputId": "2f522a3e-bbd8-445f-a67f-85d8448a8477"
   },
   "outputs": [
    {
     "data": {
      "text/html": [
       "\n",
       "  <div id=\"df-a774d88c-8120-42ca-af94-3a4323d50003\">\n",
       "    <div class=\"colab-df-container\">\n",
       "      <div>\n",
       "<style scoped>\n",
       "    .dataframe tbody tr th:only-of-type {\n",
       "        vertical-align: middle;\n",
       "    }\n",
       "\n",
       "    .dataframe tbody tr th {\n",
       "        vertical-align: top;\n",
       "    }\n",
       "\n",
       "    .dataframe thead th {\n",
       "        text-align: right;\n",
       "    }\n",
       "</style>\n",
       "<table border=\"1\" class=\"dataframe\">\n",
       "  <thead>\n",
       "    <tr style=\"text-align: right;\">\n",
       "      <th></th>\n",
       "      <th>alcohol</th>\n",
       "      <th>sugar</th>\n",
       "      <th>pH</th>\n",
       "      <th>class</th>\n",
       "    </tr>\n",
       "  </thead>\n",
       "  <tbody>\n",
       "    <tr>\n",
       "      <th>0</th>\n",
       "      <td>9.4</td>\n",
       "      <td>1.9</td>\n",
       "      <td>3.51</td>\n",
       "      <td>0.0</td>\n",
       "    </tr>\n",
       "    <tr>\n",
       "      <th>1</th>\n",
       "      <td>9.8</td>\n",
       "      <td>2.6</td>\n",
       "      <td>3.20</td>\n",
       "      <td>0.0</td>\n",
       "    </tr>\n",
       "    <tr>\n",
       "      <th>2</th>\n",
       "      <td>9.8</td>\n",
       "      <td>2.3</td>\n",
       "      <td>3.26</td>\n",
       "      <td>0.0</td>\n",
       "    </tr>\n",
       "    <tr>\n",
       "      <th>3</th>\n",
       "      <td>9.8</td>\n",
       "      <td>1.9</td>\n",
       "      <td>3.16</td>\n",
       "      <td>0.0</td>\n",
       "    </tr>\n",
       "    <tr>\n",
       "      <th>4</th>\n",
       "      <td>9.4</td>\n",
       "      <td>1.9</td>\n",
       "      <td>3.51</td>\n",
       "      <td>0.0</td>\n",
       "    </tr>\n",
       "    <tr>\n",
       "      <th>...</th>\n",
       "      <td>...</td>\n",
       "      <td>...</td>\n",
       "      <td>...</td>\n",
       "      <td>...</td>\n",
       "    </tr>\n",
       "    <tr>\n",
       "      <th>6492</th>\n",
       "      <td>11.2</td>\n",
       "      <td>1.6</td>\n",
       "      <td>3.27</td>\n",
       "      <td>1.0</td>\n",
       "    </tr>\n",
       "    <tr>\n",
       "      <th>6493</th>\n",
       "      <td>9.6</td>\n",
       "      <td>8.0</td>\n",
       "      <td>3.15</td>\n",
       "      <td>1.0</td>\n",
       "    </tr>\n",
       "    <tr>\n",
       "      <th>6494</th>\n",
       "      <td>9.4</td>\n",
       "      <td>1.2</td>\n",
       "      <td>2.99</td>\n",
       "      <td>1.0</td>\n",
       "    </tr>\n",
       "    <tr>\n",
       "      <th>6495</th>\n",
       "      <td>12.8</td>\n",
       "      <td>1.1</td>\n",
       "      <td>3.34</td>\n",
       "      <td>1.0</td>\n",
       "    </tr>\n",
       "    <tr>\n",
       "      <th>6496</th>\n",
       "      <td>11.8</td>\n",
       "      <td>0.8</td>\n",
       "      <td>3.26</td>\n",
       "      <td>1.0</td>\n",
       "    </tr>\n",
       "  </tbody>\n",
       "</table>\n",
       "<p>6497 rows × 4 columns</p>\n",
       "</div>\n",
       "      <button class=\"colab-df-convert\" onclick=\"convertToInteractive('df-a774d88c-8120-42ca-af94-3a4323d50003')\"\n",
       "              title=\"Convert this dataframe to an interactive table.\"\n",
       "              style=\"display:none;\">\n",
       "        \n",
       "  <svg xmlns=\"http://www.w3.org/2000/svg\" height=\"24px\"viewBox=\"0 0 24 24\"\n",
       "       width=\"24px\">\n",
       "    <path d=\"M0 0h24v24H0V0z\" fill=\"none\"/>\n",
       "    <path d=\"M18.56 5.44l.94 2.06.94-2.06 2.06-.94-2.06-.94-.94-2.06-.94 2.06-2.06.94zm-11 1L8.5 8.5l.94-2.06 2.06-.94-2.06-.94L8.5 2.5l-.94 2.06-2.06.94zm10 10l.94 2.06.94-2.06 2.06-.94-2.06-.94-.94-2.06-.94 2.06-2.06.94z\"/><path d=\"M17.41 7.96l-1.37-1.37c-.4-.4-.92-.59-1.43-.59-.52 0-1.04.2-1.43.59L10.3 9.45l-7.72 7.72c-.78.78-.78 2.05 0 2.83L4 21.41c.39.39.9.59 1.41.59.51 0 1.02-.2 1.41-.59l7.78-7.78 2.81-2.81c.8-.78.8-2.07 0-2.86zM5.41 20L4 18.59l7.72-7.72 1.47 1.35L5.41 20z\"/>\n",
       "  </svg>\n",
       "      </button>\n",
       "      \n",
       "  <style>\n",
       "    .colab-df-container {\n",
       "      display:flex;\n",
       "      flex-wrap:wrap;\n",
       "      gap: 12px;\n",
       "    }\n",
       "\n",
       "    .colab-df-convert {\n",
       "      background-color: #E8F0FE;\n",
       "      border: none;\n",
       "      border-radius: 50%;\n",
       "      cursor: pointer;\n",
       "      display: none;\n",
       "      fill: #1967D2;\n",
       "      height: 32px;\n",
       "      padding: 0 0 0 0;\n",
       "      width: 32px;\n",
       "    }\n",
       "\n",
       "    .colab-df-convert:hover {\n",
       "      background-color: #E2EBFA;\n",
       "      box-shadow: 0px 1px 2px rgba(60, 64, 67, 0.3), 0px 1px 3px 1px rgba(60, 64, 67, 0.15);\n",
       "      fill: #174EA6;\n",
       "    }\n",
       "\n",
       "    [theme=dark] .colab-df-convert {\n",
       "      background-color: #3B4455;\n",
       "      fill: #D2E3FC;\n",
       "    }\n",
       "\n",
       "    [theme=dark] .colab-df-convert:hover {\n",
       "      background-color: #434B5C;\n",
       "      box-shadow: 0px 1px 3px 1px rgba(0, 0, 0, 0.15);\n",
       "      filter: drop-shadow(0px 1px 2px rgba(0, 0, 0, 0.3));\n",
       "      fill: #FFFFFF;\n",
       "    }\n",
       "  </style>\n",
       "\n",
       "      <script>\n",
       "        const buttonEl =\n",
       "          document.querySelector('#df-a774d88c-8120-42ca-af94-3a4323d50003 button.colab-df-convert');\n",
       "        buttonEl.style.display =\n",
       "          google.colab.kernel.accessAllowed ? 'block' : 'none';\n",
       "\n",
       "        async function convertToInteractive(key) {\n",
       "          const element = document.querySelector('#df-a774d88c-8120-42ca-af94-3a4323d50003');\n",
       "          const dataTable =\n",
       "            await google.colab.kernel.invokeFunction('convertToInteractive',\n",
       "                                                     [key], {});\n",
       "          if (!dataTable) return;\n",
       "\n",
       "          const docLinkHtml = 'Like what you see? Visit the ' +\n",
       "            '<a target=\"_blank\" href=https://colab.research.google.com/notebooks/data_table.ipynb>data table notebook</a>'\n",
       "            + ' to learn more about interactive tables.';\n",
       "          element.innerHTML = '';\n",
       "          dataTable['output_type'] = 'display_data';\n",
       "          await google.colab.output.renderOutput(dataTable, element);\n",
       "          const docLink = document.createElement('div');\n",
       "          docLink.innerHTML = docLinkHtml;\n",
       "          element.appendChild(docLink);\n",
       "        }\n",
       "      </script>\n",
       "    </div>\n",
       "  </div>\n",
       "  "
      ],
      "text/plain": [
       "      alcohol  sugar    pH  class\n",
       "0         9.4    1.9  3.51    0.0\n",
       "1         9.8    2.6  3.20    0.0\n",
       "2         9.8    2.3  3.26    0.0\n",
       "3         9.8    1.9  3.16    0.0\n",
       "4         9.4    1.9  3.51    0.0\n",
       "...       ...    ...   ...    ...\n",
       "6492     11.2    1.6  3.27    1.0\n",
       "6493      9.6    8.0  3.15    1.0\n",
       "6494      9.4    1.2  2.99    1.0\n",
       "6495     12.8    1.1  3.34    1.0\n",
       "6496     11.8    0.8  3.26    1.0\n",
       "\n",
       "[6497 rows x 4 columns]"
      ]
     },
     "execution_count": 272,
     "metadata": {},
     "output_type": "execute_result"
    }
   ],
   "source": [
    "# 코드\n",
    "# 와인 데이터를 불러오기\n",
    "import pandas as pd\n",
    "wine = pd.read_csv('https://bit.ly/wine_csv_data')\n",
    "wine"
   ]
  },
  {
   "cell_type": "markdown",
   "id": "7C5-8FuCkN0t",
   "metadata": {
    "id": "7C5-8FuCkN0t"
   },
   "source": [
    "- 와인 데이터의 각 변수의 평균과 표준편차"
   ]
  },
  {
   "cell_type": "code",
   "execution_count": 273,
   "id": "XczSy_qTkJuF",
   "metadata": {
    "colab": {
     "base_uri": "https://localhost:8080/",
     "height": 300
    },
    "id": "XczSy_qTkJuF",
    "outputId": "79956d7f-c049-4cc2-9eb4-213bf56119de"
   },
   "outputs": [
    {
     "data": {
      "text/html": [
       "\n",
       "  <div id=\"df-30a777a5-d981-4352-8f09-de38f4773fed\">\n",
       "    <div class=\"colab-df-container\">\n",
       "      <div>\n",
       "<style scoped>\n",
       "    .dataframe tbody tr th:only-of-type {\n",
       "        vertical-align: middle;\n",
       "    }\n",
       "\n",
       "    .dataframe tbody tr th {\n",
       "        vertical-align: top;\n",
       "    }\n",
       "\n",
       "    .dataframe thead th {\n",
       "        text-align: right;\n",
       "    }\n",
       "</style>\n",
       "<table border=\"1\" class=\"dataframe\">\n",
       "  <thead>\n",
       "    <tr style=\"text-align: right;\">\n",
       "      <th></th>\n",
       "      <th>alcohol</th>\n",
       "      <th>sugar</th>\n",
       "      <th>pH</th>\n",
       "      <th>class</th>\n",
       "    </tr>\n",
       "  </thead>\n",
       "  <tbody>\n",
       "    <tr>\n",
       "      <th>count</th>\n",
       "      <td>6497.000000</td>\n",
       "      <td>6497.000000</td>\n",
       "      <td>6497.000000</td>\n",
       "      <td>6497.000000</td>\n",
       "    </tr>\n",
       "    <tr>\n",
       "      <th>mean</th>\n",
       "      <td>10.491801</td>\n",
       "      <td>5.443235</td>\n",
       "      <td>3.218501</td>\n",
       "      <td>0.753886</td>\n",
       "    </tr>\n",
       "    <tr>\n",
       "      <th>std</th>\n",
       "      <td>1.192712</td>\n",
       "      <td>4.757804</td>\n",
       "      <td>0.160787</td>\n",
       "      <td>0.430779</td>\n",
       "    </tr>\n",
       "    <tr>\n",
       "      <th>min</th>\n",
       "      <td>8.000000</td>\n",
       "      <td>0.600000</td>\n",
       "      <td>2.720000</td>\n",
       "      <td>0.000000</td>\n",
       "    </tr>\n",
       "    <tr>\n",
       "      <th>25%</th>\n",
       "      <td>9.500000</td>\n",
       "      <td>1.800000</td>\n",
       "      <td>3.110000</td>\n",
       "      <td>1.000000</td>\n",
       "    </tr>\n",
       "    <tr>\n",
       "      <th>50%</th>\n",
       "      <td>10.300000</td>\n",
       "      <td>3.000000</td>\n",
       "      <td>3.210000</td>\n",
       "      <td>1.000000</td>\n",
       "    </tr>\n",
       "    <tr>\n",
       "      <th>75%</th>\n",
       "      <td>11.300000</td>\n",
       "      <td>8.100000</td>\n",
       "      <td>3.320000</td>\n",
       "      <td>1.000000</td>\n",
       "    </tr>\n",
       "    <tr>\n",
       "      <th>max</th>\n",
       "      <td>14.900000</td>\n",
       "      <td>65.800000</td>\n",
       "      <td>4.010000</td>\n",
       "      <td>1.000000</td>\n",
       "    </tr>\n",
       "  </tbody>\n",
       "</table>\n",
       "</div>\n",
       "      <button class=\"colab-df-convert\" onclick=\"convertToInteractive('df-30a777a5-d981-4352-8f09-de38f4773fed')\"\n",
       "              title=\"Convert this dataframe to an interactive table.\"\n",
       "              style=\"display:none;\">\n",
       "        \n",
       "  <svg xmlns=\"http://www.w3.org/2000/svg\" height=\"24px\"viewBox=\"0 0 24 24\"\n",
       "       width=\"24px\">\n",
       "    <path d=\"M0 0h24v24H0V0z\" fill=\"none\"/>\n",
       "    <path d=\"M18.56 5.44l.94 2.06.94-2.06 2.06-.94-2.06-.94-.94-2.06-.94 2.06-2.06.94zm-11 1L8.5 8.5l.94-2.06 2.06-.94-2.06-.94L8.5 2.5l-.94 2.06-2.06.94zm10 10l.94 2.06.94-2.06 2.06-.94-2.06-.94-.94-2.06-.94 2.06-2.06.94z\"/><path d=\"M17.41 7.96l-1.37-1.37c-.4-.4-.92-.59-1.43-.59-.52 0-1.04.2-1.43.59L10.3 9.45l-7.72 7.72c-.78.78-.78 2.05 0 2.83L4 21.41c.39.39.9.59 1.41.59.51 0 1.02-.2 1.41-.59l7.78-7.78 2.81-2.81c.8-.78.8-2.07 0-2.86zM5.41 20L4 18.59l7.72-7.72 1.47 1.35L5.41 20z\"/>\n",
       "  </svg>\n",
       "      </button>\n",
       "      \n",
       "  <style>\n",
       "    .colab-df-container {\n",
       "      display:flex;\n",
       "      flex-wrap:wrap;\n",
       "      gap: 12px;\n",
       "    }\n",
       "\n",
       "    .colab-df-convert {\n",
       "      background-color: #E8F0FE;\n",
       "      border: none;\n",
       "      border-radius: 50%;\n",
       "      cursor: pointer;\n",
       "      display: none;\n",
       "      fill: #1967D2;\n",
       "      height: 32px;\n",
       "      padding: 0 0 0 0;\n",
       "      width: 32px;\n",
       "    }\n",
       "\n",
       "    .colab-df-convert:hover {\n",
       "      background-color: #E2EBFA;\n",
       "      box-shadow: 0px 1px 2px rgba(60, 64, 67, 0.3), 0px 1px 3px 1px rgba(60, 64, 67, 0.15);\n",
       "      fill: #174EA6;\n",
       "    }\n",
       "\n",
       "    [theme=dark] .colab-df-convert {\n",
       "      background-color: #3B4455;\n",
       "      fill: #D2E3FC;\n",
       "    }\n",
       "\n",
       "    [theme=dark] .colab-df-convert:hover {\n",
       "      background-color: #434B5C;\n",
       "      box-shadow: 0px 1px 3px 1px rgba(0, 0, 0, 0.15);\n",
       "      filter: drop-shadow(0px 1px 2px rgba(0, 0, 0, 0.3));\n",
       "      fill: #FFFFFF;\n",
       "    }\n",
       "  </style>\n",
       "\n",
       "      <script>\n",
       "        const buttonEl =\n",
       "          document.querySelector('#df-30a777a5-d981-4352-8f09-de38f4773fed button.colab-df-convert');\n",
       "        buttonEl.style.display =\n",
       "          google.colab.kernel.accessAllowed ? 'block' : 'none';\n",
       "\n",
       "        async function convertToInteractive(key) {\n",
       "          const element = document.querySelector('#df-30a777a5-d981-4352-8f09-de38f4773fed');\n",
       "          const dataTable =\n",
       "            await google.colab.kernel.invokeFunction('convertToInteractive',\n",
       "                                                     [key], {});\n",
       "          if (!dataTable) return;\n",
       "\n",
       "          const docLinkHtml = 'Like what you see? Visit the ' +\n",
       "            '<a target=\"_blank\" href=https://colab.research.google.com/notebooks/data_table.ipynb>data table notebook</a>'\n",
       "            + ' to learn more about interactive tables.';\n",
       "          element.innerHTML = '';\n",
       "          dataTable['output_type'] = 'display_data';\n",
       "          await google.colab.output.renderOutput(dataTable, element);\n",
       "          const docLink = document.createElement('div');\n",
       "          docLink.innerHTML = docLinkHtml;\n",
       "          element.appendChild(docLink);\n",
       "        }\n",
       "      </script>\n",
       "    </div>\n",
       "  </div>\n",
       "  "
      ],
      "text/plain": [
       "           alcohol        sugar           pH        class\n",
       "count  6497.000000  6497.000000  6497.000000  6497.000000\n",
       "mean     10.491801     5.443235     3.218501     0.753886\n",
       "std       1.192712     4.757804     0.160787     0.430779\n",
       "min       8.000000     0.600000     2.720000     0.000000\n",
       "25%       9.500000     1.800000     3.110000     1.000000\n",
       "50%      10.300000     3.000000     3.210000     1.000000\n",
       "75%      11.300000     8.100000     3.320000     1.000000\n",
       "max      14.900000    65.800000     4.010000     1.000000"
      ]
     },
     "execution_count": 273,
     "metadata": {},
     "output_type": "execute_result"
    }
   ],
   "source": [
    "# Describe 함수를 통해 alcohol, sugar, pH 변수의 평균과 표준편차 등을 구함\n",
    "wine.describe()"
   ]
  },
  {
   "cell_type": "code",
   "execution_count": 274,
   "id": "j1csGs3ak07u",
   "metadata": {
    "colab": {
     "base_uri": "https://localhost:8080/"
    },
    "id": "j1csGs3ak07u",
    "outputId": "f9bd5545-73e4-48ad-c8a6-58387ef6de62"
   },
   "outputs": [
    {
     "name": "stdout",
     "output_type": "stream",
     "text": [
      "alcohol의 평균은: 10.491800831152839\n",
      "alcohol의 표준편차는: 1.1926199559167747\n"
     ]
    }
   ],
   "source": [
    "# alcohol 평균\n",
    "alcohol_mean = np.mean(wine['alcohol'])\n",
    "print('alcohol의 평균은:' , alcohol_mean)\n",
    "\n",
    "# alcohol 표준편차\n",
    "alcohol_std = np.std(wine['alcohol'])\n",
    "print('alcohol의 표준편차는:' ,alcohol_std)"
   ]
  },
  {
   "cell_type": "code",
   "execution_count": 275,
   "id": "83E7pEL9lLJl",
   "metadata": {
    "colab": {
     "base_uri": "https://localhost:8080/"
    },
    "id": "83E7pEL9lLJl",
    "outputId": "7cd8a128-0edb-40fa-ffc0-48e53747ffa6"
   },
   "outputs": [
    {
     "name": "stdout",
     "output_type": "stream",
     "text": [
      "sugar의 평균은: 5.443235339387409\n",
      "sugar의 표준편차는: 4.757437575159563\n"
     ]
    }
   ],
   "source": [
    "# sugar 평균\n",
    "sugar_mean = np.mean(wine['sugar'])\n",
    "print('sugar의 평균은:' ,sugar_mean)\n",
    "\n",
    "# sugar 표준편차\n",
    "sugar_std = np.std(wine['sugar'])\n",
    "print('sugar의 표준편차는:' ,sugar_std)"
   ]
  },
  {
   "cell_type": "code",
   "execution_count": 276,
   "id": "h6Zl7HLjlLkF",
   "metadata": {
    "colab": {
     "base_uri": "https://localhost:8080/"
    },
    "id": "h6Zl7HLjlLkF",
    "outputId": "b306d44a-fb0f-4c5b-f9d1-993beea804c7"
   },
   "outputs": [
    {
     "name": "stdout",
     "output_type": "stream",
     "text": [
      "pH의 평균은: 3.2185008465445586\n",
      "pH의 표준편차는: 0.16077482767043685\n"
     ]
    }
   ],
   "source": [
    "# pH 평균\n",
    "pH_mean = np.mean(wine['pH'])\n",
    "print('pH의 평균은:' ,pH_mean)\n",
    "\n",
    "# pH 표준편차\n",
    "pH_std = np.std(wine['pH'])\n",
    "print('pH의 표준편차는:' ,pH_std)"
   ]
  },
  {
   "cell_type": "markdown",
   "id": "_Zoqf8jPel8T",
   "metadata": {
    "id": "_Zoqf8jPel8T"
   },
   "source": [
    "## 평가 2. 데이터 시각화 (20점)\n",
    "- 종속변수를 기준으로 각 변수의 박스플롯을 작성한다. \n",
    "- 각 변수별 조합을 통해 산점도를 작성한다. \n",
    "- 점수\n",
    "  + 시각화 5개 20점 \n",
    "  + 시각화 3개 10점 \n",
    "  + 시각화 1개 5점"
   ]
  },
  {
   "cell_type": "markdown",
   "id": "NSCX8w0nj79F",
   "metadata": {
    "id": "NSCX8w0nj79F"
   },
   "source": [
    "- 각 변수의 박스플롯"
   ]
  },
  {
   "cell_type": "code",
   "execution_count": 277,
   "id": "4vMZfZEZexow",
   "metadata": {
    "colab": {
     "base_uri": "https://localhost:8080/",
     "height": 388
    },
    "id": "4vMZfZEZexow",
    "outputId": "d9ed5032-81a1-415d-a9ac-d16ef8b27765"
   },
   "outputs": [
    {
     "data": {
      "image/png": "[encoded data removed]",
      "text/plain": [
       "<Figure size 720x432 with 1 Axes>"
      ]
     },
     "metadata": {
      "needs_background": "light"
     },
     "output_type": "display_data"
    }
   ],
   "source": [
    "# 코드\n",
    "import matplotlib.pyplot as plt\n",
    "import seaborn as sns\n",
    "import numpy as np\n",
    "\n",
    "# seaborn 함수를 통해 alcohol의 박스플롯을 구함\n",
    "fig, ax = plt.subplots(figsize=(10,6))\n",
    "sns.boxplot(data=wine, x='class', y='alcohol')\n",
    "plt.show()"
   ]
  },
  {
   "cell_type": "code",
   "execution_count": 278,
   "id": "Ir6rp8D0YyJZ",
   "metadata": {
    "colab": {
     "base_uri": "https://localhost:8080/",
     "height": 388
    },
    "id": "Ir6rp8D0YyJZ",
    "outputId": "53661b3a-39e8-4e18-9620-2942b8c44600"
   },
   "outputs": [
    {
     "data": {
      "image/png": "[encoded data removed]",
      "text/plain": [
       "<Figure size 720x432 with 1 Axes>"
      ]
     },
     "metadata": {
      "needs_background": "light"
     },
     "output_type": "display_data"
    }
   ],
   "source": [
    "# seaborn 함수를 통해 sugar의 박스플롯을 구함\n",
    "fig, ax = plt.subplots(figsize=(10,6))\n",
    "sns.boxplot(data=wine, x='class', y='sugar')\n",
    "plt.show()"
   ]
  },
  {
   "cell_type": "code",
   "execution_count": 279,
   "id": "aLmfAqb0Yy-x",
   "metadata": {
    "colab": {
     "base_uri": "https://localhost:8080/",
     "height": 388
    },
    "id": "aLmfAqb0Yy-x",
    "outputId": "5e5c97c4-266e-4bff-c32f-bd288c5462cd"
   },
   "outputs": [
    {
     "data": {
      "image/png": "[encoded data removed]",
      "text/plain": [
       "<Figure size 720x432 with 1 Axes>"
      ]
     },
     "metadata": {
      "needs_background": "light"
     },
     "output_type": "display_data"
    }
   ],
   "source": [
    "# seaborn 함수를 통해 pH의 박스플롯을 구함\n",
    "fig, ax = plt.subplots(figsize=(10,6))\n",
    "sns.boxplot(data=wine, x='class', y='pH')\n",
    "plt.show()"
   ]
  },
  {
   "cell_type": "markdown",
   "id": "qDZ_ur34kAK9",
   "metadata": {
    "id": "qDZ_ur34kAK9"
   },
   "source": [
    "- 각 변수의 산점도와 종합 산점도"
   ]
  },
  {
   "cell_type": "code",
   "execution_count": 280,
   "id": "MCxTUEufH5ln",
   "metadata": {
    "colab": {
     "base_uri": "https://localhost:8080/",
     "height": 388
    },
    "id": "MCxTUEufH5ln",
    "outputId": "41c5e8c0-7fea-4785-ffa3-46f1d8b739f3"
   },
   "outputs": [
    {
     "data": {
      "image/png": "[encoded data removed]",
      "text/plain": [
       "<Figure size 720x432 with 1 Axes>"
      ]
     },
     "metadata": {
      "needs_background": "light"
     },
     "output_type": "display_data"
    }
   ],
   "source": [
    "# seaborn 함수를 통해 alcohol의 산점도를 구함\n",
    "fig, ax = plt.subplots(figsize=(10,6))\n",
    "sns.scatterplot(data=wine, x='class',y='alcohol')\n",
    "plt.show()"
   ]
  },
  {
   "cell_type": "code",
   "execution_count": 281,
   "id": "dGHtKy1cZ6Aw",
   "metadata": {
    "colab": {
     "base_uri": "https://localhost:8080/",
     "height": 388
    },
    "id": "dGHtKy1cZ6Aw",
    "outputId": "b97e71b1-ca85-4222-a567-500bce61280b"
   },
   "outputs": [
    {
     "data": {
      "image/png": "[encoded data removed]",
      "text/plain": [
       "<Figure size 720x432 with 1 Axes>"
      ]
     },
     "metadata": {
      "needs_background": "light"
     },
     "output_type": "display_data"
    }
   ],
   "source": [
    "# seaborn 함수를 통해 sugar의 산점도를 구함\n",
    "fig, ax = plt.subplots(figsize=(10,6))\n",
    "sns.scatterplot(data=wine, x='class',y='sugar')\n",
    "plt.show()"
   ]
  },
  {
   "cell_type": "code",
   "execution_count": 282,
   "id": "L9yT8vBbZVjo",
   "metadata": {
    "colab": {
     "base_uri": "https://localhost:8080/",
     "height": 388
    },
    "id": "L9yT8vBbZVjo",
    "outputId": "b3ba2b82-6597-42b4-e748-74c984080236"
   },
   "outputs": [
    {
     "data": {
      "image/png": "[encoded data removed]",
      "text/plain": [
       "<Figure size 720x432 with 1 Axes>"
      ]
     },
     "metadata": {
      "needs_background": "light"
     },
     "output_type": "display_data"
    }
   ],
   "source": [
    "# seaborn 함수를 통해 pH의 산점도를 구함\n",
    "fig, ax = plt.subplots(figsize=(10,6))\n",
    "sns.scatterplot(data=wine, x='class',y='pH')\n",
    "plt.show()"
   ]
  },
  {
   "cell_type": "code",
   "execution_count": 283,
   "id": "EEz6gim4ZRWx",
   "metadata": {
    "colab": {
     "base_uri": "https://localhost:8080/",
     "height": 388
    },
    "id": "EEz6gim4ZRWx",
    "outputId": "f36468ea-b29b-4626-ff54-7fa360eb1de3"
   },
   "outputs": [
    {
     "data": {
      "image/png": "[encoded data removed]",
      "text/plain": [
       "<Figure size 720x432 with 1 Axes>"
      ]
     },
     "metadata": {
      "needs_background": "light"
     },
     "output_type": "display_data"
    }
   ],
   "source": [
    "# seaborn 함수를 통해 alcohol, sugar, pH의 종합 산점도를 구함\n",
    "fig, ax = plt.subplots(figsize=(10,6))\n",
    "sns.scatterplot(data=wine, x='class',y='sugar')\n",
    "sns.scatterplot(data=wine, x='class',y='pH')\n",
    "sns.scatterplot(data=wine, x='class',y='alcohol')\n",
    "plt.show()"
   ]
  },
  {
   "cell_type": "markdown",
   "id": "EIabeaETfDTL",
   "metadata": {
    "id": "EIabeaETfDTL"
   },
   "source": [
    "## 평가 3. 피처 공학 및 데이터 분리 (20점)\n",
    "- 교차검증을 위한 데이터세트를 준비한다. \n",
    "- 데이터 표준화를 진행한다. "
   ]
  },
  {
   "cell_type": "markdown",
   "id": "uehsOIMpj2rN",
   "metadata": {
    "id": "uehsOIMpj2rN"
   },
   "source": [
    "- 데이터 세트 분리"
   ]
  },
  {
   "cell_type": "code",
   "execution_count": 284,
   "id": "TFmvJbmSfeQ3",
   "metadata": {
    "colab": {
     "base_uri": "https://localhost:8080/"
    },
    "id": "TFmvJbmSfeQ3",
    "outputId": "307abc6e-bcc5-4b9a-9fe8-61f9ee559f37"
   },
   "outputs": [
    {
     "data": {
      "text/plain": [
       "((5197, 3), (1300, 3), (5197,), (1300,))"
      ]
     },
     "execution_count": 284,
     "metadata": {},
     "output_type": "execute_result"
    }
   ],
   "source": [
    "# 코드\n",
    "# 와인 데이터의 종속변수와 독립변수를 numpy 배열로 변경함\n",
    "wine_data = wine[['alcohol','sugar','pH']].to_numpy()\n",
    "wine_target = wine['class'].to_numpy()\n",
    "\n",
    "# 와인 데이터의 종속변수와 독립변수를 train 세트와 test세트로 분리함\n",
    "from sklearn.model_selection import train_test_split\n",
    "train_input, test_input, train_target, test_target = train_test_split (\n",
    "    wine_data, wine_target, test_size=0.2,random_state=42\n",
    ")\n",
    "train_input.shape, test_input.shape, train_target.shape, test_target.shape"
   ]
  },
  {
   "cell_type": "markdown",
   "id": "n23wrLyBj4IN",
   "metadata": {
    "id": "n23wrLyBj4IN"
   },
   "source": [
    "- 데이터 표준화"
   ]
  },
  {
   "cell_type": "code",
   "execution_count": 285,
   "id": "NjNMnM9COP2c",
   "metadata": {
    "id": "NjNMnM9COP2c"
   },
   "outputs": [],
   "source": [
    "# 와인 데이터의 종속변수의 각 단위를 표준화함\n",
    "from sklearn.preprocessing import StandardScaler\n",
    "\n",
    "ss = StandardScaler()\n",
    "ss.fit(train_input)\n",
    "\n",
    "train_scaled = ss.transform(train_input)\n",
    "test_scaled = ss.transform(test_input)"
   ]
  },
  {
   "cell_type": "markdown",
   "id": "04-1_3lNfduH",
   "metadata": {
    "id": "04-1_3lNfduH"
   },
   "source": [
    "## 평가 4. 머신러닝 모델링 (40점)\n",
    "- 분류 모형을 만들기 위해 다양한 알고리즘을 적용할 수 있다. \n",
    "- 분류 모형을 만들기 위해 하이퍼파라미터를 적용할 수 있다.\n",
    "- 채점기준\n",
    "  + 모델 3개 개발 + 각 모델 하이퍼 적용 : 40점\n",
    "  + 모델 2개 개발 + 각 모델 하이퍼 적용 : 30점\n",
    "  + 모델 1개 개발 + 각 모델 하이퍼 적용 : 20점\n",
    "  + 모델 N개 개발 + 하이퍼파라미터 미 적용 시 20점"
   ]
  },
  {
   "cell_type": "markdown",
   "id": "fGK7E_oJjYZ-",
   "metadata": {
    "id": "fGK7E_oJjYZ-"
   },
   "source": [
    "- K-최근접 이웃 회귀 모델"
   ]
  },
  {
   "cell_type": "code",
   "execution_count": 286,
   "id": "iiO80-k3gEYn",
   "metadata": {
    "colab": {
     "base_uri": "https://localhost:8080/"
    },
    "id": "iiO80-k3gEYn",
    "outputId": "e9c806de-c0f0-4ec3-bd27-2bf2b6ac28dc"
   },
   "outputs": [
    {
     "name": "stdout",
     "output_type": "stream",
     "text": [
      "0.3757793703335023\n",
      "0.36798552762762793\n"
     ]
    }
   ],
   "source": [
    "# 코드\n",
    "# K-최근접 이웃 회귀 모델로 분류 모형 만듬\n",
    "from sklearn.neighbors import KNeighborsRegressor\n",
    "\n",
    "knr = KNeighborsRegressor(n_neighbors=90) # 하이퍼파라미터를 적용함\n",
    "knr.fit(train_scaled, train_target)\n",
    "\n",
    "# 모델 평가를 산출함\n",
    "print(knr.score(train_scaled, train_target))\n",
    "print(knr.score(test_scaled, test_target))"
   ]
  },
  {
   "cell_type": "code",
   "execution_count": 287,
   "id": "wLtvGyUEUbca",
   "metadata": {
    "colab": {
     "base_uri": "https://localhost:8080/"
    },
    "id": "wLtvGyUEUbca",
    "outputId": "b5666944-17b3-4f85-866a-cb61f1f0e3cd"
   },
   "outputs": [
    {
     "name": "stdout",
     "output_type": "stream",
     "text": [
      "0.8620357898787763\n",
      "0.8461538461538461\n"
     ]
    }
   ],
   "source": [
    "# 다른 K-최근접 이웃 회귀 모델로 분류 모형 만듬\n",
    "from sklearn.neighbors import KNeighborsClassifier\n",
    "\n",
    "kn = KNeighborsClassifier(n_neighbors=26) # 하이퍼파라미터를 적용함\n",
    "kn.fit(train_scaled, train_target)\n",
    "\n",
    "# 모델 평가를 산출함\n",
    "print(kn.score(train_scaled, train_target))\n",
    "print(kn.score(test_scaled, test_target))"
   ]
  },
  {
   "cell_type": "markdown",
   "id": "GQqOCw0EjgTu",
   "metadata": {
    "id": "GQqOCw0EjgTu"
   },
   "source": [
    "- 로지스틱회귀"
   ]
  },
  {
   "cell_type": "code",
   "execution_count": 288,
   "id": "pFaa2E97VGEj",
   "metadata": {
    "colab": {
     "base_uri": "https://localhost:8080/"
    },
    "id": "pFaa2E97VGEj",
    "outputId": "1795625b-7bbf-49cf-fc47-2f2d02d0f084"
   },
   "outputs": [
    {
     "name": "stdout",
     "output_type": "stream",
     "text": [
      "0.7802578410621512\n",
      "0.7769230769230769\n"
     ]
    }
   ],
   "source": [
    "# 로지스틱회귀 모델을 적용함\n",
    "from sklearn.linear_model import LogisticRegression\n",
    "\n",
    "lr = LogisticRegression(C=0.5) # 하이퍼파라미터를 적용함\n",
    "lr.fit(train_scaled, train_target)\n",
    "\n",
    "# 모델 평가를 산출함\n",
    "print(lr.score(train_scaled, train_target))\n",
    "print(lr.score(test_scaled, test_target))"
   ]
  },
  {
   "cell_type": "markdown",
   "id": "liIG89VbjlKi",
   "metadata": {
    "id": "liIG89VbjlKi"
   },
   "source": [
    "- 결정트리"
   ]
  },
  {
   "cell_type": "code",
   "execution_count": 289,
   "id": "QYStVUJ7W7SJ",
   "metadata": {
    "colab": {
     "base_uri": "https://localhost:8080/"
    },
    "id": "QYStVUJ7W7SJ",
    "outputId": "4f904841-2752-4a25-e4ca-dddfc9e51a53"
   },
   "outputs": [
    {
     "name": "stdout",
     "output_type": "stream",
     "text": [
      "0.8581873425226025\n"
     ]
    }
   ],
   "source": [
    "# 결정트리 모델을 통해 분류 모형 만듬\n",
    "from sklearn.tree import DecisionTreeClassifier\n",
    "from sklearn.model_selection import cross_validate # 교차 검증\n",
    "from sklearn.model_selection import StratifiedKFold # 교차 검증\n",
    "\n",
    "dt = DecisionTreeClassifier(random_state=42) \n",
    "\n",
    "splitter = StratifiedKFold(n_splits=10, shuffle=True, random_state=42)\n",
    "\n",
    "scores = cross_validate(dt, train_scaled, train_target, cv=splitter)\n",
    "\n",
    "\n",
    "print(np.mean(scores['test_score']))"
   ]
  },
  {
   "cell_type": "code",
   "execution_count": 290,
   "id": "TnaA_QS0XTdC",
   "metadata": {
    "colab": {
     "base_uri": "https://localhost:8080/"
    },
    "id": "TnaA_QS0XTdC",
    "outputId": "05af47cd-78a4-4259-d452-74cab46e3b95"
   },
   "outputs": [
    {
     "name": "stdout",
     "output_type": "stream",
     "text": [
      "{'max_depth': 7, 'min_impurity_decrease': 0.0001, 'min_samples_split': 92}\n",
      "0.8793534731575909\n",
      "0.8592307692307692\n"
     ]
    }
   ],
   "source": [
    "# 결정트리 모델을 통해 분류 모형 만듬\n",
    "from sklearn.tree import DecisionTreeClassifier\n",
    "from sklearn.model_selection import GridSearchCV # 직접 입력값을 통해 최적의 하이퍼 파라미터 값을 찾음\n",
    "\n",
    "dt = DecisionTreeClassifier(random_state=42)\n",
    "\n",
    "params = {'max_depth': [2,3,4,5,6,7],\n",
    "          'min_impurity_decrease' : np.arange(0.0001,0.001,0.01), # 노드 분할시, 불순도 감소, 최저량 지정\n",
    "          'min_samples_split' : range(2,100,10)\n",
    "          }\n",
    "\n",
    "gs = GridSearchCV(dt, params, n_jobs=-1)\n",
    "gs.fit(train_scaled, train_target)\n",
    "\n",
    "print(gs.best_params_) # 최적의 하이퍼 파라미터 값을 산출\n",
    "\n",
    "best_dt = gs.best_estimator_\n",
    "print(best_dt.score(train_scaled, train_target)) # 하이퍼 파라미터를 적용한 평가 산출\n",
    "print(best_dt.score(test_scaled, test_target)) # 하이퍼 파라미터를 적용한 test 평가 산출"
   ]
  },
  {
   "cell_type": "code",
   "execution_count": 291,
   "id": "7vSGvOinX04B",
   "metadata": {
    "colab": {
     "base_uri": "https://localhost:8080/"
    },
    "id": "7vSGvOinX04B",
    "outputId": "6c097635-0fd5-4a38-ee69-9c69ab4ed6ce"
   },
   "outputs": [
    {
     "name": "stdout",
     "output_type": "stream",
     "text": [
      "{'max_depth': 39, 'min_impurity_decrease': 0.00017787658410143285, 'min_samples_split': 22}\n",
      "0.9053299980758129\n",
      "0.8576923076923076\n"
     ]
    }
   ],
   "source": [
    "from sklearn.tree import DecisionTreeClassifier\n",
    "from sklearn.model_selection import RandomizedSearchCV # 무작위 산출값을 통해 최적의 하이퍼 파라미터 값을 찾음\n",
    "from scipy.stats import uniform, randint\n",
    "\n",
    "params = {'max_depth': randint(2,50), # 2 ~ 50 까지의 정수 산출\n",
    "          'min_impurity_decrease' : uniform(0.0001,0.1), # 노드 분할시, 불순도 감소, 최저량 지정, 0.0001 ~ 0.1 까지의 실수 산출\n",
    "          'min_samples_split' : randint(2,50) # 2 ~ 50 까지의 정수 산출\n",
    "          }\n",
    "\n",
    "# 무작위 산출값을 찾음\n",
    "rs = RandomizedSearchCV(dt, params, n_iter=100,random_state=42, n_jobs=-1)\n",
    "\n",
    "rs.fit(train_scaled,train_target)\n",
    "\n",
    "print(rs.best_params_) # 최적의 하이퍼 파라미터 값을 산출\n",
    "\n",
    "best_dt = rs.best_estimator_\n",
    "print(best_dt.score(train_scaled, train_target)) # 하이퍼 파라미터를 적용한 평가 산출\n",
    "print(best_dt.score(test_scaled, test_target)) # 하이퍼 파라미터를 적용한 test 평가 산출"
   ]
  },
  {
   "cell_type": "markdown",
   "id": "qKO5mPpcgFEz",
   "metadata": {
    "id": "qKO5mPpcgFEz"
   },
   "source": [
    "## 평가 5. 머신러닝 평가 (10점)\n",
    "- 훈련데이터 및 테스트 데이터의 정확도를 산출한다. \n",
    "- 정확도 산출 10점 / 미 산출 (0점)"
   ]
  },
  {
   "cell_type": "markdown",
   "id": "JIBLHSLjjpF2",
   "metadata": {
    "id": "JIBLHSLjjpF2"
   },
   "source": [
    "- K-최근접 이웃 회귀 모델"
   ]
  },
  {
   "cell_type": "code",
   "execution_count": 292,
   "id": "xZyXitTUgQUK",
   "metadata": {
    "colab": {
     "base_uri": "https://localhost:8080/"
    },
    "id": "xZyXitTUgQUK",
    "outputId": "387348ee-05c6-4f61-d6b4-cbe564c89ac6"
   },
   "outputs": [
    {
     "name": "stdout",
     "output_type": "stream",
     "text": [
      "0.3757793703335023\n",
      "0.36798552762762793\n",
      "------------------------------\n",
      "0.8620357898787763\n",
      "0.8461538461538461\n"
     ]
    }
   ],
   "source": [
    "# 코드\n",
    "# KNeighborsRegressor 모델 평가\n",
    "print(knr.score(train_scaled, train_target))\n",
    "print(knr.score(test_scaled, test_target))\n",
    "\n",
    "print('-'*30)\n",
    "\n",
    "# KNeighborsClassifier 모델 평가\n",
    "print(kn.score(train_scaled, train_target))\n",
    "print(kn.score(test_scaled, test_target))"
   ]
  },
  {
   "cell_type": "markdown",
   "id": "PC_8pXY8jtnO",
   "metadata": {
    "id": "PC_8pXY8jtnO"
   },
   "source": [
    "- 로지스틱 회귀"
   ]
  },
  {
   "cell_type": "code",
   "execution_count": 293,
   "id": "IEWoel6lbv2_",
   "metadata": {
    "colab": {
     "base_uri": "https://localhost:8080/"
    },
    "id": "IEWoel6lbv2_",
    "outputId": "225cea6e-a361-4715-8c66-df2f9aa7b7c2"
   },
   "outputs": [
    {
     "name": "stdout",
     "output_type": "stream",
     "text": [
      "0.7802578410621512\n",
      "0.7769230769230769\n"
     ]
    }
   ],
   "source": [
    "# LogisticRegression 모델 평가\n",
    "print(lr.score(train_scaled, train_target))\n",
    "print(lr.score(test_scaled, test_target))"
   ]
  },
  {
   "cell_type": "markdown",
   "id": "ZBXiWfzijvHt",
   "metadata": {
    "id": "ZBXiWfzijvHt"
   },
   "source": [
    "- 결정트리"
   ]
  },
  {
   "cell_type": "code",
   "execution_count": 294,
   "id": "tumQoREMeHih",
   "metadata": {
    "colab": {
     "base_uri": "https://localhost:8080/"
    },
    "id": "tumQoREMeHih",
    "outputId": "ab8cace0-f223-4d13-b17d-ad7713e53541"
   },
   "outputs": [
    {
     "name": "stdout",
     "output_type": "stream",
     "text": [
      "0.996921300750433\n",
      "0.8592307692307692\n"
     ]
    }
   ],
   "source": [
    "# DecisionTreeClassifier 모델 평가\n",
    "dt.fit(train_scaled,train_target)\n",
    "print(dt.score(train_scaled, train_target))\n",
    "print(dt.score(test_scaled, test_target))"
   ]
  }
 ],
 "metadata": {
  "colab": {
   "collapsed_sections": [],
   "provenance": []
  },
  "kernelspec": {
   "display_name": "Python 3 (ipykernel)",
   "language": "python",
   "name": "python3"
  },
  "language_info": {
   "codemirror_mode": {
    "name": "ipython",
    "version": 3
   },
   "file_extension": ".py",
   "mimetype": "text/x-python",
   "name": "python",
   "nbconvert_exporter": "python",
   "pygments_lexer": "ipython3",
   "version": "3.10.4"
  },
  "papermill": {
   "default_parameters": {},
   "duration": 137.030513,
   "end_time": "2022-04-12T03:19:39.192677",
   "environment_variables": {},
   "exception": null,
   "input_path": "__notebook__.ipynb",
   "output_path": "__notebook__.ipynb",
   "parameters": {},
   "start_time": "2022-04-12T03:17:22.162164",
   "version": "2.3.3"
  }
 },
 "nbformat": 4,
 "nbformat_minor": 5
}
