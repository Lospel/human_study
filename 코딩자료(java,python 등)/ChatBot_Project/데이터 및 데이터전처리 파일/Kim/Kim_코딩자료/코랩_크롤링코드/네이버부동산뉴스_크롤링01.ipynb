{
  "cells": [
    {
      "cell_type": "markdown",
      "metadata": {
        "id": "Lw7Mu86kivA-"
      },
      "source": [
        "### 라이브러리 불러오기"
      ]
    },
    {
      "cell_type": "code",
      "execution_count": 1,
      "metadata": {
        "id": "5vkrgkhgLrDs"
      },
      "outputs": [],
      "source": [
        "import requests\n",
        "from bs4 import BeautifulSoup"
      ]
    },
    {
      "cell_type": "markdown",
      "metadata": {
        "id": "_xTkJD7DcMhD"
      },
      "source": [
        "### 네이버부동산 주요뉴스 크롤링"
      ]
    },
    {
      "cell_type": "code",
      "execution_count": 2,
      "metadata": {
        "colab": {
          "base_uri": "https://localhost:8080/"
        },
        "id": "sRfRqF1qRG3P",
        "outputId": "8dc80480-7d97-40fc-c424-e4e0cac67087"
      },
      "outputs": [
        {
          "name": "stdout",
          "output_type": "stream",
          "text": [
            "[<dt><a class=\"NPI=a:title1,i:421_0006448366\" href=\"/news/newsRead.naver?type=headline&amp;bss_ymd=20221110&amp;prsco_id=421&amp;arti_id=0006448366\">\"공급기반 위축 막는다\"…안전진단·사...</a></dt>, <dt><a class=\"NPI=a:title2,i:119_0002656521\" href=\"/news/newsRead.naver?type=headline&amp;bss_ymd=20221110&amp;prsco_id=119&amp;arti_id=0002656521\">국토부, ‘공시가격 현실화 수정 계획...</a></dt>]\n"
          ]
        }
      ],
      "source": [
        "def crawling_sites(url):\n",
        "  response = requests.request(\"GET\", url)\n",
        "  soup = BeautifulSoup(response.content,'html.parser')\n",
        "  titles = soup.select(\"dl.news_list dt\")\n",
        "  print(titles)\n",
        "\n",
        "url = \"https://land.naver.com/news/headline.naver?bss_ymd=20221110\"\n",
        "crawling_sites(url)"
      ]
    },
    {
      "cell_type": "markdown",
      "metadata": {
        "id": "l09PTuUicQcS"
      },
      "source": [
        "### 주요뉴스 텍스트 크롤링"
      ]
    },
    {
      "cell_type": "code",
      "execution_count": 3,
      "metadata": {
        "colab": {
          "base_uri": "https://localhost:8080/"
        },
        "id": "CJVo_iobRvkK",
        "outputId": "5695ae5c-76f4-4d01-ebb8-4811dc68b56a"
      },
      "outputs": [
        {
          "name": "stdout",
          "output_type": "stream",
          "text": [
            "['\"공급기반 위축 막는다\"…안전진단·사...', '국토부, ‘공시가격 현실화 수정 계획...']\n"
          ]
        }
      ],
      "source": [
        "def crawling_sites2(url):\n",
        "  response = requests.request(\"GET\", url)\n",
        "  soup = BeautifulSoup(response.content,'html.parser')\n",
        "  titles = soup.select(\"dl.news_list a\")\n",
        "  places_title = []\n",
        "\n",
        "  for one in titles:\n",
        "    places_title.append(one.get_text())\n",
        "  \n",
        "  return places_title\n",
        "\n",
        "url = \"https://land.naver.com/news/headline.naver?bss_ymd=20221110\"\n",
        "print(crawling_sites2(url))"
      ]
    },
    {
      "cell_type": "markdown",
      "metadata": {
        "id": "e6xOY0s1cTgC"
      },
      "source": [
        "### 주요뉴스 url 크롤링"
      ]
    },
    {
      "cell_type": "code",
      "execution_count": 4,
      "metadata": {
        "colab": {
          "base_uri": "https://localhost:8080/"
        },
        "id": "-kehE5KUVsPI",
        "outputId": "5ba15de3-cf94-4fd1-fb58-5e6ccaa2f6c2"
      },
      "outputs": [
        {
          "data": {
            "text/plain": [
              "['/news/newsRead.naver?type=headline&bss_ymd=20221110&prsco_id=421&arti_id=0006448366',\n",
              " '/news/newsRead.naver?type=headline&bss_ymd=20221110&prsco_id=119&arti_id=0002656521']"
            ]
          },
          "execution_count": 4,
          "metadata": {},
          "output_type": "execute_result"
        }
      ],
      "source": [
        "def crawling_sites_url(url):\n",
        "  response = requests.request(\"GET\", url)\n",
        "  soup = BeautifulSoup(response.content,'html.parser')\n",
        "  titles = soup.select(\"dl.news_list a\")\n",
        "  places_url=[]\n",
        "\n",
        "  for i in titles:\n",
        "    places_url.append(i.attrs[\"href\"])\n",
        "  \n",
        "  return places_url\n",
        "\n",
        "url = \"https://land.naver.com/news/headline.naver?bss_ymd=20221110\"\n",
        "crawling_sites_url(url)"
      ]
    },
    {
      "cell_type": "markdown",
      "metadata": {
        "id": "CegmbmH-bmqn"
      },
      "source": [
        "### 네이버 부동산 주요뉴스 URL 가져오기"
      ]
    },
    {
      "cell_type": "code",
      "execution_count": 5,
      "metadata": {
        "colab": {
          "base_uri": "https://localhost:8080/"
        },
        "id": "tuTW4vQRbtM-",
        "outputId": "7afdf133-a403-4f78-a120-5caf252aab1e"
      },
      "outputs": [
        {
          "name": "stdout",
          "output_type": "stream",
          "text": [
            "['https://land.naver.com/news/newsRead.naver?type=headline&bss_ymd=&prsco_id=658&arti_id=0000024823', 'https://land.naver.com/news/newsRead.naver?type=headline&bss_ymd=&prsco_id=421&arti_id=0006448377']\n"
          ]
        }
      ],
      "source": [
        "def naver_sites_url(url):\n",
        "  response = requests.request(\"GET\", url)\n",
        "  soup = BeautifulSoup(response.content,'html.parser')\n",
        "  titles = soup.select(\"dt.photo a\")\n",
        "  places_url=[]\n",
        "\n",
        "  for i in titles:\n",
        "    places_url.append(\"https://land.naver.com\"+i.attrs[\"href\"])\n",
        "\n",
        "  print(places_url[:2]) \n",
        "\n",
        "url = \"https://land.naver.com/news/headline.naver\"\n",
        "naver_sites_url(url)"
      ]
    },
    {
      "cell_type": "markdown",
      "metadata": {
        "id": "UakfHij4eHxf"
      },
      "source": [
        "### 네이버 부동산 뉴스_핫이슈 URL 가져오기"
      ]
    },
    {
      "cell_type": "code",
      "execution_count": 6,
      "metadata": {
        "colab": {
          "base_uri": "https://localhost:8080/"
        },
        "id": "BEeJB21UeMCm",
        "outputId": "ef446e46-df34-484e-fda0-fd9902903053"
      },
      "outputs": [
        {
          "name": "stdout",
          "output_type": "stream",
          "text": [
            "['https://land.naver.com/news/newsRead.naver?type=issueView&isu_no=102372&prsco_id=119&arti_id=0002649398', 'https://land.naver.com/news/newsRead.naver?type=issueView&isu_no=102352&prsco_id=629&arti_id=0000173893']\n"
          ]
        }
      ],
      "source": [
        "# 핫이슈\n",
        "url = \"https://land.naver.com/news/hotIssue.naver\"\n",
        "naver_sites_url(url)"
      ]
    },
    {
      "cell_type": "markdown",
      "metadata": {
        "id": "t-2n11-bcZMp"
      },
      "source": [
        "### 부동산 뉴스 이미지 가져오기"
      ]
    },
    {
      "cell_type": "code",
      "execution_count": 7,
      "metadata": {
        "id": "skeBvUB-cbsr"
      },
      "outputs": [],
      "source": [
        "# from urllib.request import urlretrieve\n",
        "# import os\n",
        "# path_folder = '/content/drive/MyDrive/Colab Notebooks/산대특/챗봇프로젝트/챗봇_부동산_이미지/'\n",
        "\n",
        "# if not os.path.isdir(path_folder):\n",
        "#     os.mkdir(path_folder)\n",
        "\n",
        "# def crawling_sites_img(url):\n",
        "#   response = requests.request(\"GET\", url)\n",
        "#   soup = BeautifulSoup(response.content,'html.parser')\n",
        "#   news_thumbnail = soup.select('dt.photo img')\n",
        "#   link_thumbnail = []\n",
        "#   for img in news_thumbnail:\n",
        "#       link_thumbnail.append(img.attrs['src'])\n",
        "#   i = 0\n",
        "#   for link in link_thumbnail:          \n",
        "#     i += 1\n",
        "#     urlretrieve(link, path_folder + f'{i}.jpg')\n",
        "\n",
        "# url = \"https://land.naver.com/news/headline.naver\"\n",
        "# crawling_sites_img(url)"
      ]
    },
    {
      "cell_type": "markdown",
      "metadata": {
        "id": "BWnn_NZjN2pe"
      },
      "source": [
        "- 네이버 부동산 뉴스_주요뉴스 이미지 URL 가져오기"
      ]
    },
    {
      "cell_type": "code",
      "execution_count": 8,
      "metadata": {
        "colab": {
          "base_uri": "https://localhost:8080/"
        },
        "id": "_yC5d_koNaL2",
        "outputId": "21e81e17-6cbf-46d0-f791-a52ccbdb83e9"
      },
      "outputs": [
        {
          "name": "stdout",
          "output_type": "stream",
          "text": [
            "['https://s.pstatic.net/imgnews/image/thumb100/658/2022/11/10/24823.jpg', 'https://s.pstatic.net/imgnews/image/thumb100/421/2022/11/10/6448377.jpg']\n"
          ]
        }
      ],
      "source": [
        "def naver_main_img_url(url):\n",
        "  response = requests.request(\"GET\", url)\n",
        "  soup = BeautifulSoup(response.content,'html.parser')\n",
        "  news_thumbnail = soup.select('dt.photo img')\n",
        "  link_thumbnail = []\n",
        "  for img in news_thumbnail:\n",
        "      link_thumbnail.append(img.attrs['src'])\n",
        "  print(link_thumbnail[:2])\n",
        "url = \"https://land.naver.com/news/headline.naver?bss_ymd=20221110\"\n",
        "naver_main_img_url(url)"
      ]
    },
    {
      "cell_type": "markdown",
      "metadata": {
        "id": "BFald-DXOZ0e"
      },
      "source": [
        "- 네이버 부동산 뉴스_핫이슈 이미지 URL 가져오기"
      ]
    },
    {
      "cell_type": "code",
      "execution_count": 9,
      "metadata": {
        "colab": {
          "base_uri": "https://localhost:8080/"
        },
        "id": "uhAoMvM1Oc2v",
        "outputId": "deb02102-de3d-4b7d-b9e9-99015c16173a"
      },
      "outputs": [
        {
          "name": "stdout",
          "output_type": "stream",
          "text": [
            "['https://s.pstatic.net/imgnews/image/thumb100/119/2022/10/19/2649398.jpg', 'https://s.pstatic.net/imgnews/image/thumb100/629/2022/09/22/173893.jpg']\n"
          ]
        }
      ],
      "source": [
        "def naver_hotissue_img_url(url):\n",
        "  response = requests.request(\"GET\", url)\n",
        "  soup = BeautifulSoup(response.content,'html.parser')\n",
        "  news_thumbnail = soup.select('dt.photo img')\n",
        "  link_thumbnail = []\n",
        "  for img in news_thumbnail:\n",
        "      link_thumbnail.append(img.attrs['src'])\n",
        "  print(link_thumbnail[:2])\n",
        "url = \"https://land.naver.com/news/hotIssue.naver\"\n",
        "naver_hotissue_img_url(url)"
      ]
    },
    {
      "cell_type": "markdown",
      "metadata": {
        "id": "0tetlEw6O4mm"
      },
      "source": [
        "### 네이버 부동산 뉴스_지역별 뉴스 이미지 URL 가져오기"
      ]
    },
    {
      "cell_type": "code",
      "execution_count": 18,
      "metadata": {
        "colab": {
          "base_uri": "https://localhost:8080/"
        },
        "id": "dE8dgPV9O-De",
        "outputId": "4f62fd1b-eb31-4c03-b571-3b9e67be4732"
      },
      "outputs": [
        {
          "name": "stdout",
          "output_type": "stream",
          "text": [
            "['https://s.pstatic.net/imgnews/image/thumb100/421/2022/11/09/6446031.jpg', 'https://s.pstatic.net/imgnews/image/thumb100/003/2022/11/09/11526383.jpg']\n"
          ]
        }
      ],
      "source": [
        "# 서울\n",
        "def naver_region_img_url(url):\n",
        "  response = requests.request(\"GET\", url)\n",
        "  soup = BeautifulSoup(response.content,'html.parser')\n",
        "  news_thumbnail = soup.select('dt.photo img')\n",
        "  link_thumbnail = []\n",
        "  for img in news_thumbnail:\n",
        "      link_thumbnail.append(img.attrs['src'])\n",
        "  print(link_thumbnail[:2])\n",
        "Seoul = \"https://land.naver.com/news/region.naver?city_no=1100000000&dvsn_no=\"\n",
        "naver_region_img_url(Seoul)"
      ]
    },
    {
      "cell_type": "code",
      "execution_count": 19,
      "metadata": {
        "colab": {
          "base_uri": "https://localhost:8080/"
        },
        "id": "GuFfQSUdPaQn",
        "outputId": "ae025623-74e7-4432-cce7-9d00dd962477"
      },
      "outputs": [
        {
          "name": "stdout",
          "output_type": "stream",
          "text": [
            "['https://s.pstatic.net/imgnews/image/thumb100/022/2022/11/09/3752280.jpg', 'https://s.pstatic.net/imgnews/image/thumb100/014/2022/11/09/4925252.jpg']\n"
          ]
        }
      ],
      "source": [
        "# 경기\n",
        "Gyeonggi = \"https://land.naver.com/news/region.naver?city_no=4100000000&dvsn_no=\"\n",
        "naver_region_img_url(Gyeonggi)"
      ]
    },
    {
      "cell_type": "code",
      "execution_count": 20,
      "metadata": {
        "colab": {
          "base_uri": "https://localhost:8080/"
        },
        "id": "j8oKpZWVP7-X",
        "outputId": "74b0b202-d2f8-4a06-ed55-843d857f8731"
      },
      "outputs": [
        {
          "name": "stdout",
          "output_type": "stream",
          "text": [
            "['https://s.pstatic.net/imgnews/image/thumb100/009/2022/11/03/5039861.jpg', 'https://s.pstatic.net/imgnews/image/thumb100/011/2022/10/20/4112568.jpg']\n"
          ]
        }
      ],
      "source": [
        "# 인천\n",
        "Incheon = \"https://land.naver.com/news/region.naver?city_no=2800000000&dvsn_no=\"\n",
        "naver_region_img_url(Incheon)"
      ]
    },
    {
      "cell_type": "code",
      "execution_count": 21,
      "metadata": {
        "colab": {
          "base_uri": "https://localhost:8080/"
        },
        "id": "6v3qDlwsQH1X",
        "outputId": "06c1bd82-8fed-4f8d-9b31-160891af3b09"
      },
      "outputs": [
        {
          "name": "stdout",
          "output_type": "stream",
          "text": [
            "['https://s.pstatic.net/imgnews/image/thumb100/658/2022/09/09/19720.jpg', 'https://s.pstatic.net/imgnews/image/thumb100/014/2022/08/31/4891554.jpg']\n"
          ]
        }
      ],
      "source": [
        "# 부산\n",
        "Busan = \"https://land.naver.com/news/region.naver?city_no=2600000000&dvsn_no=\"\n",
        "naver_region_img_url(Busan)"
      ]
    },
    {
      "cell_type": "code",
      "execution_count": 22,
      "metadata": {
        "colab": {
          "base_uri": "https://localhost:8080/"
        },
        "id": "rU9M-5mRQQL-",
        "outputId": "cbacd359-bc85-4faa-8dc3-bc319b01de75"
      },
      "outputs": [
        {
          "name": "stdout",
          "output_type": "stream",
          "text": [
            "['https://s.pstatic.net/imgnews/image/thumb100/421/2022/05/04/6070807.jpg', 'https://s.pstatic.net/imgnews/image/thumb100/421/2022/03/14/5967079.jpg']\n"
          ]
        }
      ],
      "source": [
        "# 대전\n",
        "Daejeon = \"https://land.naver.com/news/region.naver?city_no=3000000000&dvsn_no=\"\n",
        "naver_region_img_url(Daejeon)"
      ]
    },
    {
      "cell_type": "code",
      "execution_count": 23,
      "metadata": {
        "colab": {
          "base_uri": "https://localhost:8080/"
        },
        "id": "nqzPwlEeQdzm",
        "outputId": "9e1d0ec6-eb81-476d-ec78-07f98d193024"
      },
      "outputs": [
        {
          "name": "stdout",
          "output_type": "stream",
          "text": [
            "['https://s.pstatic.net/imgnews/image/thumb100/015/2022/09/19/4751214.jpg', 'https://s.pstatic.net/imgnews/image/thumb100/001/2022/08/10/13366461.jpg']\n"
          ]
        }
      ],
      "source": [
        "# 대구\n",
        "Dae_gu = \"https://land.naver.com/news/region.naver?city_no=2700000000&dvsn_no=\"\n",
        "naver_region_img_url(Dae_gu)"
      ]
    },
    {
      "cell_type": "code",
      "execution_count": 24,
      "metadata": {
        "colab": {
          "base_uri": "https://localhost:8080/"
        },
        "id": "9CgvcRPFRBoZ",
        "outputId": "d3b3e181-0af4-4b8e-b61a-2f0a0599750d"
      },
      "outputs": [
        {
          "name": "stdout",
          "output_type": "stream",
          "text": [
            "['https://s.pstatic.net/imgnews/image/thumb100/018/2022/08/17/5294008.jpg', 'https://s.pstatic.net/imgnews/image/thumb100/001/2022/04/15/13116935.jpg']\n"
          ]
        }
      ],
      "source": [
        "# 울산\n",
        "Ulsan = \"https://land.naver.com/news/region.naver?city_no=3100000000&dvsn_no=\"\n",
        "naver_region_img_url(Ulsan)"
      ]
    },
    {
      "cell_type": "code",
      "execution_count": 25,
      "metadata": {
        "colab": {
          "base_uri": "https://localhost:8080/"
        },
        "id": "zDoouf0bSESv",
        "outputId": "f4a74c49-7b91-4838-deec-a4e8f51c9fd7"
      },
      "outputs": [
        {
          "name": "stdout",
          "output_type": "stream",
          "text": [
            "['https://s.pstatic.net/imgnews/image/thumb100/015/2022/10/30/4769071.jpg', 'https://s.pstatic.net/imgnews/image/thumb100/421/2022/09/15/6334736.jpg']\n"
          ]
        }
      ],
      "source": [
        "# 세종\n",
        "Sejong = \"https://land.naver.com/news/region.naver?city_no=3600000000&dvsn_no=\"\n",
        "naver_region_img_url(Sejong)"
      ]
    },
    {
      "cell_type": "code",
      "execution_count": 26,
      "metadata": {
        "colab": {
          "base_uri": "https://localhost:8080/"
        },
        "id": "z7XFILF4SP7u",
        "outputId": "72b01584-ea11-4223-9e93-b6c5fa705e2e"
      },
      "outputs": [
        {
          "name": "stdout",
          "output_type": "stream",
          "text": [
            "['https://s.pstatic.net/imgnews/image/thumb100/016/2022/08/25/2032686.jpg', 'https://s.pstatic.net/imgnews/image/thumb100/003/2021/11/18/10841342.jpg']\n"
          ]
        }
      ],
      "source": [
        "# 광주\n",
        "Gwangju = \"https://land.naver.com/news/region.naver?city_no=2900000000&dvsn_no=\"\n",
        "naver_region_img_url(Gwangju)"
      ]
    },
    {
      "cell_type": "code",
      "execution_count": 27,
      "metadata": {
        "colab": {
          "base_uri": "https://localhost:8080/"
        },
        "id": "dVrG0S52SmR_",
        "outputId": "3994ef11-c421-4ac1-d049-c5d2241875cf"
      },
      "outputs": [
        {
          "name": "stdout",
          "output_type": "stream",
          "text": [
            "['https://s.pstatic.net/imgnews/image/thumb100/001/2022/08/25/13397432.jpg', 'https://s.pstatic.net/imgnews/image/thumb100/014/2022/06/20/4854304.jpg']\n"
          ]
        }
      ],
      "source": [
        "# 강원\n",
        "Gangwon = \"https://land.naver.com/news/region.naver?city_no=4200000000&dvsn_no=\"\n",
        "naver_region_img_url(Gangwon)"
      ]
    },
    {
      "cell_type": "code",
      "execution_count": 28,
      "metadata": {
        "colab": {
          "base_uri": "https://localhost:8080/"
        },
        "id": "8J8y5-reTH4G",
        "outputId": "e53a5ec2-a9e0-4e1a-b261-0b51d97f0a55"
      },
      "outputs": [
        {
          "name": "stdout",
          "output_type": "stream",
          "text": [
            "['https://s.pstatic.net/imgnews/image/thumb100/417/2022/04/25/807097.jpg', 'https://s.pstatic.net/imgnews/image/thumb100/016/2021/12/30/1931007.jpg']\n"
          ]
        }
      ],
      "source": [
        "# 충북\n",
        "Chungbuk = \"https://land.naver.com/news/region.naver?city_no=4300000000&dvsn_no=\"\n",
        "naver_region_img_url(Chungbuk)"
      ]
    },
    {
      "cell_type": "code",
      "execution_count": 29,
      "metadata": {
        "colab": {
          "base_uri": "https://localhost:8080/"
        },
        "id": "feDwEjKQTN_O",
        "outputId": "20423540-1599-43e2-caa9-4fd862c8c905"
      },
      "outputs": [
        {
          "name": "stdout",
          "output_type": "stream",
          "text": [
            "['https://s.pstatic.net/imgnews/image/thumb100/001/2022/01/10/12908692.jpg', 'https://s.pstatic.net/imgnews/image/thumb100/016/2021/11/26/1917368.jpg']\n"
          ]
        }
      ],
      "source": [
        "# 충남\n",
        "Chungnam = \"https://land.naver.com/news/region.naver?city_no=4400000000&dvsn_no=\"\n",
        "naver_region_img_url(Chungnam)"
      ]
    },
    {
      "cell_type": "code",
      "execution_count": 30,
      "metadata": {
        "colab": {
          "base_uri": "https://localhost:8080/"
        },
        "id": "SGEgGwaWTTl1",
        "outputId": "e7f4bf03-5f82-49e8-bd89-c9d678785031"
      },
      "outputs": [
        {
          "name": "stdout",
          "output_type": "stream",
          "text": [
            "['https://s.pstatic.net/imgnews/image/thumb100/014/2022/06/20/4854304.jpg', 'https://s.pstatic.net/imgnews/image/thumb100/003/2022/06/07/11232199.jpg']\n"
          ]
        }
      ],
      "source": [
        "# 경북\n",
        "Gyeongbuk = \"https://land.naver.com/news/region.naver?city_no=4700000000&dvsn_no=\"\n",
        "naver_region_img_url(Gyeongbuk)"
      ]
    },
    {
      "cell_type": "code",
      "execution_count": 31,
      "metadata": {
        "colab": {
          "base_uri": "https://localhost:8080/"
        },
        "id": "F5XJ6hqSTcKe",
        "outputId": "ce1a0975-cbd5-4fc6-9d75-7d17f8485ae7"
      },
      "outputs": [
        {
          "name": "stdout",
          "output_type": "stream",
          "text": [
            "['https://s.pstatic.net/imgnews/image/thumb100/119/2022/06/09/2610999.jpg', 'https://s.pstatic.net/imgnews/image/thumb100/001/2022/05/10/13168107.jpg']\n"
          ]
        }
      ],
      "source": [
        "# 경남\n",
        "Gyeongnam = \"https://land.naver.com/news/region.naver?city_no=4800000000&dvsn_no=\"\n",
        "naver_region_img_url(Gyeongnam)"
      ]
    },
    {
      "cell_type": "code",
      "execution_count": 32,
      "metadata": {
        "colab": {
          "base_uri": "https://localhost:8080/"
        },
        "id": "v8wBTrzPTmn3",
        "outputId": "c186fbb5-adb3-47a3-a362-96517b2c3e99"
      },
      "outputs": [
        {
          "name": "stdout",
          "output_type": "stream",
          "text": [
            "['https://s.pstatic.net/imgnews/image/thumb100/001/2022/09/16/13442383.jpg', 'https://s.pstatic.net/imgnews/image/thumb100/421/2022/08/18/6284137.jpg']\n"
          ]
        }
      ],
      "source": [
        "# 전북\n",
        "Jeonbuk = \"https://land.naver.com/news/region.naver?city_no=4500000000&dvsn_no=\"\n",
        "naver_region_img_url(Jeonbuk)"
      ]
    },
    {
      "cell_type": "code",
      "execution_count": 33,
      "metadata": {
        "colab": {
          "base_uri": "https://localhost:8080/"
        },
        "id": "O3yzkuuaTtOH",
        "outputId": "0f00ab8c-e84e-43e5-cea0-f8422bf5539e"
      },
      "outputs": [
        {
          "name": "stdout",
          "output_type": "stream",
          "text": [
            "['https://s.pstatic.net/imgnews/image/thumb100/421/2022/09/15/6335513.jpg', 'https://s.pstatic.net/imgnews/image/thumb100/020/2022/08/01/3443254.jpg']\n"
          ]
        }
      ],
      "source": [
        "# 전남\n",
        "Jeonnam = \"https://land.naver.com/news/region.naver?city_no=4600000000&dvsn_no=\"\n",
        "naver_region_img_url(Jeonnam)"
      ]
    },
    {
      "cell_type": "code",
      "execution_count": 34,
      "metadata": {
        "colab": {
          "base_uri": "https://localhost:8080/"
        },
        "id": "hUvMIYH_T0FH",
        "outputId": "d7b5011f-c400-4ae9-8268-6f97a6e1dfec"
      },
      "outputs": [
        {
          "name": "stdout",
          "output_type": "stream",
          "text": [
            "['https://s.pstatic.net/imgnews/image/thumb100/001/2021/08/24/12616535.jpg', 'https://s.pstatic.net/imgnews/image/thumb100/001/2021/06/11/12453413.jpg']\n"
          ]
        }
      ],
      "source": [
        "# 제주\n",
        "Jeju = \"https://land.naver.com/news/region.naver?city_no=5000000000&dvsn_no=\"\n",
        "naver_region_img_url(Jeju)"
      ]
    },
    {
      "cell_type": "markdown",
      "metadata": {
        "id": "xpKMHAC7ep1H"
      },
      "source": [
        "### 네이버 부동산 뉴스_지역별 뉴스 URL 가져오기"
      ]
    },
    {
      "cell_type": "code",
      "execution_count": 36,
      "metadata": {
        "colab": {
          "base_uri": "https://localhost:8080/"
        },
        "id": "JZBLlCsNeuG3",
        "outputId": "47159a55-5cfc-4bd3-ea3b-db4c96f4d691"
      },
      "outputs": [
        {
          "name": "stdout",
          "output_type": "stream",
          "text": [
            "['https://land.naver.com/news/newsRead.naver?type=region&prsco_id=022&arti_id=0003752280', 'https://land.naver.com/news/newsRead.naver?type=region&prsco_id=014&arti_id=0004925252']\n"
          ]
        }
      ],
      "source": [
        "# 서울: Seoul\n",
        "# 경기: Gyeonggi\n",
        "# 인천: Incheon\n",
        "# 부산: Busan\n",
        "# 대전: Daejeon\n",
        "# 대구: Dae_gu\n",
        "# 울산: Ulsan\n",
        "# 세종: Sejong\n",
        "# 광주: Gwangju\n",
        "# 강원: Gangwon\n",
        "# 충분: Chungbuk\n",
        "# 충남: Chungnam\n",
        "# 경북: Gyeongbuk\n",
        "# 경남: Gyeongnam\n",
        "# 전북: Jeonbuk\n",
        "# 전남: Jeonnam\n",
        "# 제주: Jeju\n",
        "naver_sites_url(Gyeonggi)"
      ]
    }
  ],
  "metadata": {
    "colab": {
      "collapsed_sections": [
        "t-2n11-bcZMp",
        "0tetlEw6O4mm"
      ],
      "provenance": []
    },
    "kernelspec": {
      "display_name": "Python 3.10.7 64-bit",
      "language": "python",
      "name": "python3"
    },
    "language_info": {
      "name": "python",
      "version": "3.10.7"
    },
    "vscode": {
      "interpreter": {
        "hash": "116b92790799ec08338fec8df335fe6ede03ef83c59f43cfdb65af7f0a5e455b"
      }
    }
  },
  "nbformat": 4,
  "nbformat_minor": 0
}
