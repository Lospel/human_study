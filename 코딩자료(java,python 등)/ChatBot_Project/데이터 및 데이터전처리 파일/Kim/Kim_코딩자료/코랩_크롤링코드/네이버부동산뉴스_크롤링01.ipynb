{
  "nbformat": 4,
  "nbformat_minor": 0,
  "metadata": {
    "colab": {
      "provenance": [],
      "collapsed_sections": [
        "t-2n11-bcZMp",
        "0tetlEw6O4mm"
      ]
    },
    "kernelspec": {
      "name": "python3",
      "display_name": "Python 3"
    },
    "language_info": {
      "name": "python"
    }
  },
  "cells": [
    {
      "cell_type": "markdown",
      "source": [
        "### 라이브러리 불러오기"
      ],
      "metadata": {
        "id": "Lw7Mu86kivA-"
      }
    },
    {
      "cell_type": "code",
      "execution_count": 1,
      "metadata": {
        "id": "5vkrgkhgLrDs"
      },
      "outputs": [],
      "source": [
        "import requests\n",
        "from bs4 import BeautifulSoup"
      ]
    },
    {
      "cell_type": "markdown",
      "source": [
        "### 네이버부동산 주요뉴스 크롤링"
      ],
      "metadata": {
        "id": "_xTkJD7DcMhD"
      }
    },
    {
      "cell_type": "code",
      "source": [
        "def crawling_sites(url):\n",
        "  response = requests.request(\"GET\", url)\n",
        "  soup = BeautifulSoup(response.content,'html.parser')\n",
        "  titles = soup.select(\"dl.news_list dt\")\n",
        "  print(titles)\n",
        "\n",
        "url = \"https://land.naver.com/news/headline.naver?bss_ymd=20221110\"\n",
        "crawling_sites(url)"
      ],
      "metadata": {
        "colab": {
          "base_uri": "https://localhost:8080/"
        },
        "id": "sRfRqF1qRG3P",
        "outputId": "8dc80480-7d97-40fc-c424-e4e0cac67087"
      },
      "execution_count": 2,
      "outputs": [
        {
          "output_type": "stream",
          "name": "stdout",
          "text": [
            "[<dt><a class=\"NPI=a:title1,i:421_0006448366\" href=\"/news/newsRead.naver?type=headline&amp;bss_ymd=20221110&amp;prsco_id=421&amp;arti_id=0006448366\">\"공급기반 위축 막는다\"…안전진단·사...</a></dt>, <dt><a class=\"NPI=a:title2,i:119_0002656521\" href=\"/news/newsRead.naver?type=headline&amp;bss_ymd=20221110&amp;prsco_id=119&amp;arti_id=0002656521\">국토부, ‘공시가격 현실화 수정 계획...</a></dt>]\n"
          ]
        }
      ]
    },
    {
      "cell_type": "markdown",
      "source": [
        "### 주요뉴스 텍스트 크롤링"
      ],
      "metadata": {
        "id": "l09PTuUicQcS"
      }
    },
    {
      "cell_type": "code",
      "source": [
        "def crawling_sites2(url):\n",
        "  response = requests.request(\"GET\", url)\n",
        "  soup = BeautifulSoup(response.content,'html.parser')\n",
        "  titles = soup.select(\"dl.news_list a\")\n",
        "  places_title = []\n",
        "\n",
        "  for one in titles:\n",
        "    places_title.append(one.get_text())\n",
        "  \n",
        "  return places_title\n",
        "\n",
        "url = \"https://land.naver.com/news/headline.naver?bss_ymd=20221110\"\n",
        "print(crawling_sites2(url))"
      ],
      "metadata": {
        "colab": {
          "base_uri": "https://localhost:8080/"
        },
        "id": "CJVo_iobRvkK",
        "outputId": "5695ae5c-76f4-4d01-ebb8-4811dc68b56a"
      },
      "execution_count": 3,
      "outputs": [
        {
          "output_type": "stream",
          "name": "stdout",
          "text": [
            "['\"공급기반 위축 막는다\"…안전진단·사...', '국토부, ‘공시가격 현실화 수정 계획...']\n"
          ]
        }
      ]
    },
    {
      "cell_type": "markdown",
      "source": [
        "### 주요뉴스 url 크롤링"
      ],
      "metadata": {
        "id": "e6xOY0s1cTgC"
      }
    },
    {
      "cell_type": "code",
      "source": [
        "def crawling_sites_url(url):\n",
        "  response = requests.request(\"GET\", url)\n",
        "  soup = BeautifulSoup(response.content,'html.parser')\n",
        "  titles = soup.select(\"dl.news_list a\")\n",
        "  places_url=[]\n",
        "\n",
        "  for i in titles:\n",
        "    places_url.append(i.attrs[\"href\"])\n",
        "  \n",
        "  return places_url\n",
        "\n",
        "url = \"https://land.naver.com/news/headline.naver?bss_ymd=20221110\"\n",
        "crawling_sites_url(url)"
      ],
      "metadata": {
        "colab": {
          "base_uri": "https://localhost:8080/"
        },
        "id": "-kehE5KUVsPI",
        "outputId": "5ba15de3-cf94-4fd1-fb58-5e6ccaa2f6c2"
      },
      "execution_count": 4,
      "outputs": [
        {
          "output_type": "execute_result",
          "data": {
            "text/plain": [
              "['/news/newsRead.naver?type=headline&bss_ymd=20221110&prsco_id=421&arti_id=0006448366',\n",
              " '/news/newsRead.naver?type=headline&bss_ymd=20221110&prsco_id=119&arti_id=0002656521']"
            ]
          },
          "metadata": {},
          "execution_count": 4
        }
      ]
    },
    {
      "cell_type": "markdown",
      "source": [
        "### 네이버 부동산 주요뉴스 URL 가져오기"
      ],
      "metadata": {
        "id": "CegmbmH-bmqn"
      }
    },
    {
      "cell_type": "code",
      "source": [
        "def naver_sites_url(url):\n",
        "  response = requests.request(\"GET\", url)\n",
        "  soup = BeautifulSoup(response.content,'html.parser')\n",
        "  titles = soup.select(\"dt.photo a\")\n",
        "  places_url=[]\n",
        "\n",
        "  for i in titles:\n",
        "    places_url.append(\"https://land.naver.com\"+i.attrs[\"href\"])\n",
        "\n",
        "  print(places_url[:2]) \n",
        "\n",
        "url = \"https://land.naver.com/news/headline.naver\"\n",
        "naver_sites_url(url)"
      ],
      "metadata": {
        "colab": {
          "base_uri": "https://localhost:8080/"
        },
        "id": "tuTW4vQRbtM-",
        "outputId": "7afdf133-a403-4f78-a120-5caf252aab1e"
      },
      "execution_count": 5,
      "outputs": [
        {
          "output_type": "stream",
          "name": "stdout",
          "text": [
            "['https://land.naver.com/news/newsRead.naver?type=headline&bss_ymd=&prsco_id=658&arti_id=0000024823', 'https://land.naver.com/news/newsRead.naver?type=headline&bss_ymd=&prsco_id=421&arti_id=0006448377']\n"
          ]
        }
      ]
    },
    {
      "cell_type": "markdown",
      "source": [
        "### 네이버 부동산 뉴스_핫이슈 URL 가져오기"
      ],
      "metadata": {
        "id": "UakfHij4eHxf"
      }
    },
    {
      "cell_type": "code",
      "source": [
        "# 핫이슈\n",
        "url = \"https://land.naver.com/news/hotIssue.naver\"\n",
        "naver_sites_url(url)"
      ],
      "metadata": {
        "colab": {
          "base_uri": "https://localhost:8080/"
        },
        "id": "BEeJB21UeMCm",
        "outputId": "ef446e46-df34-484e-fda0-fd9902903053"
      },
      "execution_count": 6,
      "outputs": [
        {
          "output_type": "stream",
          "name": "stdout",
          "text": [
            "['https://land.naver.com/news/newsRead.naver?type=issueView&isu_no=102372&prsco_id=119&arti_id=0002649398', 'https://land.naver.com/news/newsRead.naver?type=issueView&isu_no=102352&prsco_id=629&arti_id=0000173893']\n"
          ]
        }
      ]
    },
    {
      "cell_type": "markdown",
      "source": [
        "### 부동산 뉴스 이미지 가져오기"
      ],
      "metadata": {
        "id": "t-2n11-bcZMp"
      }
    },
    {
      "cell_type": "code",
      "source": [
        "# from urllib.request import urlretrieve\n",
        "# import os\n",
        "# path_folder = '/content/drive/MyDrive/Colab Notebooks/산대특/챗봇프로젝트/챗봇_부동산_이미지/'\n",
        "\n",
        "# if not os.path.isdir(path_folder):\n",
        "#     os.mkdir(path_folder)\n",
        "\n",
        "# def crawling_sites_img(url):\n",
        "#   response = requests.request(\"GET\", url)\n",
        "#   soup = BeautifulSoup(response.content,'html.parser')\n",
        "#   news_thumbnail = soup.select('dt.photo img')\n",
        "#   link_thumbnail = []\n",
        "#   for img in news_thumbnail:\n",
        "#       link_thumbnail.append(img.attrs['src'])\n",
        "#   i = 0\n",
        "#   for link in link_thumbnail:          \n",
        "#     i += 1\n",
        "#     urlretrieve(link, path_folder + f'{i}.jpg')\n",
        "\n",
        "# url = \"https://land.naver.com/news/headline.naver?bss_ymd=20221110\"\n",
        "# crawling_sites_img(url)"
      ],
      "metadata": {
        "id": "skeBvUB-cbsr"
      },
      "execution_count": 7,
      "outputs": []
    },
    {
      "cell_type": "markdown",
      "source": [
        "- 네이버 부동산 뉴스_주요뉴스 이미지 URL 가져오기"
      ],
      "metadata": {
        "id": "BWnn_NZjN2pe"
      }
    },
    {
      "cell_type": "code",
      "source": [
        "def naver_main_img_url(url):\n",
        "  response = requests.request(\"GET\", url)\n",
        "  soup = BeautifulSoup(response.content,'html.parser')\n",
        "  news_thumbnail = soup.select('dt.photo img')\n",
        "  link_thumbnail = []\n",
        "  for img in news_thumbnail:\n",
        "      link_thumbnail.append(img.attrs['src'])\n",
        "  print(link_thumbnail[:2])\n",
        "url = \"https://land.naver.com/news/headline.naver?bss_ymd=20221110\"\n",
        "naver_main_img_url(url)"
      ],
      "metadata": {
        "colab": {
          "base_uri": "https://localhost:8080/"
        },
        "id": "_yC5d_koNaL2",
        "outputId": "21e81e17-6cbf-46d0-f791-a52ccbdb83e9"
      },
      "execution_count": 8,
      "outputs": [
        {
          "output_type": "stream",
          "name": "stdout",
          "text": [
            "['https://s.pstatic.net/imgnews/image/thumb100/658/2022/11/10/24823.jpg', 'https://s.pstatic.net/imgnews/image/thumb100/421/2022/11/10/6448377.jpg']\n"
          ]
        }
      ]
    },
    {
      "cell_type": "markdown",
      "source": [
        "- 네이버 부동산 뉴스_핫이슈 이미지 URL 가져오기"
      ],
      "metadata": {
        "id": "BFald-DXOZ0e"
      }
    },
    {
      "cell_type": "code",
      "source": [
        "def naver_hotissue_img_url(url):\n",
        "  response = requests.request(\"GET\", url)\n",
        "  soup = BeautifulSoup(response.content,'html.parser')\n",
        "  news_thumbnail = soup.select('dt.photo img')\n",
        "  link_thumbnail = []\n",
        "  for img in news_thumbnail:\n",
        "      link_thumbnail.append(img.attrs['src'])\n",
        "  print(link_thumbnail[:2])\n",
        "url = \"https://land.naver.com/news/hotIssue.naver\"\n",
        "naver_hotissue_img_url(url)"
      ],
      "metadata": {
        "colab": {
          "base_uri": "https://localhost:8080/"
        },
        "id": "uhAoMvM1Oc2v",
        "outputId": "deb02102-de3d-4b7d-b9e9-99015c16173a"
      },
      "execution_count": 9,
      "outputs": [
        {
          "output_type": "stream",
          "name": "stdout",
          "text": [
            "['https://s.pstatic.net/imgnews/image/thumb100/119/2022/10/19/2649398.jpg', 'https://s.pstatic.net/imgnews/image/thumb100/629/2022/09/22/173893.jpg']\n"
          ]
        }
      ]
    },
    {
      "cell_type": "markdown",
      "source": [
        "### 네이버 부동산 뉴스_지역별 뉴스 이미지 URL 가져오기"
      ],
      "metadata": {
        "id": "0tetlEw6O4mm"
      }
    },
    {
      "cell_type": "code",
      "source": [
        "# 서울\n",
        "def naver_region_img_url(url):\n",
        "  response = requests.request(\"GET\", url)\n",
        "  soup = BeautifulSoup(response.content,'html.parser')\n",
        "  news_thumbnail = soup.select('dt.photo img')\n",
        "  link_thumbnail = []\n",
        "  for img in news_thumbnail:\n",
        "      link_thumbnail.append(img.attrs['src'])\n",
        "  print(link_thumbnail[:2])\n",
        "Seoul = \"https://land.naver.com/news/region.naver?city_no=1100000000&dvsn_no=\"\n",
        "naver_region_img_url(Seoul)"
      ],
      "metadata": {
        "colab": {
          "base_uri": "https://localhost:8080/"
        },
        "id": "dE8dgPV9O-De",
        "outputId": "4f62fd1b-eb31-4c03-b571-3b9e67be4732"
      },
      "execution_count": 18,
      "outputs": [
        {
          "output_type": "stream",
          "name": "stdout",
          "text": [
            "['https://s.pstatic.net/imgnews/image/thumb100/421/2022/11/09/6446031.jpg', 'https://s.pstatic.net/imgnews/image/thumb100/003/2022/11/09/11526383.jpg']\n"
          ]
        }
      ]
    },
    {
      "cell_type": "code",
      "source": [
        "# 경기\n",
        "Gyeonggi = \"https://land.naver.com/news/region.naver?city_no=4100000000&dvsn_no=\"\n",
        "naver_region_img_url(Gyeonggi)"
      ],
      "metadata": {
        "colab": {
          "base_uri": "https://localhost:8080/"
        },
        "id": "GuFfQSUdPaQn",
        "outputId": "ae025623-74e7-4432-cce7-9d00dd962477"
      },
      "execution_count": 19,
      "outputs": [
        {
          "output_type": "stream",
          "name": "stdout",
          "text": [
            "['https://s.pstatic.net/imgnews/image/thumb100/022/2022/11/09/3752280.jpg', 'https://s.pstatic.net/imgnews/image/thumb100/014/2022/11/09/4925252.jpg']\n"
          ]
        }
      ]
    },
    {
      "cell_type": "code",
      "source": [
        "# 인천\n",
        "Incheon = \"https://land.naver.com/news/region.naver?city_no=2800000000&dvsn_no=\"\n",
        "naver_region_img_url(Incheon)"
      ],
      "metadata": {
        "colab": {
          "base_uri": "https://localhost:8080/"
        },
        "id": "j8oKpZWVP7-X",
        "outputId": "74b0b202-d2f8-4a06-ed55-843d857f8731"
      },
      "execution_count": 20,
      "outputs": [
        {
          "output_type": "stream",
          "name": "stdout",
          "text": [
            "['https://s.pstatic.net/imgnews/image/thumb100/009/2022/11/03/5039861.jpg', 'https://s.pstatic.net/imgnews/image/thumb100/011/2022/10/20/4112568.jpg']\n"
          ]
        }
      ]
    },
    {
      "cell_type": "code",
      "source": [
        "# 부산\n",
        "Busan = \"https://land.naver.com/news/region.naver?city_no=2600000000&dvsn_no=\"\n",
        "naver_region_img_url(Busan)"
      ],
      "metadata": {
        "colab": {
          "base_uri": "https://localhost:8080/"
        },
        "id": "6v3qDlwsQH1X",
        "outputId": "06c1bd82-8fed-4f8d-9b31-160891af3b09"
      },
      "execution_count": 21,
      "outputs": [
        {
          "output_type": "stream",
          "name": "stdout",
          "text": [
            "['https://s.pstatic.net/imgnews/image/thumb100/658/2022/09/09/19720.jpg', 'https://s.pstatic.net/imgnews/image/thumb100/014/2022/08/31/4891554.jpg']\n"
          ]
        }
      ]
    },
    {
      "cell_type": "code",
      "source": [
        "# 대전\n",
        "Daejeon = \"https://land.naver.com/news/region.naver?city_no=3000000000&dvsn_no=\"\n",
        "naver_region_img_url(Daejeon)"
      ],
      "metadata": {
        "colab": {
          "base_uri": "https://localhost:8080/"
        },
        "id": "rU9M-5mRQQL-",
        "outputId": "cbacd359-bc85-4faa-8dc3-bc319b01de75"
      },
      "execution_count": 22,
      "outputs": [
        {
          "output_type": "stream",
          "name": "stdout",
          "text": [
            "['https://s.pstatic.net/imgnews/image/thumb100/421/2022/05/04/6070807.jpg', 'https://s.pstatic.net/imgnews/image/thumb100/421/2022/03/14/5967079.jpg']\n"
          ]
        }
      ]
    },
    {
      "cell_type": "code",
      "source": [
        "# 대구\n",
        "Dae_gu = \"https://land.naver.com/news/region.naver?city_no=2700000000&dvsn_no=\"\n",
        "naver_region_img_url(Dae_gu)"
      ],
      "metadata": {
        "colab": {
          "base_uri": "https://localhost:8080/"
        },
        "id": "nqzPwlEeQdzm",
        "outputId": "9e1d0ec6-eb81-476d-ec78-07f98d193024"
      },
      "execution_count": 23,
      "outputs": [
        {
          "output_type": "stream",
          "name": "stdout",
          "text": [
            "['https://s.pstatic.net/imgnews/image/thumb100/015/2022/09/19/4751214.jpg', 'https://s.pstatic.net/imgnews/image/thumb100/001/2022/08/10/13366461.jpg']\n"
          ]
        }
      ]
    },
    {
      "cell_type": "code",
      "source": [
        "# 울산\n",
        "Ulsan = \"https://land.naver.com/news/region.naver?city_no=3100000000&dvsn_no=\"\n",
        "naver_region_img_url(Ulsan)"
      ],
      "metadata": {
        "colab": {
          "base_uri": "https://localhost:8080/"
        },
        "id": "9CgvcRPFRBoZ",
        "outputId": "d3b3e181-0af4-4b8e-b61a-2f0a0599750d"
      },
      "execution_count": 24,
      "outputs": [
        {
          "output_type": "stream",
          "name": "stdout",
          "text": [
            "['https://s.pstatic.net/imgnews/image/thumb100/018/2022/08/17/5294008.jpg', 'https://s.pstatic.net/imgnews/image/thumb100/001/2022/04/15/13116935.jpg']\n"
          ]
        }
      ]
    },
    {
      "cell_type": "code",
      "source": [
        "# 세종\n",
        "Sejong = \"https://land.naver.com/news/region.naver?city_no=3600000000&dvsn_no=\"\n",
        "naver_region_img_url(Sejong)"
      ],
      "metadata": {
        "colab": {
          "base_uri": "https://localhost:8080/"
        },
        "id": "zDoouf0bSESv",
        "outputId": "f4a74c49-7b91-4838-deec-a4e8f51c9fd7"
      },
      "execution_count": 25,
      "outputs": [
        {
          "output_type": "stream",
          "name": "stdout",
          "text": [
            "['https://s.pstatic.net/imgnews/image/thumb100/015/2022/10/30/4769071.jpg', 'https://s.pstatic.net/imgnews/image/thumb100/421/2022/09/15/6334736.jpg']\n"
          ]
        }
      ]
    },
    {
      "cell_type": "code",
      "source": [
        "# 광주\n",
        "Gwangju = \"https://land.naver.com/news/region.naver?city_no=2900000000&dvsn_no=\"\n",
        "naver_region_img_url(Gwangju)"
      ],
      "metadata": {
        "colab": {
          "base_uri": "https://localhost:8080/"
        },
        "id": "z7XFILF4SP7u",
        "outputId": "72b01584-ea11-4223-9e93-b6c5fa705e2e"
      },
      "execution_count": 26,
      "outputs": [
        {
          "output_type": "stream",
          "name": "stdout",
          "text": [
            "['https://s.pstatic.net/imgnews/image/thumb100/016/2022/08/25/2032686.jpg', 'https://s.pstatic.net/imgnews/image/thumb100/003/2021/11/18/10841342.jpg']\n"
          ]
        }
      ]
    },
    {
      "cell_type": "code",
      "source": [
        "# 강원\n",
        "Gangwon = \"https://land.naver.com/news/region.naver?city_no=4200000000&dvsn_no=\"\n",
        "naver_region_img_url(Gangwon)"
      ],
      "metadata": {
        "colab": {
          "base_uri": "https://localhost:8080/"
        },
        "id": "dVrG0S52SmR_",
        "outputId": "3994ef11-c421-4ac1-d049-c5d2241875cf"
      },
      "execution_count": 27,
      "outputs": [
        {
          "output_type": "stream",
          "name": "stdout",
          "text": [
            "['https://s.pstatic.net/imgnews/image/thumb100/001/2022/08/25/13397432.jpg', 'https://s.pstatic.net/imgnews/image/thumb100/014/2022/06/20/4854304.jpg']\n"
          ]
        }
      ]
    },
    {
      "cell_type": "code",
      "source": [
        "# 충북\n",
        "Chungbuk = \"https://land.naver.com/news/region.naver?city_no=4300000000&dvsn_no=\"\n",
        "naver_region_img_url(Chungbuk)"
      ],
      "metadata": {
        "colab": {
          "base_uri": "https://localhost:8080/"
        },
        "id": "8J8y5-reTH4G",
        "outputId": "e53a5ec2-a9e0-4e1a-b261-0b51d97f0a55"
      },
      "execution_count": 28,
      "outputs": [
        {
          "output_type": "stream",
          "name": "stdout",
          "text": [
            "['https://s.pstatic.net/imgnews/image/thumb100/417/2022/04/25/807097.jpg', 'https://s.pstatic.net/imgnews/image/thumb100/016/2021/12/30/1931007.jpg']\n"
          ]
        }
      ]
    },
    {
      "cell_type": "code",
      "source": [
        "# 충남\n",
        "Chungnam = \"https://land.naver.com/news/region.naver?city_no=4400000000&dvsn_no=\"\n",
        "naver_region_img_url(Chungnam)"
      ],
      "metadata": {
        "colab": {
          "base_uri": "https://localhost:8080/"
        },
        "id": "feDwEjKQTN_O",
        "outputId": "20423540-1599-43e2-caa9-4fd862c8c905"
      },
      "execution_count": 29,
      "outputs": [
        {
          "output_type": "stream",
          "name": "stdout",
          "text": [
            "['https://s.pstatic.net/imgnews/image/thumb100/001/2022/01/10/12908692.jpg', 'https://s.pstatic.net/imgnews/image/thumb100/016/2021/11/26/1917368.jpg']\n"
          ]
        }
      ]
    },
    {
      "cell_type": "code",
      "source": [
        "# 경북\n",
        "Gyeongbuk = \"https://land.naver.com/news/region.naver?city_no=4700000000&dvsn_no=\"\n",
        "naver_region_img_url(Gyeongbuk)"
      ],
      "metadata": {
        "colab": {
          "base_uri": "https://localhost:8080/"
        },
        "id": "SGEgGwaWTTl1",
        "outputId": "e7f4bf03-5f82-49e8-bd89-c9d678785031"
      },
      "execution_count": 30,
      "outputs": [
        {
          "output_type": "stream",
          "name": "stdout",
          "text": [
            "['https://s.pstatic.net/imgnews/image/thumb100/014/2022/06/20/4854304.jpg', 'https://s.pstatic.net/imgnews/image/thumb100/003/2022/06/07/11232199.jpg']\n"
          ]
        }
      ]
    },
    {
      "cell_type": "code",
      "source": [
        "# 경남\n",
        "Gyeongnam = \"https://land.naver.com/news/region.naver?city_no=4800000000&dvsn_no=\"\n",
        "naver_region_img_url(Gyeongnam)"
      ],
      "metadata": {
        "colab": {
          "base_uri": "https://localhost:8080/"
        },
        "id": "F5XJ6hqSTcKe",
        "outputId": "ce1a0975-cbd5-4fc6-9d75-7d17f8485ae7"
      },
      "execution_count": 31,
      "outputs": [
        {
          "output_type": "stream",
          "name": "stdout",
          "text": [
            "['https://s.pstatic.net/imgnews/image/thumb100/119/2022/06/09/2610999.jpg', 'https://s.pstatic.net/imgnews/image/thumb100/001/2022/05/10/13168107.jpg']\n"
          ]
        }
      ]
    },
    {
      "cell_type": "code",
      "source": [
        "# 전북\n",
        "Jeonbuk = \"https://land.naver.com/news/region.naver?city_no=4500000000&dvsn_no=\"\n",
        "naver_region_img_url(Jeonbuk)"
      ],
      "metadata": {
        "colab": {
          "base_uri": "https://localhost:8080/"
        },
        "id": "v8wBTrzPTmn3",
        "outputId": "c186fbb5-adb3-47a3-a362-96517b2c3e99"
      },
      "execution_count": 32,
      "outputs": [
        {
          "output_type": "stream",
          "name": "stdout",
          "text": [
            "['https://s.pstatic.net/imgnews/image/thumb100/001/2022/09/16/13442383.jpg', 'https://s.pstatic.net/imgnews/image/thumb100/421/2022/08/18/6284137.jpg']\n"
          ]
        }
      ]
    },
    {
      "cell_type": "code",
      "source": [
        "# 전남\n",
        "Jeonnam = \"https://land.naver.com/news/region.naver?city_no=4600000000&dvsn_no=\"\n",
        "naver_region_img_url(Jeonnam)"
      ],
      "metadata": {
        "colab": {
          "base_uri": "https://localhost:8080/"
        },
        "id": "O3yzkuuaTtOH",
        "outputId": "0f00ab8c-e84e-43e5-cea0-f8422bf5539e"
      },
      "execution_count": 33,
      "outputs": [
        {
          "output_type": "stream",
          "name": "stdout",
          "text": [
            "['https://s.pstatic.net/imgnews/image/thumb100/421/2022/09/15/6335513.jpg', 'https://s.pstatic.net/imgnews/image/thumb100/020/2022/08/01/3443254.jpg']\n"
          ]
        }
      ]
    },
    {
      "cell_type": "code",
      "source": [
        "# 제주\n",
        "Jeju = \"https://land.naver.com/news/region.naver?city_no=5000000000&dvsn_no=\"\n",
        "naver_region_img_url(Jeju)"
      ],
      "metadata": {
        "colab": {
          "base_uri": "https://localhost:8080/"
        },
        "id": "hUvMIYH_T0FH",
        "outputId": "d7b5011f-c400-4ae9-8268-6f97a6e1dfec"
      },
      "execution_count": 34,
      "outputs": [
        {
          "output_type": "stream",
          "name": "stdout",
          "text": [
            "['https://s.pstatic.net/imgnews/image/thumb100/001/2021/08/24/12616535.jpg', 'https://s.pstatic.net/imgnews/image/thumb100/001/2021/06/11/12453413.jpg']\n"
          ]
        }
      ]
    },
    {
      "cell_type": "markdown",
      "source": [
        "### 네이버 부동산 뉴스_지역별 뉴스 URL 가져오기"
      ],
      "metadata": {
        "id": "xpKMHAC7ep1H"
      }
    },
    {
      "cell_type": "code",
      "source": [
        "# 서울: Seoul\n",
        "# 경기: Gyeonggi\n",
        "# 인천: Incheon\n",
        "# 부산: Busan\n",
        "# 대전: Daejeon\n",
        "# 대구: Dae_gu\n",
        "# 울산: Ulsan\n",
        "# 세종: Sejong\n",
        "# 광주: Gwangju\n",
        "# 강원: Gangwon\n",
        "# 충분: Chungbuk\n",
        "# 충남: Chungnam\n",
        "# 경북: Gyeongbuk\n",
        "# 경남: Gyeongnam\n",
        "# 전북: Jeonbuk\n",
        "# 전남: Jeonnam\n",
        "# 제주: Jeju\n",
        "naver_sites_url(Gyeonggi)"
      ],
      "metadata": {
        "colab": {
          "base_uri": "https://localhost:8080/"
        },
        "id": "JZBLlCsNeuG3",
        "outputId": "47159a55-5cfc-4bd3-ea3b-db4c96f4d691"
      },
      "execution_count": 36,
      "outputs": [
        {
          "output_type": "stream",
          "name": "stdout",
          "text": [
            "['https://land.naver.com/news/newsRead.naver?type=region&prsco_id=022&arti_id=0003752280', 'https://land.naver.com/news/newsRead.naver?type=region&prsco_id=014&arti_id=0004925252']\n"
          ]
        }
      ]
    }
  ]
}