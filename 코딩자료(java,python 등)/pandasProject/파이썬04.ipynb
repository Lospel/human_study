{
 "cells": [
  {
   "cell_type": "code",
   "execution_count": 1,
   "id": "cb1d9766-46a1-4a25-a92d-4df5bf77666e",
   "metadata": {},
   "outputs": [],
   "source": [
    "import pandas as pd"
   ]
  },
  {
   "cell_type": "code",
   "execution_count": 4,
   "id": "b96e3efc-6d2b-487e-a84f-964dffa3471d",
   "metadata": {},
   "outputs": [],
   "source": [
    "# 회원가입 만들기\n",
    "# 1. id, pw, name 변수의 값을 저장하는 데이터 프레임을 만드시오.\n",
    "# DataFrame()으로 df 변수 만들어서 안에 컬럼(id,pw,name)을 넣기\n",
    "# index=range(0,0) : 크기 0(칸이 0개)\n",
    "\n",
    "# 2.id,pw,name 값을 받는 메서드를 만들고, df(데이터프레임)에 저장하는 기능 구현\n",
    "\n",
    "# 3. id값을 찾아서 같은 id 값이면 '같은 아이디가 있습니다.' 출력하는 메서드 구현\n",
    "# if문으로 id값 같은지 찾은 뒤, 문자열 출력\n",
    "\n",
    "# 4. id값을 찾아서 그 row의 pw의 값을 변경하는 메서드 구현\n",
    "# funcUpdate 메서드를 참고해서 값을 변경하는 기능을 구현하시면 됩니다."
   ]
  },
  {
   "cell_type": "code",
   "execution_count": 9,
   "id": "eedb3f37-8626-4fed-8a2c-05400da4ae1f",
   "metadata": {},
   "outputs": [
    {
     "name": "stdout",
     "output_type": "stream",
     "text": [
      "Empty DataFrame\n",
      "Columns: [id, pw, name]\n",
      "Index: []\n"
     ]
    }
   ],
   "source": [
    "data={'id':[],'pw':[],'name':[]}\n",
    "df=pd.DataFrame(data)\n",
    "print(df)"
   ]
  },
  {
   "cell_type": "code",
   "execution_count": 1,
   "id": "e3008f06-db09-480e-b469-21f419e05396",
   "metadata": {},
   "outputs": [],
   "source": [
    "def insertData() :\n",
    "    global df\n",
    "    input_id=input('아이디를 입력하시오')\n",
    "    input_pw=input('비밀번호를 입력하시오')\n",
    "    input_name=input('이름을 입력하시오')\n",
    "#     입력받은 값이 데이터 프레임에 한 개라도 존재하면 true\n",
    "# 변수에 키보드 값을 받아오고, 받아온 값이 데이터 프레임에 존재하는지 확인\n",
    "    # print('any = ',(df['name']==input_id).any())\n",
    "#     입력받은 값이 데이터 프레임에 전부 존재하면 true\n",
    "# 입력받은 값을 변수에 저장하고, 데이터 프레임 전부 도배로 존재하면 true\n",
    "# null값의 경우 비교할 대상이 없으므로 true return\n",
    "    # print('all = ',(df['name']==input_id).all())\n",
    "    if(df['id']==input_id).any():\n",
    "        print('같은 아이디가 있습니다.')\n",
    "    else:\n",
    "        df.loc[len(df)] = [input_id,input_pw,input_name]\n",
    "        print('같은 아이디가 없습니다.')\n",
    "\n",
    "# all() 값이 동일하게 존재하는지 확인(모든 값이 같은가 확인)\n",
    "# all()의 경우 인자로 받은 요소가 비어있으면 True\n",
    "# any() 값이 존재하는지 확인\n",
    "def checkData(name):\n",
    "    global df\n",
    "    if (df['name'] == name).any():\n",
    "        print('이름 확인')\n",
    "    else:\n",
    "        print('이름 확인 못함')\n",
    "        \n",
    "def updateData(name):\n",
    "    global df\n",
    "    df.loc[df['name']==name,('pw')]=(input(\"바꿀 비밀번호를 입력하시오.\"))\n"
   ]
  },
  {
   "cell_type": "code",
   "execution_count": 99,
   "id": "6a379c22-75e1-4aea-aa6d-48bd78bc78f2",
   "metadata": {},
   "outputs": [
    {
     "name": "stdin",
     "output_type": "stream",
     "text": [
      "아이디를 입력하시오 1\n",
      "비밀번호를 입력하시오 1\n",
      "이름을 입력하시오 1\n"
     ]
    },
    {
     "name": "stdout",
     "output_type": "stream",
     "text": [
      "any =  False\n",
      "all =  False\n"
     ]
    }
   ],
   "source": [
    "# 자바의 Scanner 클래스와 동일, 사용자의 입력값을 키보드와 버퍼를 통해 데이터를 받아서\n",
    "# python 인터프린트에 저장\n",
    "insertData()"
   ]
  },
  {
   "cell_type": "code",
   "execution_count": 92,
   "id": "de4244c3-af6b-4887-9174-c8358d91fbb7",
   "metadata": {},
   "outputs": [
    {
     "name": "stdout",
     "output_type": "stream",
     "text": [
      "이름 확인\n"
     ]
    }
   ],
   "source": [
    "checkData('김도위')"
   ]
  },
  {
   "cell_type": "code",
   "execution_count": 108,
   "id": "8672de05-468c-4011-8126-b92d6a630c3a",
   "metadata": {},
   "outputs": [
    {
     "name": "stdout",
     "output_type": "stream",
     "text": [
      "         id      pw name\n",
      "0  rlaehdnl  123asd  김도위\n",
      "1  ehdnl123  123asd   도위\n",
      "2      abcd    1234  김준석\n",
      "3         1       2    1\n"
     ]
    }
   ],
   "source": [
    "print(df)"
   ]
  },
  {
   "cell_type": "code",
   "execution_count": 96,
   "id": "c7d26cc5-dbfa-4080-a0b4-9e657f2e576a",
   "metadata": {},
   "outputs": [],
   "source": [
    "# df=df.drop_duplicates(subset='id', keep='first', inplace=False, ignore_index=False)\n",
    "# print(df.iloc[:,:-1])"
   ]
  },
  {
   "cell_type": "code",
   "execution_count": 107,
   "id": "58a66afe-800d-4995-b9c9-353034b401c0",
   "metadata": {},
   "outputs": [
    {
     "name": "stdin",
     "output_type": "stream",
     "text": [
      "바꿀 비밀번호를 입력하시오. 2\n"
     ]
    }
   ],
   "source": [
    "updateData('1')"
   ]
  },
  {
   "cell_type": "code",
   "execution_count": 114,
   "id": "1b66ce99-6dd7-4d65-b53c-a84acb48f46e",
   "metadata": {},
   "outputs": [
    {
     "name": "stdout",
     "output_type": "stream",
     "text": [
      "         id      pw name\n",
      "0  rlaehdnl  123asd  김도위\n",
      "1  ehdnl123  123asd   도위\n",
      "2      abcd    1234  김준석\n",
      "3         1       2    1\n",
      "         id      pw\n",
      "0  rlaehdnl  123asd\n",
      "1  ehdnl123  123asd\n"
     ]
    }
   ],
   "source": [
    "print(df)\n",
    "# 슬라이싱은 (시작지점(포함):끝나는 지점미만(불포함))\n",
    "# -1의 경우 0에서 뒤로 1컬럼 가므로, max값으로 지정\n",
    "print(df.iloc[:2,:-1])"
   ]
  }
 ],
 "metadata": {
  "kernelspec": {
   "display_name": "Python 3 (ipykernel)",
   "language": "python",
   "name": "python3"
  },
  "language_info": {
   "codemirror_mode": {
    "name": "ipython",
    "version": 3
   },
   "file_extension": ".py",
   "mimetype": "text/x-python",
   "name": "python",
   "nbconvert_exporter": "python",
   "pygments_lexer": "ipython3",
   "version": "3.9.0"
  }
 },
 "nbformat": 4,
 "nbformat_minor": 5
}
