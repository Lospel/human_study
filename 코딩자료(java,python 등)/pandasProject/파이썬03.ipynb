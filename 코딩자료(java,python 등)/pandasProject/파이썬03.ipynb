{
 "cells": [
  {
   "cell_type": "code",
   "execution_count": 1,
   "id": "cb67060e-4682-497d-ae91-91bee934e80c",
   "metadata": {},
   "outputs": [],
   "source": [
    "#계산기 로그 남기기\n",
    "# 1. 날짜를 자동으로 생성해주는 메서드(함수)를 사용하여\n",
    "# funcInsert 메서드에 활용\n",
    "# 2. 계산하는 메서드를 만들고, 계산 내용(log)을 funcInsert와 연동할 수 있는 아이디어를\n",
    "# 생각하고 구현하시오.\n",
    "import pandas as pd"
   ]
  },
  {
   "cell_type": "code",
   "execution_count": 12,
   "id": "dcd33233-73f6-45ef-be8b-4b409924e9fe",
   "metadata": {},
   "outputs": [],
   "source": [
    "from datetime import datetime as dt"
   ]
  },
  {
   "cell_type": "code",
   "execution_count": 34,
   "id": "42aed5cf-14e7-400a-b5ff-66f3664f4409",
   "metadata": {},
   "outputs": [
    {
     "name": "stdout",
     "output_type": "stream",
     "text": [
      "   log      date\n",
      "0  400  10/12/22\n"
     ]
    }
   ],
   "source": [
    "date = dt.now()\n",
    "# return 메서드를 실행하고 마지막의 결과물을 반환\n",
    "def log(num1,num2) :\n",
    "    return num1*num2\n",
    "exam_data = {'log':[log(20,20)],\n",
    "             'date':[date.strftime(\"%x\")]}\n",
    "global df\n",
    "df = pd.DataFrame(exam_data)\n",
    "print(df)"
   ]
  },
  {
   "cell_type": "code",
   "execution_count": 41,
   "id": "0d21329b-7d4c-447a-926a-b1d3f9806150",
   "metadata": {},
   "outputs": [
    {
     "name": "stdout",
     "output_type": "stream",
     "text": [
      "2022-10-12 11:09:16.118858\n"
     ]
    }
   ],
   "source": [
    "# 메서드 잘 만드는 법\n",
    "# 메서드의 기능은 단순(심플)하게, 그리고 정의를 정확하게.\n",
    "# def funcInsert(input_log, input_date) :\n",
    "#     global df\n",
    "#     df.loc[len(af)] = [input_log, input_date]\n",
    "# 계산하는 메서드\n",
    "# return 메서드를 실행하고 마지막의 결과물을 반환\n",
    "def funcInsert(num1,num2) :\n",
    "    global df\n",
    "    df.loc[len(af)] = [log(num1,num2),date.strftime(\"%x\")]\n",
    "# 날짜 만드는 메서드\n",
    "print(dt.now())"
   ]
  },
  {
   "cell_type": "code",
   "execution_count": 39,
   "id": "463aa337-7719-434a-8fe0-babececb6352",
   "metadata": {},
   "outputs": [
    {
     "name": "stdout",
     "output_type": "stream",
     "text": [
      "    log      date\n",
      "0   400  10/12/22\n",
      "3  1600  10/12/22\n"
     ]
    }
   ],
   "source": [
    "# funcInsert('40*40', '20221012')\n",
    "# print(df)\n",
    "funcInsert(40,40)\n",
    "print(df)"
   ]
  },
  {
   "cell_type": "code",
   "execution_count": null,
   "id": "b86dc289-1fa6-479f-8597-22e302b7e640",
   "metadata": {},
   "outputs": [],
   "source": [
    "# 계산기 만들기\n"
   ]
  }
 ],
 "metadata": {
  "kernelspec": {
   "display_name": "Python 3 (ipykernel)",
   "language": "python",
   "name": "python3"
  },
  "language_info": {
   "codemirror_mode": {
    "name": "ipython",
    "version": 3
   },
   "file_extension": ".py",
   "mimetype": "text/x-python",
   "name": "python",
   "nbconvert_exporter": "python",
   "pygments_lexer": "ipython3",
   "version": "3.9.0"
  }
 },
 "nbformat": 4,
 "nbformat_minor": 5
}
