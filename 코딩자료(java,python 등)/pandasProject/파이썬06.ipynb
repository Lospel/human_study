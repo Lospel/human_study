{
 "cells": [
  {
   "cell_type": "code",
   "execution_count": 1,
   "id": "9645f14f-34a7-42cb-9ecf-982050a91c73",
   "metadata": {},
   "outputs": [],
   "source": [
    "import pandas as pd\n",
    "import seaborn as sns\n",
    "from sklearn.datasets import load_iris\n",
    "from sklearn.model_selection import train_test_split\n",
    "from sklearn.tree import DecisionTreeClassifier\n",
    "from sklearn.neural_network import MLPClassifier\n",
    "import matplotlib.pyplot as plt\n",
    "from tkinter import *\n",
    "from sklearn.preprocessing import scale"
   ]
  },
  {
   "cell_type": "code",
   "execution_count": 2,
   "id": "3312c6d1-ade9-4d63-b763-1d135dd06aa3",
   "metadata": {},
   "outputs": [
    {
     "name": "stdout",
     "output_type": "stream",
     "text": [
      "Empty DataFrame\n",
      "Columns: [이름, 국어, 수학, 물리, 세계사, 분류]\n",
      "Index: []\n"
     ]
    }
   ],
   "source": [
    "data={'이름':[],'국어':[],'수학':[],'물리':[],'세계사':[],'분류':[]}\n",
    "df=pd.DataFrame(data)\n",
    "print(df)\n",
    "# global data0001\n",
    "# data0001 =10\n"
   ]
  },
  {
   "cell_type": "code",
   "execution_count": 3,
   "id": "5e18d310-df5e-4c88-a942-01e2db376c9f",
   "metadata": {},
   "outputs": [],
   "source": [
    "def insert() :\n",
    "    global df\n",
    "    name=input('이름을 작성하시오')\n",
    "    korean=input('국어 성적을 입력하시오.')\n",
    "    if int(korean) > 100 or korean is None:\n",
    "        print('올바른 성적을 입력하시오.')\n",
    "        korean=input('국어 성적을 입력하시오.')\n",
    "    math=input('수학 성적을 입력하시오.')\n",
    "    if int(math) > 100 or math is None:\n",
    "        print('올바른 성적을 입력하시오.')\n",
    "        math=input('수학 성적을 입력하시오.')\n",
    "    physic=input('물리 성적을 입력하시오.')\n",
    "    if int(physic) > 100 or physic is None:\n",
    "        print('올바른 성적을 입력하시오.')\n",
    "        physic=input('물리 성적을 입력하시오.')\n",
    "    history=input('세계사 성적을 입력하시오.')\n",
    "    if int(history) > 100 or history is None:\n",
    "        print('올바른 성적을 입력하시오.')\n",
    "        history=input('세계사 성적을 입력하시오.')\n",
    "    category = input('분류를 작성하시오.')\n",
    "    if(df['이름']==name).any():\n",
    "        print('같은 이름이 있습니다.')\n",
    "    else:\n",
    "        df.loc[len(df)] = [name,korean,math,physic,history, category]\n",
    "        print('같은 이름이 없습니다.')\n",
    "def info() :\n",
    "    global df\n",
    "    print(df)\n",
    "    \n",
    "def saveCSV():\n",
    "    global df\n",
    "    df.to_csv('./studentGrade.csv',index=False)\n",
    "\n",
    "def loadCSV() :\n",
    "    global df\n",
    "    file_path='./studentGrade.csv'\n",
    "    df = pd.read_csv(file_path)\n",
    "    \n",
    "def mathDataInfo():\n",
    "    global df\n",
    "    mathData = df['수학']\n",
    "    print(mathData)\n",
    "    \n",
    "# 데이터 불러오고 0~100점 사이의 값이 없을 경우(이상치)\n",
    "# 데이터 자체가 없을 경우(결손값)\n",
    "# 1) 데이터 불러오는  (수학의 평균, 국어의 평균과 같이 컬럼위치에 따라 평균이 달라짐)\n",
    "# mathData = df['수학'] 특정 컬럼의 데이터를 모두 가져오고 평균값 구하기\n",
    "# 그 후에 평균값을 결손값, 이상치에 덮어쓰기\n",
    "# 2) 결손값, 이상치를 찾는 코드를 구현\n",
    "# 결손값은 null값 혹은 0값을 찾으면 됨\n",
    "# 이상치 : 0~100점 사이 외의 값을 찾으면 됨\n",
    "# df.loc[df['수학'] == 조건, ('수학')] == 바꿀 평균값\n",
    "def dataFix() :\n",
    "    global df\n",
    "# 1) 컬럼마다 평균값 구하기\n",
    "# ex) 자바는 반복문 돌면서 값을 전부 저장하고 개수로 나누는 작업\n",
    "# axis : axis='rows' row(튜플) 기준으로 값을 도출\n",
    "# numeric_only=True : 데이터는 반드시 숫자로 인식한다는 옵션 (데이터 갯수 인식 포함)\n",
    "# mean : 평균값 구하기\n",
    "# 2) 컬럼의 결손 위치, 이상 위치를 찾아서 업데이트\n",
    "# axis=1 인 rows기준으로 행을 줄이되, 값은 평균 mean값으로 변경\n",
    "    avg=df.mean(axis='rows',numeric_only=True)\n",
    "#     avg 데이터 프레임을 순회를 기준으로 \n",
    "    count = 1\n",
    "    for i in avg:\n",
    "        # print(i)\n",
    "        # if (df.iloc[:,count] >100).any() or (df.iloc[:,count]<0).any() :\n",
    "        #     print('결손값 있음', df.iloc[:,count])\n",
    "        # df.loc[조건문, 저장할 컬럼위치] = 넣을 데이터\n",
    "        df.loc[df.iloc[:,count] >100,df.columns[count]] = round(i)\n",
    "        df.loc[df.iloc[:,count] <0,df.columns[count]] = round(i)\n",
    "        count += 1  \n",
    "    \n",
    "# def viewWindows():\n",
    "#     window = Tk()\n",
    "#     data0001 = thkinter\n",
    "\n",
    "# 결손값, 이상치 데이터를 직관적으로 찾기 위해서.\n",
    "# pie, bar, line, area, box\n",
    "def viewGraph():\n",
    "    global df\n",
    "    plt.boxplot(df.세계사[:])"
   ]
  },
  {
   "cell_type": "code",
   "execution_count": 4,
   "id": "c8e20bb9-3888-442b-af56-10c65e9481bb",
   "metadata": {},
   "outputs": [],
   "source": [
    "# 1. 반복문 + break;\n",
    "# 학생 성적을 계속 받아서 데이터에 저장하는 로직\n",
    "# 데이터는 반복문 밖에서 불어오면 단 1번만 실행하므로 불확정 요소 연산을 줄일 수 있다.\n",
    "# 계속 반복적으로 csv파일을 로드하는 작업은 컴퓨터에 부하를 야기할 수 있다.\n",
    "# loadCSV()\n",
    "# mathDataInfo()\n",
    "# while True:\n",
    "#     choice=input('학생 성적을 입력하시겠습니까?(y) 혹은 끝내겠습니까?(n)')\n",
    "#     if choice == 'y' : \n",
    "#         insert()\n",
    "#     else :\n",
    "#         info()\n",
    "#         saveCSV()\n",
    "#         break\n",
    "# extra. 이상치, 결손값 같은 데이터 불균형 상황을 어떤 프로세스(작업의 순서)로 작업을 할지 생각해보세요.\n",
    "# ex) 데이터 입력 도중에 점수가 100 이하여야 하는데 초과할 경우, 또는 데이터가 없는 경우\n",
    "\n",
    "# 2. 저장된 데이터 프레임을 csv확장자로 저장하기\n",
    "\n",
    "# 3.csv로 저장된 데이터 불러와서 데이터 프레임에 저장\n",
    "# (csv를 코드 초기에 불러오는 로직을 구현하여 DB대체 사용)\n",
    "\n",
    "# viewGraph()"
   ]
  },
  {
   "cell_type": "code",
   "execution_count": 5,
   "id": "9171137c-d540-48ce-a44d-7b47c78883ba",
   "metadata": {},
   "outputs": [],
   "source": [
    "# 데이터 입출력\n",
    "loadCSV()"
   ]
  },
  {
   "cell_type": "code",
   "execution_count": 6,
   "id": "4f103617-6f46-444b-b2d5-aaec74787d8e",
   "metadata": {},
   "outputs": [
    {
     "data": {
      "text/html": [
       "<div>\n",
       "<style scoped>\n",
       "    .dataframe tbody tr th:only-of-type {\n",
       "        vertical-align: middle;\n",
       "    }\n",
       "\n",
       "    .dataframe tbody tr th {\n",
       "        vertical-align: top;\n",
       "    }\n",
       "\n",
       "    .dataframe thead th {\n",
       "        text-align: right;\n",
       "    }\n",
       "</style>\n",
       "<table border=\"1\" class=\"dataframe\">\n",
       "  <thead>\n",
       "    <tr style=\"text-align: right;\">\n",
       "      <th>col_0</th>\n",
       "      <th>문과</th>\n",
       "      <th>이과</th>\n",
       "    </tr>\n",
       "    <tr>\n",
       "      <th>분류</th>\n",
       "      <th></th>\n",
       "      <th></th>\n",
       "    </tr>\n",
       "  </thead>\n",
       "  <tbody>\n",
       "    <tr>\n",
       "      <th>문과</th>\n",
       "      <td>14</td>\n",
       "      <td>0</td>\n",
       "    </tr>\n",
       "    <tr>\n",
       "      <th>이과</th>\n",
       "      <td>0</td>\n",
       "      <td>12</td>\n",
       "    </tr>\n",
       "  </tbody>\n",
       "</table>\n",
       "</div>"
      ],
      "text/plain": [
       "col_0  문과  이과\n",
       "분류           \n",
       "문과     14   0\n",
       "이과      0  12"
      ]
     },
     "execution_count": 6,
     "metadata": {},
     "output_type": "execute_result"
    }
   ],
   "source": [
    "# 머신러닝 변수구간 만들기\n",
    "X=df.iloc[:,1:-1]\n",
    "y=df.iloc[:,-1]\n",
    "\n",
    "# 학습용 모델링 만들기\n",
    "train_X, test_X, train_y, test_y = train_test_split(X,y, test_size=0.25, random_state=1)\n",
    "\n",
    "# DecisionTreeClassifier 알고리즘으로 모델 형태 만들기\n",
    "dt_model = DecisionTreeClassifier(random_state =1)\n",
    "# 학습진행\n",
    "dt_model.fit(train_X,train_y)\n",
    "# 검증진행\n",
    "dt_model.predict(test_X)\n",
    "dt_pred_y = dt_model.predict(test_X)\n",
    "# 테이블 모형으로 예측결과 출력하기\n",
    "pd.crosstab(test_y,dt_pred_y)\n",
    "\n"
   ]
  },
  {
   "cell_type": "code",
   "execution_count": 7,
   "id": "70e3eee4-001f-4965-bcef-1aa81a405f13",
   "metadata": {},
   "outputs": [
    {
     "data": {
      "text/html": [
       "<div>\n",
       "<style scoped>\n",
       "    .dataframe tbody tr th:only-of-type {\n",
       "        vertical-align: middle;\n",
       "    }\n",
       "\n",
       "    .dataframe tbody tr th {\n",
       "        vertical-align: top;\n",
       "    }\n",
       "\n",
       "    .dataframe thead th {\n",
       "        text-align: right;\n",
       "    }\n",
       "</style>\n",
       "<table border=\"1\" class=\"dataframe\">\n",
       "  <thead>\n",
       "    <tr style=\"text-align: right;\">\n",
       "      <th>col_0</th>\n",
       "      <th>문과</th>\n",
       "      <th>이과</th>\n",
       "    </tr>\n",
       "    <tr>\n",
       "      <th>분류</th>\n",
       "      <th></th>\n",
       "      <th></th>\n",
       "    </tr>\n",
       "  </thead>\n",
       "  <tbody>\n",
       "    <tr>\n",
       "      <th>문과</th>\n",
       "      <td>14</td>\n",
       "      <td>0</td>\n",
       "    </tr>\n",
       "    <tr>\n",
       "      <th>이과</th>\n",
       "      <td>0</td>\n",
       "      <td>12</td>\n",
       "    </tr>\n",
       "  </tbody>\n",
       "</table>\n",
       "</div>"
      ],
      "text/plain": [
       "col_0  문과  이과\n",
       "분류           \n",
       "문과     14   0\n",
       "이과      0  12"
      ]
     },
     "execution_count": 7,
     "metadata": {},
     "output_type": "execute_result"
    }
   ],
   "source": [
    "# MLPClassifier 알고리즘 모델 형태 만들기\n",
    "mlp_model=MLPClassifier(hidden_layer_sizes=(100,200,50,20),max_iter=500,random_state=1)\n",
    "\n",
    "mlp_model.fit(train_X, train_y)\n",
    "mlp_pred_y=mlp_model.predict(test_X)\n",
    "pd.crosstab(test_y, mlp_pred_y)"
   ]
  },
  {
   "cell_type": "code",
   "execution_count": 8,
   "id": "30b1bff6-776d-4f6f-93c6-8260929be7f7",
   "metadata": {},
   "outputs": [
    {
     "data": {
      "text/plain": [
       "1.0"
      ]
     },
     "execution_count": 8,
     "metadata": {},
     "output_type": "execute_result"
    }
   ],
   "source": [
    "# mlp_model.score(test_X,test_y)\n",
    "mlp_model.score(train_X,train_y)"
   ]
  },
  {
   "cell_type": "code",
   "execution_count": 9,
   "id": "f59de9f7-bbb1-4597-9e58-c291b28d8506",
   "metadata": {},
   "outputs": [
    {
     "name": "stdout",
     "output_type": "stream",
     "text": [
      "    이름  국어  수학  물리  세계사\n",
      "0  김도위  10  50  50   10\n",
      "1  박준석  14  60  40   20\n",
      "2  이준석  50  30  40   80\n",
      "3  소준석  30  50  40   60\n",
      "4  대준석  99   1   2   60\n"
     ]
    },
    {
     "data": {
      "text/plain": [
       "array([[-0.96569714,  0.49998205,  1.11005062, -1.48148749],\n",
       "       [-0.83172759,  1.00843836,  0.5456181 , -1.13960576],\n",
       "       [ 0.37399831, -0.51693059,  0.5456181 ,  0.91168461],\n",
       "       [-0.29584941,  0.49998205,  0.5456181 ,  0.22792115],\n",
       "       [ 2.01512525, -1.99145391, -1.59922548,  0.22792115]])"
      ]
     },
     "execution_count": 9,
     "metadata": {},
     "output_type": "execute_result"
    }
   ],
   "source": [
    "print(df.iloc[:5,:-1])\n",
    "# 표준편차 : 평균에서 얼마나 떨어져 있는지를 절대값으로 표현\n",
    "# 절대값 : 양수로 계산된 떨어진 범위(음,양수를 모두 양수로 표현)\n",
    "scaledTest = scale(X)\n",
    "scaledTest[:5,:]\n",
    "\n",
    "# scaledTest.mean(axis=0)\n",
    "# scaledTest.std(axis=0)"
   ]
  },
  {
   "cell_type": "code",
   "execution_count": 17,
   "id": "8caea497-6df1-45a3-a597-ab7d9691b504",
   "metadata": {},
   "outputs": [
    {
     "name": "stdout",
     "output_type": "stream",
     "text": [
      "이과가  41.666666666666664  만큼 더 높습니다.\n",
      "문과가  26.333333333333336  만큼 더 높습니다.\n",
      "문과가  6.0000000000000036  만큼 더 높습니다.\n",
      "이과가  26.66666666666667  만큼 더 높습니다.\n"
     ]
    }
   ],
   "source": [
    "loadCSV()\n",
    "# 문과 학생과 이과 학생의 각 과목 점수가 어느쪽이 높은지 출력하시오.\n",
    "def gradeCompare():\n",
    "    global df\n",
    "    # 문과 학생 튜플 테이터프레임과 평균값을 출력\n",
    "    lib_df = df[df['분류']=='문과']\n",
    "    lib_avg = lib_df.mean(axis='rows',numeric_only=True)\n",
    "    # 이과 학생 튜플 데이터프레임과 평균값을 출력\n",
    "    sci_df = df[df['분류']=='이과']\n",
    "    sci_avg = sci_df.mean(axis='rows',numeric_only=True)\n",
    "    lib_df.columns\n",
    "    # 문과 이과 점수를 컬럼마다 각각 비교\n",
    "    count = 0\n",
    "    for i in lib_avg :\n",
    "        if lib_avg[count] > sci_avg[count]:\n",
    "            print('이과가 ', (lib_avg[count] - sci_avg[count]) , ' 만큼 더 높습니다.')\n",
    "        else :\n",
    "            print('문과가 ', (sci_avg[count] - lib_avg[count]) , ' 만큼 더 높습니다.')\n",
    "        count += 1\n",
    "\n",
    "    \n",
    "gradeCompare()"
   ]
  }
 ],
 "metadata": {
  "kernelspec": {
   "display_name": "Python 3 (ipykernel)",
   "language": "python",
   "name": "python3"
  },
  "language_info": {
   "codemirror_mode": {
    "name": "ipython",
    "version": 3
   },
   "file_extension": ".py",
   "mimetype": "text/x-python",
   "name": "python",
   "nbconvert_exporter": "python",
   "pygments_lexer": "ipython3",
   "version": "3.9.0"
  }
 },
 "nbformat": 4,
 "nbformat_minor": 5
}
