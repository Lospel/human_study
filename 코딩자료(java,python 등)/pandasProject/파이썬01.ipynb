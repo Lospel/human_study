{
 "cells": [
  {
   "cell_type": "code",
   "execution_count": 1,
   "id": "a6d0715e-1872-4926-9354-d02fa0bd29b1",
   "metadata": {},
   "outputs": [
    {
     "name": "stdout",
     "output_type": "stream",
     "text": [
      "hello world\n"
     ]
    }
   ],
   "source": [
    "print(\"hello world\")"
   ]
  },
  {
   "cell_type": "code",
   "execution_count": 1,
   "id": "1366b074-1b7f-45a3-9fa5-fbcf2185b2c3",
   "metadata": {},
   "outputs": [
    {
     "name": "stdout",
     "output_type": "stream",
     "text": [
      "김도위\n"
     ]
    }
   ],
   "source": [
    "# 자바 : 정적타입 : 개발자가 타입을 명시 : String name = \"김준석\";\n",
    "# 파이썬 : 동적타입 : 메모리에 할당된 값을 보고 언어가 유추하여 타입 지정 : name = \"김준석\"\n",
    "age = 30\n",
    "name = \"김도위\"\n",
    "print(name)"
   ]
  },
  {
   "cell_type": "code",
   "execution_count": 2,
   "id": "99bbd032-98c5-4479-b6ca-feefe37569d9",
   "metadata": {},
   "outputs": [
    {
     "name": "stdout",
     "output_type": "stream",
     "text": [
      "휴먼교육센터 3클래스 김도위\n"
     ]
    }
   ],
   "source": [
    "class1 = \"휴먼교육센터 3클래스 \"\n",
    "print(class1 + name)"
   ]
  },
  {
   "cell_type": "code",
   "execution_count": 4,
   "id": "8e632b4b-7916-4d74-a56b-5dcb9ea82091",
   "metadata": {},
   "outputs": [
    {
     "name": "stdout",
     "output_type": "stream",
     "text": [
      "<class 'pandas.core.series.Series'>\n",
      "\n",
      "\n",
      "a       1\n",
      "b       2\n",
      "c       3\n",
      "김준석    교사\n",
      "dtype: object\n"
     ]
    }
   ],
   "source": [
    "# import : 라이브러리 pandas를 가져다 쓰겠다.\n",
    "# as : 별칭 (별칭으로 라이브러리를 지목)\n",
    "import pandas as pd\n",
    "# dict_data : 변수 : 변수하는 수 <> 상수\n",
    "# dict_data : 변수이름을 지어서 =(대입연산자 : 우측항 데이터를 죄측항 변수에 저장(할당))\n",
    "# 'a' : 1 (a를 호출하면 1이라는 값이 출력)\n",
    "# 'a' 문자열, 1은 정수(숫자)\n",
    "dict_data = {'a':1, 'b':2, 'c':3, '김준석':'교사'}\n",
    "# pd(pandas 별칭)의 Series 메서드를 실행\n",
    "# 인자값 dict_data를 넣음\n",
    "sr = pd.Series(dict_data)\n",
    "print(type(sr))\n",
    "print('\\n')\n",
    "print(sr)"
   ]
  },
  {
   "cell_type": "code",
   "execution_count": 5,
   "id": "55cbb4a1-3780-4e4a-bd14-6101436720e9",
   "metadata": {},
   "outputs": [
    {
     "name": "stdout",
     "output_type": "stream",
     "text": [
      "0    2019-01-02\n",
      "1          2.14\n",
      "2           ABC\n",
      "3           100\n",
      "4          True\n",
      "dtype: object\n"
     ]
    }
   ],
   "source": [
    "# 참조타입 : 변수와 변수값을 연결하는(주소값) 타입 <> 기본타입\n",
    "list_data = ['2019-01-02', 2.14, 'ABC', 100, True]\n",
    "# sr이라는 변수이름에 원래 데이터는 dict_data이였으나, list_data로 만들어진 값을 sr변수에 대체 연결함.\n",
    "sr = pd.Series(list_data)\n",
    "print(sr)"
   ]
  },
  {
   "cell_type": "code",
   "execution_count": 23,
   "id": "7b94dcd7-5437-49d0-99a6-8a75e664334b",
   "metadata": {},
   "outputs": [
    {
     "name": "stdout",
     "output_type": "stream",
     "text": [
      "나의 이름은 김도위\n",
      "[{'이름': '김도위', '성별': '남', '직업': '학생'}, {'이름': '도위', '성별': '남', '직업': '학생'}]\n",
      "없는 이름입니다.\n"
     ]
    }
   ],
   "source": [
    "# 학생의 개인정보를 저장하는 딕셔너리 배열을 만들고,\n",
    "# (이름, id, pw, 성별 등등)\n",
    "# 그 중에 이름을 출력하는 print메서드를 실행하시오.\n",
    "\n",
    "# {}중괄호: map(key, value)\n",
    "#  ex = {key:value,...}\n",
    "# []대괄호: 배열\n",
    "#  ex = [1,2,3,4,...]\n",
    "\n",
    "Student_list = {'이름': '김도위', 'id': 'rlaehdnl', 'pw':'123asd', '성별':'남', '직업':'학생'}\n",
    "# 향상된 반복문\n",
    "# 자바) for(String item : stringArray)\n",
    "# 기본 반복문과 동일하나, 배열 처음부터 끝까지 모든 조회를 간략화한 코드 = for(i=0; i<stringArray.length; i++)\n",
    "# 파이썬)\n",
    "# item in itemArray:\n",
    "# itemArray 배열을 모두 순회하면서 하나씩 가져옴.\n",
    "Student_list2 = [{'이름': '김도위', '성별':'남', '직업':'학생'},{'이름':'도위','성별':'남','직업':'학생'}]\n",
    "if '이름' in Student_list :\n",
    "    print('나의 이름은 ' + Student_list['이름'])\n",
    "else:\n",
    "    print('없는 이름입니다.')\n",
    "print(Student_list2)\n",
    "if '이름' in Student_list2 :\n",
    "    print('나의 이름은 ' + Student_list2['이름'])\n",
    "else:\n",
    "    print('없는 이름입니다.')"
   ]
  },
  {
   "cell_type": "code",
   "execution_count": 24,
   "id": "8f7b7981-67a3-4dfe-bdac-bd9d5852a8b8",
   "metadata": {},
   "outputs": [
    {
     "name": "stdout",
     "output_type": "stream",
     "text": [
      "이름         김도위\n",
      "id    rlaehdnl\n",
      "pw      123asd\n",
      "직업          학생\n",
      "성별           남\n",
      "dtype: object\n"
     ]
    }
   ],
   "source": [
    "sr=pd.Series(Student_list, index=['이름','id','pw','직업','성별'])\n",
    "print(sr)"
   ]
  },
  {
   "cell_type": "code",
   "execution_count": 26,
   "id": "97fc001a-770b-4d2c-baa6-d43eb2d4048f",
   "metadata": {},
   "outputs": [
    {
     "name": "stdout",
     "output_type": "stream",
     "text": [
      "이름         김도위\n",
      "id    rlaehdnl\n",
      "pw      123asd\n",
      "dtype: object\n"
     ]
    }
   ],
   "source": [
    "print(sr[0:3])"
   ]
  },
  {
   "cell_type": "code",
   "execution_count": 28,
   "id": "d99a93be-7c8d-4b40-9cfe-e3c03954ef17",
   "metadata": {},
   "outputs": [
    {
     "name": "stdout",
     "output_type": "stream",
     "text": [
      "    나이 성별   학교\n",
      "준서  15  남  덕영중\n",
      "예은  17  여  수리중\n"
     ]
    }
   ],
   "source": [
    "df = pd.DataFrame([[15,'남','덕영중'],\n",
    "                   [17,'여','수리중']],\n",
    "                  index = ['준서','예은'],\n",
    "                  columns=['나이','성별','학교'])\n",
    "print(df)"
   ]
  },
  {
   "cell_type": "code",
   "execution_count": 29,
   "id": "d201e309-7c2f-4245-be49-c87a0356a61d",
   "metadata": {},
   "outputs": [
    {
     "name": "stdout",
     "output_type": "stream",
     "text": [
      "    수학  영어   음악   체육\n",
      "서준  90  98   85  100\n",
      "우현  80  89   95   90\n",
      "인아  70  95  100   90\n"
     ]
    }
   ],
   "source": [
    "exam_data = {'수학':[90,80,70],\n",
    "             '영어':[98,89,95],\n",
    "             '음악':[85,95,100],\n",
    "             '체육':[100,90,90]}\n",
    "ef = pd.DataFrame(exam_data, index=['서준','우현','인아'])\n",
    "print(ef)"
   ]
  },
  {
   "cell_type": "code",
   "execution_count": 33,
   "id": "5685fe5f-6de7-4c5d-98ab-ced5d0f190e9",
   "metadata": {},
   "outputs": [
    {
     "name": "stdout",
     "output_type": "stream",
     "text": [
      "    수학  영어  음악   체육\n",
      "서준  90  98  85  100\n"
     ]
    },
    {
     "name": "stderr",
     "output_type": "stream",
     "text": [
      "C:\\Users\\h\\AppData\\Local\\Temp\\ipykernel_5920\\1392508626.py:2: SettingWithCopyWarning: \n",
      "A value is trying to be set on a copy of a slice from a DataFrame\n",
      "\n",
      "See the caveats in the documentation: https://pandas.pydata.org/pandas-docs/stable/user_guide/indexing.html#returning-a-view-versus-a-copy\n",
      "  ef2.drop(['우현','인아'],axis=0,inplace=True)\n"
     ]
    }
   ],
   "source": [
    "ef2 = ef[:]\n",
    "ef2.drop(['우현','인아'],axis=0,inplace=True)\n",
    "print(ef2)"
   ]
  },
  {
   "cell_type": "code",
   "execution_count": 34,
   "id": "bd5ff829-10b2-4eb0-b6ca-f24a7af3e191",
   "metadata": {},
   "outputs": [
    {
     "name": "stdout",
     "output_type": "stream",
     "text": [
      "   이름  수학  영어   음악   체육\n",
      "0  서준  90  98   85  100\n",
      "1  우현  80  89   95   90\n",
      "2  인아  70  95  100   90\n"
     ]
    }
   ],
   "source": [
    "exam_data = {'이름' : ['서준','우현','인아'],\n",
    "             '수학':[90,80,70],\n",
    "             '영어':[98,89,95],\n",
    "             '음악':[85,95,100],\n",
    "             '체육':[100,90,90]}\n",
    "df = pd.DataFrame(exam_data)\n",
    "print(df)"
   ]
  },
  {
   "cell_type": "code",
   "execution_count": 41,
   "id": "c5686449-e527-4b4a-8607-07470ce0dce0",
   "metadata": {},
   "outputs": [
    {
     "name": "stdout",
     "output_type": "stream",
     "text": [
      "5\n"
     ]
    }
   ],
   "source": [
    "print(len(df))\n",
    "df.loc[len(df)]=['동규',90,80,70,60]\n",
    "# 자바는 고정, 가변 배열이 나누어진 반면에,\n",
    "# df[3]의 경우 고정배열로 한정된 메모리 범위 안에서 값을 추가.\n",
    "# df.add[3]의 경구 가변배열로 마지막 칸 이후에 추가적으로 값 추가.\n",
    "# 파이썬의 데이터프레임은 바로 배열 번호를 작성하면 자유롭게 추가 가능하다."
   ]
  },
  {
   "cell_type": "code",
   "execution_count": 42,
   "id": "646bba89-c1a0-49f8-bdcd-02599033bf61",
   "metadata": {},
   "outputs": [
    {
     "name": "stdout",
     "output_type": "stream",
     "text": [
      "   이름  수학  영어   음악   체육\n",
      "0  서준  90  98   85  100\n",
      "1  우현  80  89   95   90\n",
      "2  인아  70  95  100   90\n",
      "3  동규  90  80   70   60\n",
      "4  동규  90  80   70   60\n",
      "5  동규  90  80   70   60\n"
     ]
    }
   ],
   "source": [
    "print(df)"
   ]
  },
  {
   "cell_type": "code",
   "execution_count": 49,
   "id": "d5d86830-22e7-469c-b0d5-5bc702b3a22c",
   "metadata": {},
   "outputs": [
    {
     "name": "stdout",
     "output_type": "stream",
     "text": [
      "    이름  수학  영어   음악   체육\n",
      "0   서준  90  98   85  100\n",
      "1   우현  80  89   95   90\n",
      "2   인아  70  95  100   90\n",
      "3   동규  90  80   70   60\n",
      "행5  서준  90  98   85  100\n"
     ]
    }
   ],
   "source": [
    "df.loc['행5']=df.loc[0]\n",
    "print(df)"
   ]
  },
  {
   "cell_type": "code",
   "execution_count": 50,
   "id": "4dc05de0-dfd1-46f6-816c-9efc710940a9",
   "metadata": {},
   "outputs": [
    {
     "name": "stdout",
     "output_type": "stream",
     "text": [
      "    수학  영어   음악   체육\n",
      "이름                  \n",
      "서준  90  98   85  100\n",
      "우현  80  89   95   90\n",
      "인아  70  95  100   90\n",
      "동규  90  80   70   60\n",
      "서준  90  98   85  100\n"
     ]
    }
   ],
   "source": [
    "df.set_index('이름',inplace=True)\n",
    "print(df)"
   ]
  },
  {
   "cell_type": "code",
   "execution_count": 53,
   "id": "d7636965-326a-4c8c-ac23-19bf01c7e52b",
   "metadata": {},
   "outputs": [
    {
     "name": "stdout",
     "output_type": "stream",
     "text": [
      "    수학  영어   음악   체육\n",
      "이름                  \n",
      "서준  90  98   85   80\n",
      "우현  80  89   95   99\n",
      "인아  70  95  100   90\n",
      "동규  90  80   70   60\n",
      "서준  90  98   85  100\n"
     ]
    },
    {
     "name": "stderr",
     "output_type": "stream",
     "text": [
      "C:\\Users\\h\\AppData\\Local\\Temp\\ipykernel_5920\\4010634859.py:2: SettingWithCopyWarning: \n",
      "A value is trying to be set on a copy of a slice from a DataFrame.\n",
      "Try using .loc[row_indexer,col_indexer] = value instead\n",
      "\n",
      "See the caveats in the documentation: https://pandas.pydata.org/pandas-docs/stable/user_guide/indexing.html#returning-a-view-versus-a-copy\n",
      "  df.loc['서준']['체육']=90\n"
     ]
    }
   ],
   "source": [
    "df.iloc[1][3]=99\n",
    "df.loc['서준']['체육']=90\n",
    "print(df)"
   ]
  },
  {
   "cell_type": "code",
   "execution_count": 58,
   "id": "7d505695-82f4-4317-9b74-e86a9fc220dd",
   "metadata": {},
   "outputs": [
    {
     "name": "stdout",
     "output_type": "stream",
     "text": [
      "이름  서준  우현   인아  동규   서준\n",
      "수학  90  80   70  90   90\n",
      "영어  98  89   95  80   98\n",
      "음악  85  95  100  70   85\n",
      "체육  80  99   90  60  100\n"
     ]
    }
   ],
   "source": [
    "# 선형대수\n",
    "# 전치행렬 = 행,열 바꾸기\n",
    "test=df.transpose()\n",
    "print(test)\n",
    "# df = df.T : 클래스로 전치행렬\n",
    "# 파이썬은 메서드를 사용하여 데이터 처리하는 것이 암묵적 룰"
   ]
  },
  {
   "cell_type": "code",
   "execution_count": null,
   "id": "cdaa0a13-adac-4570-a51d-f8378ea85a99",
   "metadata": {},
   "outputs": [],
   "source": [
    "# 데이터프레임은 2중배열로 column과 row로 구성되어 있다.(=테이블)\n",
    "# df.loc[위치] : 튜플 추가\n",
    "# drop : 튜플(row)삭제\n",
    "# set_index : 바꾸기\n",
    "# transpose : 행열 바꾸기"
   ]
  },
  {
   "cell_type": "code",
   "execution_count": 6,
   "id": "9701b8ad-17b5-47fa-b74f-cf04e15898b5",
   "metadata": {},
   "outputs": [
    {
     "name": "stdout",
     "output_type": "stream",
     "text": [
      "   이름  수학  영어   음악   체육\n",
      "0  서준  90  98   85  100\n",
      "1  우현  80  89   95   90\n",
      "2  인아  70  95  100   90\n",
      "\n",
      "\n",
      "   이름  수학  영어   음악   체육\n",
      "0  서준  90  98   85  100\n",
      "1  우현  80  89   95   90\n",
      "2  인아  70  95  100   90\n",
      "3  준수  10  20   30   40\n",
      "\n",
      "\n",
      "   이름  수학  영어   음악   체육\n",
      "0  서준  90  98   85  100\n",
      "1  우현  80  89   95   90\n",
      "2  인아  70  95  100   90\n",
      "3  준수  90  90   90   90\n",
      "\n",
      "\n",
      "   이름  수학  영어   음악   체육\n",
      "0  서준  90  98   85  100\n",
      "1  우현  80  89   95   90\n",
      "2  인아  70  95  100   90\n"
     ]
    }
   ],
   "source": [
    "# 학생 회원의 정보를 담는 데이터프레임을 만들고,\n",
    "# 추가하는 메서드, 삭제하는 메서드, 변경하는 메서드\n",
    "# 만들어서 활용하는 코드를 자유롭게 만드시오.\n",
    "\n",
    "# 예) 이름, 학번, 성별, 입학날짜, 기타사항.\n",
    "# 컬럼(데이터 프레임)을 만들고\n",
    "# loc[len()], drop, set_index()를 각각 실행하는\n",
    "# def 메서드 3개를 만들어 실행하는 코드 작성\n",
    "# *SOLID 원칙에서 하나의 메서드는 하나의 기능만 실행 가능하게 만들기.\n",
    "exam_data = {'이름' : ['서준','우현','인아'],\n",
    "             '수학':[90,80,70],\n",
    "             '영어':[98,89,95],\n",
    "             '음악':[85,95,100],\n",
    "             '체육':[100,90,90]}\n",
    "global ef\n",
    "ef=pd.DataFrame(exam_data)\n",
    "\n",
    "def funcInsert(name,num1,num2,num3,num4) :\n",
    "    global ef\n",
    "    ef.loc[len(ef)]=[name,num1,num2,num3,num4]\n",
    "#     ef.lic[5] : ef변수 안에 있는 데이터 프레임의 \n",
    "#     5번째 행(줄, 튜플)에 =(대입연산자) 우측에 있는 배열값을 저장\n",
    "#     df.append(data_set,ignore_index=True)\n",
    "\n",
    "def funcUpdate(name,num1,num2,num3,num4):\n",
    "    global ef\n",
    "    ef.loc[ef.이름 == name,('수학','영어','음악','체육')] = (num1,num2,num3,num4)\n",
    "    \n",
    "def funcDelete(name):\n",
    "    global ef\n",
    "#     df변수에 df.이름이 '준수'가 아닌 값을 가져와서 df에 할당(저장)\n",
    "    # ef= df.loc[df.이름 != '준수']\n",
    "    ef = ef.drop(index=ef.loc[ef.이름 == name].index)\n",
    "#     ef.drop(name, axis=0)\n",
    "    \n",
    "print(ef)\n",
    "print(\"\\n\")  \n",
    "funcInsert('준수',10,20,30,40)\n",
    "print(ef)\n",
    "print(\"\\n\")\n",
    "funcUpdate('준수',90,90,90,90)\n",
    "print(ef)\n",
    "print(\"\\n\")\n",
    "funcDelete('준수')\n",
    "print(ef)\n",
    "\n",
    "    "
   ]
  },
  {
   "cell_type": "code",
   "execution_count": 96,
   "id": "bb900c64-99f8-4fd0-9765-b49eb34321d1",
   "metadata": {},
   "outputs": [
    {
     "name": "stdout",
     "output_type": "stream",
     "text": [
      "10\n",
      "20\n",
      "20\n"
     ]
    }
   ],
   "source": [
    "# 1. 함수(메서드) 개념\n",
    "# 함수 : 재활용이 가능한 코드의 집합 = 메서드\n",
    "# 2. 전역변수, 지역변수\n",
    "# 전역변수 : 여러 메서드들이 사용할 수 있는 변수\n",
    "# 지역변수 : 메서드 안에서만 존재하는 함수로 밖으로 나사면 소멸\n",
    "a=10;\n",
    "# 메서드, 함수\n",
    "def test() :\n",
    "# 변수 a는 전역변수에 a를 지칭(가져옴)\n",
    "# global 선언문이 없담면, test()함수 내에서 지역변수 a를 만들어서 20데이터를 저장.\n",
    "    global a\n",
    "    a=20\n",
    "    print(a)\n",
    "# a의 값은 전역변수 a로 출력\n",
    "print(a)\n",
    "test()\n",
    "print(a)"
   ]
  }
 ],
 "metadata": {
  "kernelspec": {
   "display_name": "Python 3 (ipykernel)",
   "language": "python",
   "name": "python3"
  },
  "language_info": {
   "codemirror_mode": {
    "name": "ipython",
    "version": 3
   },
   "file_extension": ".py",
   "mimetype": "text/x-python",
   "name": "python",
   "nbconvert_exporter": "python",
   "pygments_lexer": "ipython3",
   "version": "3.9.0"
  }
 },
 "nbformat": 4,
 "nbformat_minor": 5
}
