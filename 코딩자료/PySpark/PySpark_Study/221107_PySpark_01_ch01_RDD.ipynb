{
 "cells": [
  {
   "cell_type": "markdown",
   "id": "1a52b62c",
   "metadata": {},
   "source": [
    "## 라이브러리 불러오기\n",
    "- 버전 확인."
   ]
  },
  {
   "cell_type": "code",
   "execution_count": 1,
   "id": "06039175",
   "metadata": {},
   "outputs": [
    {
     "name": "stdout",
     "output_type": "stream",
     "text": [
      "3.2.0\n",
      "1.23.4\n",
      "1.5.1\n",
      "3.6.2\n",
      "0.12.1\n"
     ]
    }
   ],
   "source": [
    "import pyspark\n",
    "import numpy as np\n",
    "import pandas as pd\n",
    "import matplotlib as mpl\n",
    "import seaborn as sns\n",
    "\n",
    "print(pyspark.__version__)\n",
    "print(np.__version__)\n",
    "print(pd.__version__)\n",
    "print(mpl.__version__)\n",
    "print(sns.__version__)"
   ]
  },
  {
   "cell_type": "markdown",
   "id": "2cc6d8b9",
   "metadata": {},
   "source": [
    "## 환경설정 필요\n",
    "- 참조 : https://spark.apache.org/docs/latest/configuration.html\n",
    "- 배워야 할 내용, 네트워크 구성부터 시작, 서버 설정 등등"
   ]
  },
  {
   "cell_type": "code",
   "execution_count": 2,
   "id": "301d0a0b",
   "metadata": {},
   "outputs": [
    {
     "data": {
      "text/html": [
       "\n",
       "        <div>\n",
       "            <p><b>SparkContext</b></p>\n",
       "\n",
       "            <p><a href=\"http://172.28.161.109:4041\">Spark UI</a></p>\n",
       "\n",
       "            <dl>\n",
       "              <dt>Version</dt>\n",
       "                <dd><code>v3.2.0</code></dd>\n",
       "              <dt>Master</dt>\n",
       "                <dd><code>local[*]</code></dd>\n",
       "              <dt>AppName</dt>\n",
       "                <dd><code>PySparkShell</code></dd>\n",
       "            </dl>\n",
       "        </div>\n",
       "        "
      ],
      "text/plain": [
       "<SparkContext master=local[*] appName=PySparkShell>"
      ]
     },
     "execution_count": 2,
     "metadata": {},
     "output_type": "execute_result"
    }
   ],
   "source": [
    "sc"
   ]
  },
  {
   "cell_type": "markdown",
   "id": "f44013d6",
   "metadata": {},
   "source": [
    "## 현재 서버 사용자 이름 확인"
   ]
  },
  {
   "cell_type": "code",
   "execution_count": 3,
   "id": "e43c005c",
   "metadata": {},
   "outputs": [
    {
     "data": {
      "text/plain": [
       "'human'"
      ]
     },
     "execution_count": 3,
     "metadata": {},
     "output_type": "execute_result"
    }
   ],
   "source": [
    "import getpass\n",
    "username = getpass.getuser()\n",
    "username"
   ]
  },
  {
   "cell_type": "markdown",
   "id": "069dfada",
   "metadata": {},
   "source": [
    "## SparkSession\n",
    "- 클러스터에 진입 위한 것"
   ]
  },
  {
   "cell_type": "code",
   "execution_count": 4,
   "id": "f431de32",
   "metadata": {},
   "outputs": [
    {
     "name": "stdout",
     "output_type": "stream",
     "text": [
      "spark version: 3.2.0\n"
     ]
    }
   ],
   "source": [
    "print(\"spark version:\", sc.version)"
   ]
  },
  {
   "cell_type": "code",
   "execution_count": 5,
   "id": "9cdbd8d9",
   "metadata": {},
   "outputs": [
    {
     "name": "stdout",
     "output_type": "stream",
     "text": [
      "python version: 3.8\n"
     ]
    }
   ],
   "source": [
    "print(\"python version:\", sc.pythonVer)"
   ]
  },
  {
   "cell_type": "code",
   "execution_count": 6,
   "id": "bc5da54d",
   "metadata": {},
   "outputs": [
    {
     "name": "stdout",
     "output_type": "stream",
     "text": [
      "Spark Master Name: local[*]\n"
     ]
    }
   ],
   "source": [
    "print(\"Spark Master Name:\", sc.master)"
   ]
  },
  {
   "cell_type": "code",
   "execution_count": 7,
   "id": "a0564cb4",
   "metadata": {},
   "outputs": [],
   "source": [
    "sc.stop()"
   ]
  },
  {
   "cell_type": "markdown",
   "id": "a6976976",
   "metadata": {},
   "source": [
    "## lambda 함수\n",
    "- 사용자 정의 함수를 1회성으로 쓴다."
   ]
  },
  {
   "cell_type": "code",
   "execution_count": 8,
   "id": "00e3a319",
   "metadata": {},
   "outputs": [
    {
     "data": {
      "text/plain": [
       "3"
      ]
     },
     "execution_count": 8,
     "metadata": {},
     "output_type": "execute_result"
    }
   ],
   "source": [
    "def sum(a, b):\n",
    "  c = a + b \n",
    "  return c\n",
    "\n",
    "a = 1\n",
    "b = 2\n",
    "sum(a, b)"
   ]
  },
  {
   "cell_type": "code",
   "execution_count": 9,
   "id": "77aed598",
   "metadata": {},
   "outputs": [
    {
     "data": {
      "text/plain": [
       "105"
      ]
     },
     "execution_count": 9,
     "metadata": {},
     "output_type": "execute_result"
    }
   ],
   "source": [
    "# 어떤 숫자가 들어와도 반드시 5를 더하는 함수\n",
    "def add_five(x):\n",
    "  y = x + 5\n",
    "  return y\n",
    "\n",
    "add_five(100)"
   ]
  },
  {
   "cell_type": "code",
   "execution_count": 10,
   "id": "7b9610e2",
   "metadata": {},
   "outputs": [
    {
     "data": {
      "text/plain": [
       "15"
      ]
     },
     "execution_count": 10,
     "metadata": {},
     "output_type": "execute_result"
    }
   ],
   "source": [
    "plus_five = lambda x : x + 5\n",
    "plus_five(10)"
   ]
  },
  {
   "cell_type": "markdown",
   "id": "293bfb3c",
   "metadata": {},
   "source": [
    "- 매개변수가 2개일 때 "
   ]
  },
  {
   "cell_type": "code",
   "execution_count": 11,
   "id": "32282d8f",
   "metadata": {},
   "outputs": [
    {
     "data": {
      "text/plain": [
       "105"
      ]
     },
     "execution_count": 11,
     "metadata": {},
     "output_type": "execute_result"
    }
   ],
   "source": [
    "# 데이터.map(람다함수 식)\n",
    "# 람다 표현식 자체를 호출하기\n",
    "(lambda x: x + 5)(100)"
   ]
  },
  {
   "cell_type": "markdown",
   "id": "1c82aabb",
   "metadata": {},
   "source": [
    "### 문제 1\n",
    "- 값이 여러개 있는 리스트를 정의 \n",
    "- 각 값에 5를 더하고, 리스트로 반환"
   ]
  },
  {
   "cell_type": "code",
   "execution_count": 12,
   "id": "c08fd8c5",
   "metadata": {},
   "outputs": [
    {
     "data": {
      "text/plain": [
       "[15, 16, 17]"
      ]
     },
     "execution_count": 12,
     "metadata": {},
     "output_type": "execute_result"
    }
   ],
   "source": [
    "num_values = [10, 11, 12]\n",
    "list(map(add_five, num_values))"
   ]
  },
  {
   "cell_type": "markdown",
   "id": "4f34244b",
   "metadata": {},
   "source": [
    "- lambda를 활용"
   ]
  },
  {
   "cell_type": "code",
   "execution_count": 13,
   "id": "8613c0e3",
   "metadata": {},
   "outputs": [
    {
     "data": {
      "text/plain": [
       "[5, 6, 7, 8, 9]"
      ]
     },
     "execution_count": 13,
     "metadata": {},
     "output_type": "execute_result"
    }
   ],
   "source": [
    "list(map(lambda x: x + 5, range(5)))"
   ]
  },
  {
   "cell_type": "markdown",
   "id": "6ce98cdd",
   "metadata": {},
   "source": [
    "- filter() : 조건식으로 통해 값을 필터링 \n",
    "- 0-9 값 중에서, 5 미만만 출력"
   ]
  },
  {
   "cell_type": "code",
   "execution_count": 14,
   "id": "d7f81360",
   "metadata": {},
   "outputs": [
    {
     "data": {
      "text/plain": [
       "[0, 1, 2, 3, 4, 5, 6, 7, 8, 9]"
      ]
     },
     "execution_count": 14,
     "metadata": {},
     "output_type": "execute_result"
    }
   ],
   "source": [
    "list(range(10))"
   ]
  },
  {
   "cell_type": "code",
   "execution_count": 15,
   "id": "55c90e26",
   "metadata": {},
   "outputs": [
    {
     "data": {
      "text/plain": [
       "[0, 1, 2, 3, 4]"
      ]
     },
     "execution_count": 15,
     "metadata": {},
     "output_type": "execute_result"
    }
   ],
   "source": [
    "list(filter(lambda x: x < 5, range(10)))"
   ]
  },
  {
   "cell_type": "code",
   "execution_count": 16,
   "id": "e91dda5b",
   "metadata": {},
   "outputs": [
    {
     "data": {
      "text/plain": [
       "[105, 106, 107, 108, 109]"
      ]
     },
     "execution_count": 16,
     "metadata": {},
     "output_type": "execute_result"
    }
   ],
   "source": [
    "list(map(lambda x : x + 105, range(5)))"
   ]
  },
  {
   "cell_type": "markdown",
   "id": "61762573",
   "metadata": {},
   "source": [
    "## RDD\n",
    "- RDD를 배우자.\n",
    "- 새로운 Spark 세션을 만들자."
   ]
  },
  {
   "cell_type": "code",
   "execution_count": 17,
   "id": "c50dd920",
   "metadata": {},
   "outputs": [
    {
     "name": "stderr",
     "output_type": "stream",
     "text": [
      "22/11/07 15:44:23 WARN Utils: Service 'SparkUI' could not bind on port 4040. Attempting port 4041.\n"
     ]
    },
    {
     "data": {
      "text/html": [
       "\n",
       "            <div>\n",
       "                <p><b>SparkSession - hive</b></p>\n",
       "                \n",
       "        <div>\n",
       "            <p><b>SparkContext</b></p>\n",
       "\n",
       "            <p><a href=\"http://172.28.161.109:4041\">Spark UI</a></p>\n",
       "\n",
       "            <dl>\n",
       "              <dt>Version</dt>\n",
       "                <dd><code>v3.2.0</code></dd>\n",
       "              <dt>Master</dt>\n",
       "                <dd><code>local[1]</code></dd>\n",
       "              <dt>AppName</dt>\n",
       "                <dd><code>my1stSpark</code></dd>\n",
       "            </dl>\n",
       "        </div>\n",
       "        \n",
       "            </div>\n",
       "        "
      ],
      "text/plain": [
       "<pyspark.sql.session.SparkSession at 0x7f0d73a1f130>"
      ]
     },
     "execution_count": 17,
     "metadata": {},
     "output_type": "execute_result"
    }
   ],
   "source": [
    "from pyspark.sql import SparkSession\n",
    "spark = SparkSession.builder.master(\"local[1]\").appName(\"my1stSpark\").getOrCreate()\n",
    "spark"
   ]
  },
  {
   "cell_type": "markdown",
   "id": "a1281ee8",
   "metadata": {},
   "source": [
    "- RDD 객체를 생성하자.\n",
    "- 도움말 참조: https://spark.apache.org/docs/3.3.1/rdd-programming-guide.html#content"
   ]
  },
  {
   "cell_type": "code",
   "execution_count": 18,
   "id": "e57fa8d8",
   "metadata": {},
   "outputs": [
    {
     "data": {
      "text/plain": [
       "[1, 2, 3, 4, 5]"
      ]
     },
     "execution_count": 18,
     "metadata": {},
     "output_type": "execute_result"
    }
   ],
   "source": [
    "data = [1, 2, 3, 4, 5]\n",
    "data"
   ]
  },
  {
   "cell_type": "code",
   "execution_count": 19,
   "id": "21934a9d",
   "metadata": {},
   "outputs": [
    {
     "name": "stdout",
     "output_type": "stream",
     "text": [
      "<class 'pyspark.rdd.RDD'>\n"
     ]
    }
   ],
   "source": [
    "data = [1,2,3,4,5]\n",
    "rdd = spark.sparkContext.parallelize(data)\n",
    "print(type(rdd))"
   ]
  },
  {
   "cell_type": "code",
   "execution_count": 20,
   "id": "121c5c0e",
   "metadata": {},
   "outputs": [
    {
     "name": "stdout",
     "output_type": "stream",
     "text": [
      "<class 'pyspark.rdd.PipelinedRDD'>\n",
      "PythonRDD[2] at RDD at PythonRDD.scala:53\n"
     ]
    }
   ],
   "source": [
    "num_values = range(1,101)\n",
    "rdd = spark.sparkContext.parallelize(num_values)\n",
    "print(type(rdd))\n",
    "print(rdd)"
   ]
  },
  {
   "cell_type": "code",
   "execution_count": 21,
   "id": "7236d7de",
   "metadata": {},
   "outputs": [
    {
     "name": "stdout",
     "output_type": "stream",
     "text": [
      "<class 'pyspark.rdd.RDD'>\n",
      "ParallelCollectionRDD[3] at readRDDFromFile at PythonRDD.scala:274\n"
     ]
    }
   ],
   "source": [
    "import numpy as np\n",
    "np_num_values = np.array([1,2,3])\n",
    "rdd = spark.sparkContext.parallelize(np_num_values)\n",
    "print(type(rdd))\n",
    "print(rdd)"
   ]
  },
  {
   "cell_type": "code",
   "execution_count": 22,
   "id": "20415ea5",
   "metadata": {},
   "outputs": [
    {
     "name": "stdout",
     "output_type": "stream",
     "text": [
      "<class 'pyspark.rdd.RDD'>\n"
     ]
    }
   ],
   "source": [
    "str_values = [\"A\",\"B\",\"C\"]\n",
    "rdd = spark.sparkContext.parallelize(str_values)\n",
    "print(type(rdd))"
   ]
  },
  {
   "cell_type": "markdown",
   "id": "b3d1d8a8",
   "metadata": {},
   "source": [
    "## 데이터 가져오기\n",
    "- README.md 파일을 가져오기"
   ]
  },
  {
   "cell_type": "code",
   "execution_count": 23,
   "id": "6f3ab7b3",
   "metadata": {},
   "outputs": [
    {
     "name": "stdout",
     "output_type": "stream",
     "text": [
      "The File Type is <class 'pyspark.rdd.RDD'>\n",
      "The File Type is <class 'pyspark.rdd.PipelinedRDD'>\n",
      "PythonRDD[7] at RDD at PythonRDD.scala:53\n"
     ]
    },
    {
     "name": "stderr",
     "output_type": "stream",
     "text": [
      "\r",
      "[Stage 0:>                                                          (0 + 1) / 1]\r",
      "\r",
      "                                                                                \r"
     ]
    },
    {
     "name": "stdout",
     "output_type": "stream",
     "text": [
      "19\n",
      "# Apache Spark\n",
      "Spark is a unified analytics engine for large-scale data processing. It provides\n",
      "rich set of higher-level tools including Spark SQL for SQL and DataFrames,\n",
      "[![PySpark Coverage](https://codecov.io/gh/apache/spark/branch/master/graph/badge.svg)](https://codecov.io/gh/apache/spark)\n"
     ]
    }
   ],
   "source": [
    "file_path = 'data/README.md'\n",
    "fileRDD = spark.sparkContext.textFile(file_path)\n",
    "print(\"The File Type is\", type(fileRDD))\n",
    "\n",
    "# Spark Transformation\n",
    "# filter Spark 글자만 출력한다.\n",
    "fileRDD_filter = fileRDD.filter(lambda line : 'Spark' in line)\n",
    "print(\"The File Type is\", type(fileRDD_filter))\n",
    "print(fileRDD_filter)\n",
    "\n",
    "# Spark Action\n",
    "print(fileRDD_filter.count())\n",
    "for line in fileRDD_filter.take(4):\n",
    "    print(line)"
   ]
  },
  {
   "cell_type": "code",
   "execution_count": 24,
   "id": "c3d4dd45",
   "metadata": {},
   "outputs": [
    {
     "name": "stdout",
     "output_type": "stream",
     "text": [
      "0\n",
      "1\n",
      "8\n",
      "27\n",
      "64\n",
      "125\n",
      "216\n",
      "343\n",
      "512\n",
      "729\n"
     ]
    }
   ],
   "source": [
    "num_values = range(10)\n",
    "\n",
    "# RDD 생성\n",
    "num_values = spark.sparkContext.parallelize(num_values)\n",
    "\n",
    "# RDD 트랜스포메이션 생성\n",
    "cubic_values = num_values.map(lambda x: x ** 3)\n",
    "\n",
    "# RDD 액션\n",
    "for num in cubic_values.collect() :\n",
    "    print(num)"
   ]
  }
 ],
 "metadata": {
  "kernelspec": {
   "display_name": "Python 3 (ipykernel)",
   "language": "python",
   "name": "python3"
  },
  "language_info": {
   "codemirror_mode": {
    "name": "ipython",
    "version": 3
   },
   "file_extension": ".py",
   "mimetype": "text/x-python",
   "name": "python",
   "nbconvert_exporter": "python",
   "pygments_lexer": "ipython3",
   "version": "3.8.0"
  }
 },
 "nbformat": 4,
 "nbformat_minor": 5
}
