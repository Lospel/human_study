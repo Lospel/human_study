{
 "cells": [
  {
   "cell_type": "code",
   "execution_count": 1,
   "id": "cb4f30c5-b41f-484e-b3c5-ff83a041c813",
   "metadata": {},
   "outputs": [],
   "source": [
    "# 데이터들의 포맷을 일관성있게 만들어서 \n",
    "# 각 데이터들의 연산작업을 용이하게 하는 환경 구성\n",
    "import pandas as pd\n",
    "# DOM구조의 태그를 검색하여 데이터를 긁어오는 스크래핑\n",
    "# Document Object Modeling\n",
    "# javascript 또는 html로 출력하는 웹브라우저의 모델형태\n",
    "# BeautifulSoup : 파이선 인터프린트 안에서 동작하는 스크래핑 ★\n",
    "# Selenium : 파이썬 외부에서 특정 드라이브를 사용하여 스크래핑 ★★\n",
    "from bs4 import BeautifulSoup\n",
    "# requests HTTP프로토콜로 데이터 요청하고 (받아오는) 객체를 담고 있는 패키지\n",
    "# ResponseBody(리턴하는 값) <> Request(클라이언트에서 요청오는 값)\n",
    "import requests\n",
    "import re\n",
    "# xml 포맷(확장자)로 데이터를 송수신할 때 전송하는 포맷형식 (<json>)\n",
    "import lxml"
   ]
  },
  {
   "cell_type": "code",
   "execution_count": 2,
   "id": "1225feac-8444-45ad-ba7c-26073ab04120",
   "metadata": {},
   "outputs": [],
   "source": [
    "file_path = './iris.csv'\n",
    "iris = pd.read_csv(file_path) #★\n",
    "# read_csv() csv파일형식을 읽어옴\n",
    "# read_excel() 엑셀파일 로드 가능 (인자값으로 URL주소도 가능)"
   ]
  },
  {
   "cell_type": "code",
   "execution_count": 22,
   "id": "b27e1f15-dc12-46fc-ac1f-c31aa75e097e",
   "metadata": {},
   "outputs": [
    {
     "ename": "NameError",
     "evalue": "name 'response' is not defined",
     "output_type": "error",
     "traceback": [
      "\u001b[1;31m---------------------------------------------------------------------------\u001b[0m",
      "\u001b[1;31mNameError\u001b[0m                                 Traceback (most recent call last)",
      "Input \u001b[1;32mIn [22]\u001b[0m, in \u001b[0;36m<cell line: 3>\u001b[1;34m()\u001b[0m\n\u001b[0;32m      1\u001b[0m url \u001b[38;5;241m=\u001b[39m \u001b[38;5;124m\"\u001b[39m\u001b[38;5;124mhttps://en.wikipedia.org/wiki/List_of_American_exchange-traded_funds\u001b[39m\u001b[38;5;124m\"\u001b[39m\n\u001b[0;32m      2\u001b[0m \u001b[38;5;66;03m# response.text URL주소로 스크래핑한 값의 저장소\u001b[39;00m\n\u001b[1;32m----> 3\u001b[0m html \u001b[38;5;241m=\u001b[39m \u001b[43mresponse\u001b[49m\u001b[38;5;241m.\u001b[39mtext\n\u001b[0;32m      4\u001b[0m \u001b[38;5;66;03m# BeautifulSoup라이브러리를 사용하고 ()인자값으로 포맷형식을 씀\u001b[39;00m\n\u001b[0;32m      5\u001b[0m soup \u001b[38;5;241m=\u001b[39m BeautifulSoup(html, \u001b[38;5;124m'\u001b[39m\u001b[38;5;124mlxml\u001b[39m\u001b[38;5;124m'\u001b[39m)\n",
      "\u001b[1;31mNameError\u001b[0m: name 'response' is not defined"
     ]
    }
   ],
   "source": [
    "url = \"https://en.wikipedia.org/wiki/List_of_American_exchange-traded_funds\"\n",
    "# response.text URL주소로 스크래핑한 값의 저장소\n",
    "html = response.text\n",
    "# BeautifulSoup라이브러리를 사용하고 ()인자값으로 포맷형식을 씀\n",
    "soup = BeautifulSoup(html, 'lxml')\n",
    "# select : tag들을 선택하여 특정 값을 지정하는 메서드\n",
    "rows = soup.select('div>ul>li') #★\n",
    "etfs = {}\n",
    "# 향상된 반복문 : rows 배열을 모두 조회하여 하나씩 꺼내옴 (하나씩 : row)\n",
    "for row in rows:\n",
    "    try:\n",
    "        etf_name = re.findall('^(.*) \\(NYSE', row.text)\n",
    "        etf_market = re.findall('\\((.*)\\|', row.text)\n",
    "        etf_ticker = re.findall('NYSE Arca\\|(.*)\\)', row.text)\n",
    "        \n",
    "        # print(etf_ticker)\n",
    "        \n",
    "        if(len(etf_ticker) > 0) & (len(etf_market)>0) & (len(etf_name) > 0):\n",
    "            etfs[etf_ticker[0]] = [etf_market[0], etf_name[0]]\n",
    "    except AttributeError as err:\n",
    "        pass\n",
    "\n",
    "print(etfs)"
   ]
  },
  {
   "cell_type": "code",
   "execution_count": 23,
   "id": "1bf9566f-e3cf-4757-bb9d-b89bc7ba0d30",
   "metadata": {},
   "outputs": [
    {
     "name": "stdout",
     "output_type": "stream",
     "text": [
      "     sepal.length  sepal.width  petal.length  petal.width\n",
      "0             5.1          3.5           1.4          0.2\n",
      "1             4.9          3.0           1.4          0.2\n",
      "2             4.7          3.2           1.3          0.2\n",
      "3             4.6          3.1           1.5          0.2\n",
      "4             5.0          3.6           1.4          0.2\n",
      "..            ...          ...           ...          ...\n",
      "145           6.7          3.0           5.2          2.3\n",
      "146           6.3          2.5           5.0          1.9\n",
      "147           6.5          3.0           5.2          2.0\n",
      "148           6.2          3.4           5.4          2.3\n",
      "149           5.9          3.0           5.1          1.8\n",
      "\n",
      "[150 rows x 4 columns]\n"
     ]
    }
   ],
   "source": [
    "# iloc : 인덱스 기준으로 2중 배열(테이블, 데이터프레임)을 슬라이싱\n",
    "#  : (처음부터 끝까지)\n",
    "#  : -1 (처음부터 마지막 컬럼(튜플) 바로 전까지)\n",
    "#  -1 (마지막 컬럼(튜플))\n",
    "X = iris.iloc[:, :-1]\n",
    "y = iris.iloc[:, -1]\n",
    "print(X)\n",
    "#머신러닝은 답을 알려줌(컴퓨터에게), 결과를 도출하게 만드는 알고리즘\n",
    "#딥러닝 : 답을 안알려주고, 알아서 결과를 도출하게 만드는 알고리즘"
   ]
  },
  {
   "cell_type": "code",
   "execution_count": 24,
   "id": "8b9807d5-45ea-4135-bb23-37e120813a6c",
   "metadata": {},
   "outputs": [],
   "source": [
    "# 데이터 프레임을 잘라서 연산(머신러닝)을 위한 전처리 작업 패키지\n",
    "from sklearn.model_selection import train_test_split\n",
    "from sklearn.preprocessing import scale"
   ]
  },
  {
   "cell_type": "code",
   "execution_count": 6,
   "id": "79a2899b-48a2-4887-a026-22dd4d5c6186",
   "metadata": {},
   "outputs": [
    {
     "name": "stdout",
     "output_type": "stream",
     "text": [
      "train data =  105\n",
      "test data =  45\n"
     ]
    }
   ],
   "source": [
    "#X = 독립변수\n",
    "#y = 종속변수\n",
    "train_X, test_X, train_y, test_y = train_test_split(X, y,\n",
    "                                            test_size=0.3,\n",
    "                                            random_state=1)\n",
    "print('train data = ', len(train_X))\n",
    "print('test data = ', len(test_X))"
   ]
  },
  {
   "cell_type": "code",
   "execution_count": 19,
   "id": "378dfb79-ad1e-4e4f-9943-de83cf456a10",
   "metadata": {},
   "outputs": [
    {
     "name": "stdout",
     "output_type": "stream",
     "text": [
      "   sepal.length  sepal.width  petal.length  petal.width\n",
      "0           5.1          3.5           1.4          0.2\n",
      "1           4.9          3.0           1.4          0.2\n",
      "2           4.7          3.2           1.3          0.2\n",
      "3           4.6          3.1           1.5          0.2\n",
      "4           5.0          3.6           1.4          0.2\n"
     ]
    },
    {
     "data": {
      "text/plain": [
       "array([[-0.90068117,  1.01900435, -1.34022653, -1.3154443 ],\n",
       "       [-1.14301691, -0.13197948, -1.34022653, -1.3154443 ],\n",
       "       [-1.38535265,  0.32841405, -1.39706395, -1.3154443 ],\n",
       "       [-1.50652052,  0.09821729, -1.2833891 , -1.3154443 ],\n",
       "       [-1.02184904,  1.24920112, -1.34022653, -1.3154443 ]])"
      ]
     },
     "execution_count": 19,
     "metadata": {},
     "output_type": "execute_result"
    }
   ],
   "source": [
    "#데이터 전처리\n",
    "#컬럼 명 bold\n",
    "# X.head()\n",
    "# y.head()\n",
    "# info()메서드를 통해 전처리가 필요한 데이터를 1차적 유추, 데이터 타입도 중요 확인\n",
    "# X.info()\n",
    "# y.info()\n",
    "\n",
    "#scale() 평균이 0, 표준편차가 1\n",
    "iris_scaled= scale(X)\n",
    "print(iris.iloc[:5,:-1])\n",
    "iris_scaled[:5, :]"
   ]
  },
  {
   "cell_type": "code",
   "execution_count": 8,
   "id": "65f1ff5d-9df8-4c03-a9d8-52d4f6c803b6",
   "metadata": {},
   "outputs": [
    {
     "data": {
      "text/plain": [
       "array([-4.73695157e-16, -7.81597009e-16, -4.26325641e-16, -4.73695157e-16])"
      ]
     },
     "execution_count": 8,
     "metadata": {},
     "output_type": "execute_result"
    }
   ],
   "source": [
    "# axis = 축 : 0(세로 기준으로 늘어나거나 축소)\n",
    "# axis = 1(가로 기준으로 늘어나거나 축소)\n",
    "iris_scaled.mean(axis=0)"
   ]
  },
  {
   "cell_type": "code",
   "execution_count": 15,
   "id": "fab06f01-0909-47fa-bcb8-a4634c0a197d",
   "metadata": {},
   "outputs": [
    {
     "data": {
      "text/plain": [
       "array([1., 1., 1., 1.])"
      ]
     },
     "execution_count": 15,
     "metadata": {},
     "output_type": "execute_result"
    }
   ],
   "source": [
    "#표준편차\n",
    "# 평균 : (a + b + c) /3\n",
    "#*편차 : 원래값에서 평균을 뺀 값 (음수 양수 모두 성립) : 평균에서 떨어진 값크기\n",
    "#음수를 양수로 만들기 위해 편차의 제곱의 합 (분산)이 등장\n",
    "#분산에 루트(제곱근)를 씌운 것이 표준편차 = 원래 데이터에 대한 오차 범위의 근사값\n",
    "iris_scaled.std(axis=0)"
   ]
  },
  {
   "cell_type": "code",
   "execution_count": 20,
   "id": "1bd6c619-4a4f-4767-8bf4-2b5a02e9ec22",
   "metadata": {},
   "outputs": [
    {
     "ename": "ImportError",
     "evalue": "cannot import name 'LaelEncoder' from 'sklearn.preprocessing' (C:\\Users\\h\\.conda\\envs\\newStart\\lib\\site-packages\\sklearn\\preprocessing\\__init__.py)",
     "output_type": "error",
     "traceback": [
      "\u001b[1;31m---------------------------------------------------------------------------\u001b[0m",
      "\u001b[1;31mImportError\u001b[0m                               Traceback (most recent call last)",
      "Input \u001b[1;32mIn [20]\u001b[0m, in \u001b[0;36m<cell line: 1>\u001b[1;34m()\u001b[0m\n\u001b[1;32m----> 1\u001b[0m \u001b[38;5;28;01mfrom\u001b[39;00m \u001b[38;5;21;01msklearn\u001b[39;00m\u001b[38;5;21;01m.\u001b[39;00m\u001b[38;5;21;01mpreprocessing\u001b[39;00m \u001b[38;5;28;01mimport\u001b[39;00m LaelEncoder\n\u001b[0;32m      2\u001b[0m le \u001b[38;5;241m=\u001b[39m LabelEncoder()\n",
      "\u001b[1;31mImportError\u001b[0m: cannot import name 'LaelEncoder' from 'sklearn.preprocessing' (C:\\Users\\h\\.conda\\envs\\newStart\\lib\\site-packages\\sklearn\\preprocessing\\__init__.py)"
     ]
    }
   ],
   "source": [
    "from sklearn.preprocessing import LaelEncoder\n",
    "le = LabelEncoder()"
   ]
  }
 ],
 "metadata": {
  "kernelspec": {
   "display_name": "Python 3 (ipykernel)",
   "language": "python",
   "name": "python3"
  },
  "language_info": {
   "codemirror_mode": {
    "name": "ipython",
    "version": 3
   },
   "file_extension": ".py",
   "mimetype": "text/x-python",
   "name": "python",
   "nbconvert_exporter": "python",
   "pygments_lexer": "ipython3",
   "version": "3.9.0"
  }
 },
 "nbformat": 4,
 "nbformat_minor": 5
}
