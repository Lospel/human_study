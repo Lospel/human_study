{
  "nbformat": 4,
  "nbformat_minor": 0,
  "metadata": {
    "colab": {
      "provenance": [],
      "collapsed_sections": [
        "0tetlEw6O4mm"
      ]
    },
    "kernelspec": {
      "name": "python3",
      "display_name": "Python 3"
    },
    "language_info": {
      "name": "python"
    }
  },
  "cells": [
    {
      "cell_type": "markdown",
      "source": [
        "## 라이브러리 불러오기"
      ],
      "metadata": {
        "id": "Lw7Mu86kivA-"
      }
    },
    {
      "cell_type": "code",
      "execution_count": null,
      "metadata": {
        "id": "5vkrgkhgLrDs"
      },
      "outputs": [],
      "source": [
        "import requests\n",
        "from bs4 import BeautifulSoup"
      ]
    },
    {
      "cell_type": "markdown",
      "source": [
        "### 코드 속도 개선"
      ],
      "metadata": {
        "id": "7XvpJZq7SJvV"
      }
    },
    {
      "cell_type": "code",
      "source": [
        "%%time\n",
        "\n",
        "# 네이버 주요 뉴스 텍스트, 이미지, URL 가져오기\n",
        "def naver_sites_all():\n",
        "  global MainNewsText01\n",
        "  global MainNewsText02\n",
        "  global MainNewsUrl01\n",
        "  global MainNewsUrl02\n",
        "  global MainNewsImg01\n",
        "  global MainNewsImg02 \n",
        "  url = \"https://land.naver.com/news/headline.naver\"\n",
        "  response = requests.request(\"GET\", url)\n",
        "  soup = BeautifulSoup(response.content,'html.parser')\n",
        "  titles = soup.select(\"ul.headline_list dt a\")[:4]\n",
        "  titles2 = soup.select(\"dt.photo a\")[:2] \n",
        "  news_thumbnail = soup.select('dt.photo img')[:2]\n",
        "  places_title = []\n",
        "  places_url= []\n",
        "  link_thumbnail = []\n",
        "\n",
        "  for one in titles:\n",
        "    if one.string != None:\n",
        "      places_title.append(one.string)\n",
        "  for i in places_title[:1]:\n",
        "    MainNewsText01 = i\n",
        "  for i in places_title[1:2]:\n",
        "    MainNewsText02 = i\n",
        "\n",
        "  for i in titles2:\n",
        "    places_url.append(\"https://land.naver.com\"+i.attrs[\"href\"])\n",
        "  for i in places_url[:1]:\n",
        "    MainNewsUrl01 = i\n",
        "  for i in places_url[1:2]:\n",
        "    MainNewsUrl02 = i\n",
        "\n",
        "  for img in news_thumbnail:\n",
        "    link_thumbnail.append(img.attrs['src'])\n",
        "  for i in link_thumbnail[:1]:\n",
        "    MainNewsImg01 = i\n",
        "  for i in link_thumbnail[1:2]:\n",
        "    MainNewsImg02 = i\n",
        "\n",
        "\n",
        "naver_sites_all()\n",
        "\n",
        "print(MainNewsText01, MainNewsImg01, MainNewsUrl01)\n",
        "print(MainNewsText02, MainNewsImg02, MainNewsUrl02)"
      ],
      "metadata": {
        "colab": {
          "base_uri": "https://localhost:8080/"
        },
        "id": "bs-HKgC0Pln8",
        "outputId": "81e03afe-84b4-4f4d-f7ae-a9688ecff40a"
      },
      "execution_count": null,
      "outputs": [
        {
          "output_type": "stream",
          "name": "stdout",
          "text": [
            "아파트 실거래가지수 최대 하락…공시가격 얼마나 내릴까 https://s.pstatic.net/imgnews/image/thumb100/001/2022/11/16/13578072.jpg https://land.naver.com/news/newsRead.naver?type=headline&bss_ymd=&prsco_id=001&arti_id=0013578072\n",
            "주택가격 정점 찍은 작년, 무주택 103만명 집 샀다 https://s.pstatic.net/imgnews/image/thumb100/020/2022/11/16/3462572.jpg https://land.naver.com/news/newsRead.naver?type=headline&bss_ymd=&prsco_id=020&arti_id=0003462572\n",
            "CPU times: user 45.5 ms, sys: 1.55 ms, total: 47 ms\n",
            "Wall time: 862 ms\n"
          ]
        }
      ]
    },
    {
      "cell_type": "code",
      "source": [
        "# 핫이슈 텍스트, 이미지, URL 가져오기\n",
        "def naver_hotissue_all(url):\n",
        "  global HotIssueText01\n",
        "  global HotIssueText02\n",
        "  global HotIssueUrl01\n",
        "  global HotIssueUrl02\n",
        "  global HotIssueImg01\n",
        "  global HotIssueImg02\n",
        "  response = requests.request(\"GET\", url)\n",
        "  soup = BeautifulSoup(response.content,'html.parser')\n",
        "  titles = soup.select(\"div.hot_list strong\")[:4]\n",
        "  titles2 = soup.select(\"dt.photo a\")[:2]\n",
        "  news_thumbnail = soup.select('dt.photo img')[:2]\n",
        "  places_title = []\n",
        "  places_url=[]\n",
        "  link_thumbnail = []\n",
        "\n",
        "  for one in titles:\n",
        "    if one.string != None:\n",
        "      places_title.append(one.string)\n",
        "  for i in places_title[:1]:\n",
        "    HotIssueText01 = i\n",
        "  for i in places_title[1:2]:\n",
        "    HotIssueText02 = i\n",
        "\n",
        "  for i in titles2:\n",
        "    places_url.append(\"https://land.naver.com\"+i.attrs[\"href\"])\n",
        "  for i in places_url[:1]:\n",
        "    HotIssueUrl01 = i\n",
        "  for i in places_url[1:2]:\n",
        "    HotIssueUrl02 = i\n",
        "\n",
        "  for img in news_thumbnail:\n",
        "    link_thumbnail.append(img.attrs['src'])\n",
        "  for i in link_thumbnail[:1]:\n",
        "    HotIssueImg01 = i\n",
        "  for i in link_thumbnail[1:2]:\n",
        "    HotIssueImg02 = i\n",
        "\n",
        "url = \"https://land.naver.com/news/hotIssue.naver\"\n",
        "naver_hotissue_all(url)"
      ],
      "metadata": {
        "id": "v2m3QZ61SNwd"
      },
      "execution_count": null,
      "outputs": []
    },
    {
      "cell_type": "code",
      "source": [
        "# 지역별 뉴스 텍스트, 이미지, URL 가져오기\n",
        "def naver_region_all(url):\n",
        "  global RegionImg01\n",
        "  global RegionImg02\n",
        "  global RegionText01\n",
        "  global RegionText02\n",
        "  global RegionUrl01\n",
        "  global RegionUrl02\n",
        "\n",
        "  response = requests.request(\"GET\", url)\n",
        "  soup = BeautifulSoup(response.content,'html.parser')\n",
        "  news_thumbnail = soup.select('dt.photo img')[:2]\n",
        "  titles = soup.select(\"div.section_headline dt a\")[:4]\n",
        "  titles2 = soup.select(\"dt.photo a\")[:2]\n",
        "  places_url=[]  \n",
        "  places_title = []\n",
        "  link_thumbnail = []\n",
        "\n",
        "  for img in news_thumbnail:\n",
        "      link_thumbnail.append(img.attrs['src'])\n",
        "  for i in link_thumbnail[:1]:\n",
        "    RegionImg01 = i\n",
        "  for i in link_thumbnail[1:2]:\n",
        "    RegionImg02 = i\n",
        "\n",
        "  for one in titles:\n",
        "    if one.string != None:\n",
        "      places_title.append(one.string)\n",
        "  for i in places_title[:1]:\n",
        "    RegionText01 = i\n",
        "  for i in places_title[1:2]:\n",
        "    RegionText02 = i\n",
        "\n",
        "  for i in titles2:\n",
        "    places_url.append(\"https://land.naver.com\"+i.attrs[\"href\"])\n",
        "  for i in places_url[:1]:\n",
        "    RegionUrl01 = i\n",
        "  for i in places_url[1:2]:\n",
        "    RegionUrl02 = i"
      ],
      "metadata": {
        "id": "7dmy-BV6VgBX"
      },
      "execution_count": null,
      "outputs": []
    },
    {
      "cell_type": "markdown",
      "source": [
        "### 네이버부동산 주요뉴스 크롤링"
      ],
      "metadata": {
        "id": "_xTkJD7DcMhD"
      }
    },
    {
      "cell_type": "code",
      "source": [
        "def crawling_sites(url):\n",
        "  response = requests.request(\"GET\", url)\n",
        "  soup = BeautifulSoup(response.content,'html.parser')\n",
        "  titles = soup.select(\"dl.news_list dt\")\n",
        "  print(titles)\n",
        "\n",
        "navernews_url = \"https://land.naver.com/news/\"\n",
        "url = \"https://land.naver.com/news/headline.naver\"\n",
        "crawling_sites(url)"
      ],
      "metadata": {
        "colab": {
          "base_uri": "https://localhost:8080/"
        },
        "id": "sRfRqF1qRG3P",
        "outputId": "57a8a462-02b2-4be3-eb21-a8ba2567e7e1"
      },
      "execution_count": null,
      "outputs": [
        {
          "output_type": "stream",
          "name": "stdout",
          "text": [
            "[<dt><a class=\"NPI=a:title1,i:008_0004816704\" href=\"/news/newsRead.naver?type=headline&amp;bss_ymd=&amp;prsco_id=008&amp;arti_id=0004816704\">\"보유세 부담 더 줄인다…공시가 현실...</a></dt>, <dt><a class=\"NPI=a:title2,i:648_0000011655\" href=\"/news/newsRead.naver?type=headline&amp;bss_ymd=&amp;prsco_id=648&amp;arti_id=0000011655\">생애 첫 집, 내년 이후로 미룰 이유 ...</a></dt>]\n"
          ]
        }
      ]
    },
    {
      "cell_type": "markdown",
      "source": [
        "### 주요뉴스 텍스트 크롤링"
      ],
      "metadata": {
        "id": "l09PTuUicQcS"
      }
    },
    {
      "cell_type": "code",
      "source": [
        "def crawling_sites2(url):\n",
        "  response = requests.request(\"GET\", url)\n",
        "  soup = BeautifulSoup(response.content,'html.parser')\n",
        "  titles = soup.select(\"dl.news_list a\")\n",
        "  places_title = []\n",
        "\n",
        "  for one in titles:\n",
        "    places_title.append(one.get_text())\n",
        "  \n",
        "  return places_title\n",
        "\n",
        "url = \"https://land.naver.com/news/headline.naver\"\n",
        "print(crawling_sites2(url))"
      ],
      "metadata": {
        "colab": {
          "base_uri": "https://localhost:8080/"
        },
        "id": "CJVo_iobRvkK",
        "outputId": "57f6acec-113d-41ed-b8b6-e8c00743eacd"
      },
      "execution_count": null,
      "outputs": [
        {
          "output_type": "stream",
          "name": "stdout",
          "text": [
            "['\"보유세 부담 더 줄인다…공시가 현실...', '생애 첫 집, 내년 이후로 미룰 이유 ...']\n"
          ]
        }
      ]
    },
    {
      "cell_type": "markdown",
      "source": [
        "### 주요뉴스 url 크롤링"
      ],
      "metadata": {
        "id": "e6xOY0s1cTgC"
      }
    },
    {
      "cell_type": "code",
      "source": [
        "def crawling_sites_url(url):\n",
        "  response = requests.request(\"GET\", url)\n",
        "  soup = BeautifulSoup(response.content,'html.parser')\n",
        "  titles = soup.select(\"dl.news_list a\")\n",
        "  places_url=[]\n",
        "\n",
        "  for i in titles:\n",
        "    places_url.append(i.attrs[\"href\"])\n",
        "  \n",
        "  return places_url\n",
        "\n",
        "url = \"https://land.naver.com/news/headline.naver\"\n",
        "crawling_sites_url(url)"
      ],
      "metadata": {
        "colab": {
          "base_uri": "https://localhost:8080/"
        },
        "id": "-kehE5KUVsPI",
        "outputId": "5ba15de3-cf94-4fd1-fb58-5e6ccaa2f6c2"
      },
      "execution_count": null,
      "outputs": [
        {
          "output_type": "execute_result",
          "data": {
            "text/plain": [
              "['/news/newsRead.naver?type=headline&bss_ymd=20221110&prsco_id=421&arti_id=0006448366',\n",
              " '/news/newsRead.naver?type=headline&bss_ymd=20221110&prsco_id=119&arti_id=0002656521']"
            ]
          },
          "metadata": {},
          "execution_count": 4
        }
      ]
    },
    {
      "cell_type": "markdown",
      "source": [
        "## 네이버 부동산 주요뉴스"
      ],
      "metadata": {
        "id": "bscRDzVBlVAx"
      }
    },
    {
      "cell_type": "markdown",
      "source": [
        "### 네이버 부동산 주요뉴스 텍스트 가져오기"
      ],
      "metadata": {
        "id": "UEiPd7sXq6DI"
      }
    },
    {
      "cell_type": "code",
      "source": [
        "def naver_sites_text(url):\n",
        "  response = requests.request(\"GET\", url)\n",
        "  soup = BeautifulSoup(response.content,'html.parser')\n",
        "  titles = soup.select(\"ul.headline_list dt a\")\n",
        "  places_title = []\n",
        "\n",
        "  for one in titles:\n",
        "    if one.string != None:\n",
        "      places_title.append(one.string)\n",
        "  A = places_title[:1]\n",
        "  B = places_title[1:2]\n",
        "  print(A,B) \n",
        "\n",
        "url = \"https://land.naver.com/news/headline.naver\"\n",
        "naver_sites_text(url)"
      ],
      "metadata": {
        "colab": {
          "base_uri": "https://localhost:8080/"
        },
        "id": "aoFf1KmQq9aX",
        "outputId": "f974d5e9-e1f8-4e4c-9e45-6d6053706cb4"
      },
      "execution_count": null,
      "outputs": [
        {
          "output_type": "stream",
          "name": "stdout",
          "text": [
            "['아파트 실거래가지수 최대 하락…공시가격 얼마나 내릴까'] ['주택가격 정점 찍은 작년, 무주택 103만명 집 샀다']\n"
          ]
        }
      ]
    },
    {
      "cell_type": "markdown",
      "source": [
        "### 네이버 부동산 주요뉴스 URL 가져오기"
      ],
      "metadata": {
        "id": "CegmbmH-bmqn"
      }
    },
    {
      "cell_type": "code",
      "source": [
        "def naver_sites_url():\n",
        "  global MainNewsUrl01\n",
        "  global MainNewsUrl02\n",
        "  url = \"https://land.naver.com/news/headline.naver\"\n",
        "  response = requests.request(\"GET\", url)\n",
        "  soup = BeautifulSoup(response.content,'html.parser')\n",
        "  titles = soup.select(\"dt.photo a\")\n",
        "  places_url=[]\n",
        "\n",
        "  for i in titles:\n",
        "    places_url.append(\"https://land.naver.com\"+i.attrs[\"href\"])\n",
        "  MainNewsUrl01 = places_url[:1]\n",
        "  MainNewsUrl02 = places_url[1:2]\n",
        "naver_sites_url()\n",
        "\n",
        "MainNewsUrl01, MainNewsUrl02"
      ],
      "metadata": {
        "colab": {
          "base_uri": "https://localhost:8080/"
        },
        "id": "tuTW4vQRbtM-",
        "outputId": "0e587e04-b1f1-4291-d42a-e1eae56e1e4a"
      },
      "execution_count": null,
      "outputs": [
        {
          "output_type": "execute_result",
          "data": {
            "text/plain": [
              "(['https://land.naver.com/news/newsRead.naver?type=headline&bss_ymd=&prsco_id=421&arti_id=0006454633'],\n",
              " ['https://land.naver.com/news/newsRead.naver?type=headline&bss_ymd=&prsco_id=001&arti_id=0013573075'])"
            ]
          },
          "metadata": {},
          "execution_count": 92
        }
      ]
    },
    {
      "cell_type": "markdown",
      "source": [
        "### 네이버 부동산 뉴스_주요뉴스 이미지 URL 가져오기"
      ],
      "metadata": {
        "id": "BWnn_NZjN2pe"
      }
    },
    {
      "cell_type": "code",
      "source": [
        "import re\n",
        "def naver_main_img_url():\n",
        "  global MainNewsImg01\n",
        "  global MainNewsImg02\n",
        "  url = \"https://land.naver.com/news/headline.naver\"\n",
        "  response = requests.request(\"GET\", url)\n",
        "  soup = BeautifulSoup(response.content,'html.parser')\n",
        "  news_thumbnail = soup.select('dt.photo img')\n",
        "  link_thumbnail = []\n",
        "  for img in news_thumbnail:\n",
        "      link_thumbnail.append(img.attrs['src'])\n",
        "  for i in link_thumbnail[:1]:\n",
        "    MainNewsImg01 = i\n",
        "  for i in link_thumbnail[1:2]:\n",
        "    MainNewsImg02 = i\n",
        "naver_main_img_url()\n",
        "MainNewsImg01, MainNewsImg02"
      ],
      "metadata": {
        "colab": {
          "base_uri": "https://localhost:8080/"
        },
        "id": "_yC5d_koNaL2",
        "outputId": "d793c431-024f-4146-e669-41b5964bc521"
      },
      "execution_count": null,
      "outputs": [
        {
          "output_type": "execute_result",
          "data": {
            "text/plain": [
              "('https://s.pstatic.net/imgnews/image/thumb100/421/2022/11/14/6454633.jpg',\n",
              " 'https://s.pstatic.net/imgnews/image/thumb100/001/2022/11/14/13573075.jpg')"
            ]
          },
          "metadata": {},
          "execution_count": 103
        }
      ]
    },
    {
      "cell_type": "markdown",
      "source": [
        "## 네이버 부동산 핫이슈"
      ],
      "metadata": {
        "id": "m7XHdq68lY3Z"
      }
    },
    {
      "cell_type": "markdown",
      "source": [
        "### 네이버 부동산 핫이슈 텍스트 가져오기"
      ],
      "metadata": {
        "id": "e896DDCli2tp"
      }
    },
    {
      "cell_type": "code",
      "source": [
        "def naver_hotissue_text():\n",
        "  global HotIssueText01\n",
        "  global HotIssueText02\n",
        "  url = \"https://land.naver.com/news/hotIssue.naver\"\n",
        "  response = requests.request(\"GET\", url)\n",
        "  soup = BeautifulSoup(response.content,'html.parser')\n",
        "  titles = soup.select(\"div.hot_list strong\")\n",
        "  places_title = []\n",
        "\n",
        "  for one in titles:\n",
        "    if one.string != None:\n",
        "      places_title.append(one.string)\n",
        "  for i in places_title[:1]:\n",
        "    HotIssueText01 = i\n",
        "  for i in places_title[1:2]:\n",
        "    HotIssueText02 = i\n",
        "naver_hotissue_text()\n",
        "\n",
        "HotIssueText01, HotIssueText02"
      ],
      "metadata": {
        "colab": {
          "base_uri": "https://localhost:8080/"
        },
        "id": "Dpm_8zj2i6FZ",
        "outputId": "9e450db3-5481-473b-aff5-c28b91c6c25f"
      },
      "execution_count": null,
      "outputs": [
        {
          "output_type": "execute_result",
          "data": {
            "text/plain": [
              "('규제 풀린 지방, 11월 4만 가구 분...', \"[2022 국감] '스카이72' 수상한 지...\")"
            ]
          },
          "metadata": {},
          "execution_count": 104
        }
      ]
    },
    {
      "cell_type": "markdown",
      "source": [
        "### 네이버 부동산 뉴스_핫이슈 URL 가져오기"
      ],
      "metadata": {
        "id": "UakfHij4eHxf"
      }
    },
    {
      "cell_type": "code",
      "source": [
        "# 핫이슈\n",
        "def naver_hotissue_url():\n",
        "  url = \"https://land.naver.com/news/hotIssue.naver\"\n",
        "  global HotIssueUrl01\n",
        "  global HotIssueUrl02\n",
        "  \n",
        "  response = requests.request(\"GET\", url)\n",
        "  soup = BeautifulSoup(response.content,'html.parser')\n",
        "  titles = soup.select(\"dt.photo a\")\n",
        "  places_url=[]\n",
        "\n",
        "  for i in titles:\n",
        "    places_url.append(\"https://land.naver.com\"+i.attrs[\"href\"])\n",
        "  for i in places_url[:1]:\n",
        "    HotIssueUrl01 = i\n",
        "  for i in places_url[1:2]:\n",
        "    HotIssueUrl02 = i\n",
        "\n",
        "naver_hotissue_url()\n",
        "\n",
        "HotIssueUrl01, HotIssueUrl02"
      ],
      "metadata": {
        "colab": {
          "base_uri": "https://localhost:8080/"
        },
        "id": "BEeJB21UeMCm",
        "outputId": "e2fcd445-9027-42a7-ea3b-288dc2455f59"
      },
      "execution_count": null,
      "outputs": [
        {
          "output_type": "execute_result",
          "data": {
            "text/plain": [
              "('https://land.naver.com/news/newsRead.naver?type=issueView&isu_no=102392&prsco_id=277&arti_id=0005175821',\n",
              " 'https://land.naver.com/news/newsRead.naver?type=issueView&isu_no=102372&prsco_id=119&arti_id=0002649398')"
            ]
          },
          "metadata": {},
          "execution_count": 111
        }
      ]
    },
    {
      "cell_type": "markdown",
      "source": [
        "### 네이버 부동산 뉴스_핫이슈 이미지 URL 가져오기"
      ],
      "metadata": {
        "id": "BFald-DXOZ0e"
      }
    },
    {
      "cell_type": "code",
      "source": [
        "def naver_hotissue_img_url():\n",
        "  global HotIssueImg01\n",
        "  global HotIssueImg02\n",
        "  url = \"https://land.naver.com/news/hotIssue.naver\"\n",
        "  response = requests.request(\"GET\", url)\n",
        "  soup = BeautifulSoup(response.content,'html.parser')\n",
        "  news_thumbnail = soup.select('dt.photo img')\n",
        "  link_thumbnail = []\n",
        "  for img in news_thumbnail:\n",
        "      link_thumbnail.append(img.attrs['src'])\n",
        "  for i in link_thumbnail[:1]:\n",
        "    HotIssueImg01 = i\n",
        "  for i in link_thumbnail[1:2]:\n",
        "    HotIssueImg02 = i\n",
        "naver_hotissue_img_url()\n",
        "HotIssueImg01, HotIssueImg02"
      ],
      "metadata": {
        "colab": {
          "base_uri": "https://localhost:8080/"
        },
        "id": "uhAoMvM1Oc2v",
        "outputId": "3102542a-aac6-4223-f840-50aa2a1d92ff"
      },
      "execution_count": null,
      "outputs": [
        {
          "output_type": "execute_result",
          "data": {
            "text/plain": [
              "('https://s.pstatic.net/imgnews/image/thumb100/277/2022/11/11/5175821.jpg',\n",
              " 'https://s.pstatic.net/imgnews/image/thumb100/119/2022/10/19/2649398.jpg')"
            ]
          },
          "metadata": {},
          "execution_count": 112
        }
      ]
    },
    {
      "cell_type": "markdown",
      "source": [
        "## 네이버 부동산 지역별 뉴스"
      ],
      "metadata": {
        "id": "3-Ej0xGolb7h"
      }
    },
    {
      "cell_type": "markdown",
      "source": [
        "### 네이버 부동산 뉴스_지역별 뉴스 이미지 URL 가져오기"
      ],
      "metadata": {
        "id": "0tetlEw6O4mm"
      }
    },
    {
      "cell_type": "code",
      "source": [
        "# 서울\n",
        "def naver_region_img_url(url):\n",
        "  global RegionImg01\n",
        "  global RegionImg02\n",
        "  response = requests.request(\"GET\", url)\n",
        "  soup = BeautifulSoup(response.content,'html.parser')\n",
        "  news_thumbnail = soup.select('dt.photo img')\n",
        "  link_thumbnail = []\n",
        "  for img in news_thumbnail:\n",
        "      link_thumbnail.append(img.attrs['src'])\n",
        "  for i in link_thumbnail[:1]:\n",
        "    RegionImg01 = i\n",
        "  for i in link_thumbnail[1:2]:\n",
        "    RegionImg02 = i\n",
        "Seoul = \"https://land.naver.com/news/region.naver?city_no=1100000000&dvsn_no=\"\n",
        "naver_region_img_url(Seoul)\n",
        "\n",
        "RegionImg01, RegionImg02"
      ],
      "metadata": {
        "colab": {
          "base_uri": "https://localhost:8080/"
        },
        "id": "dE8dgPV9O-De",
        "outputId": "bf07738f-4f29-441b-c404-bbdb538162e8"
      },
      "execution_count": null,
      "outputs": [
        {
          "output_type": "execute_result",
          "data": {
            "text/plain": [
              "('https://s.pstatic.net/imgnews/image/thumb100/421/2022/11/09/6446031.jpg',\n",
              " 'https://s.pstatic.net/imgnews/image/thumb100/003/2022/11/09/11526383.jpg')"
            ]
          },
          "metadata": {},
          "execution_count": 113
        }
      ]
    },
    {
      "cell_type": "code",
      "source": [
        "# 경기\n",
        "Gyeonggi = \"https://land.naver.com/news/region.naver?city_no=4100000000&dvsn_no=\"\n",
        "naver_region_img_url(Gyeonggi)"
      ],
      "metadata": {
        "colab": {
          "base_uri": "https://localhost:8080/"
        },
        "id": "GuFfQSUdPaQn",
        "outputId": "9342cad7-ebb5-436c-cc4e-0ae340f93825"
      },
      "execution_count": null,
      "outputs": [
        {
          "output_type": "stream",
          "name": "stdout",
          "text": [
            "['https://s.pstatic.net/imgnews/image/thumb100/022/2022/11/09/3752280.jpg', 'https://s.pstatic.net/imgnews/image/thumb100/014/2022/11/09/4925252.jpg']\n"
          ]
        }
      ]
    },
    {
      "cell_type": "code",
      "source": [
        "# 인천\n",
        "Incheon = \"https://land.naver.com/news/region.naver?city_no=2800000000&dvsn_no=\"\n",
        "naver_region_img_url(Incheon)"
      ],
      "metadata": {
        "colab": {
          "base_uri": "https://localhost:8080/"
        },
        "id": "j8oKpZWVP7-X",
        "outputId": "92821b78-890b-44b3-f146-622790744b43"
      },
      "execution_count": null,
      "outputs": [
        {
          "output_type": "stream",
          "name": "stdout",
          "text": [
            "['https://s.pstatic.net/imgnews/image/thumb100/009/2022/11/03/5039861.jpg', 'https://s.pstatic.net/imgnews/image/thumb100/011/2022/10/20/4112568.jpg']\n"
          ]
        }
      ]
    },
    {
      "cell_type": "code",
      "source": [
        "# 부산\n",
        "Busan = \"https://land.naver.com/news/region.naver?city_no=2600000000&dvsn_no=\"\n",
        "naver_region_img_url(Busan)"
      ],
      "metadata": {
        "colab": {
          "base_uri": "https://localhost:8080/"
        },
        "id": "6v3qDlwsQH1X",
        "outputId": "e099f2ee-39a2-4002-bf04-55eb4fb1dd22"
      },
      "execution_count": null,
      "outputs": [
        {
          "output_type": "stream",
          "name": "stdout",
          "text": [
            "['https://s.pstatic.net/imgnews/image/thumb100/658/2022/09/09/19720.jpg', 'https://s.pstatic.net/imgnews/image/thumb100/014/2022/08/31/4891554.jpg']\n"
          ]
        }
      ]
    },
    {
      "cell_type": "code",
      "source": [
        "# 대전\n",
        "Daejeon = \"https://land.naver.com/news/region.naver?city_no=3000000000&dvsn_no=\"\n",
        "naver_region_img_url(Daejeon)"
      ],
      "metadata": {
        "colab": {
          "base_uri": "https://localhost:8080/"
        },
        "id": "rU9M-5mRQQL-",
        "outputId": "9b86f7ad-c1e2-4cf3-aad7-e724e04c4bbc"
      },
      "execution_count": null,
      "outputs": [
        {
          "output_type": "stream",
          "name": "stdout",
          "text": [
            "['https://s.pstatic.net/imgnews/image/thumb100/421/2022/05/04/6070807.jpg', 'https://s.pstatic.net/imgnews/image/thumb100/421/2022/03/14/5967079.jpg']\n"
          ]
        }
      ]
    },
    {
      "cell_type": "code",
      "source": [
        "# 대구\n",
        "Dae_gu = \"https://land.naver.com/news/region.naver?city_no=2700000000&dvsn_no=\"\n",
        "naver_region_img_url(Dae_gu)"
      ],
      "metadata": {
        "colab": {
          "base_uri": "https://localhost:8080/"
        },
        "id": "nqzPwlEeQdzm",
        "outputId": "702cfd3a-ac11-44e2-9cd7-4cb4dd2575b3"
      },
      "execution_count": null,
      "outputs": [
        {
          "output_type": "stream",
          "name": "stdout",
          "text": [
            "['https://s.pstatic.net/imgnews/image/thumb100/015/2022/09/19/4751214.jpg', 'https://s.pstatic.net/imgnews/image/thumb100/001/2022/08/10/13366461.jpg']\n"
          ]
        }
      ]
    },
    {
      "cell_type": "code",
      "source": [
        "# 울산\n",
        "Ulsan = \"https://land.naver.com/news/region.naver?city_no=3100000000&dvsn_no=\"\n",
        "naver_region_img_url(Ulsan)"
      ],
      "metadata": {
        "colab": {
          "base_uri": "https://localhost:8080/"
        },
        "id": "9CgvcRPFRBoZ",
        "outputId": "adefa75f-9765-46d8-c611-a15fb7e98ae3"
      },
      "execution_count": null,
      "outputs": [
        {
          "output_type": "stream",
          "name": "stdout",
          "text": [
            "['https://s.pstatic.net/imgnews/image/thumb100/018/2022/08/17/5294008.jpg', 'https://s.pstatic.net/imgnews/image/thumb100/001/2022/04/15/13116935.jpg']\n"
          ]
        }
      ]
    },
    {
      "cell_type": "code",
      "source": [
        "# 세종\n",
        "Sejong = \"https://land.naver.com/news/region.naver?city_no=3600000000&dvsn_no=\"\n",
        "naver_region_img_url(Sejong)"
      ],
      "metadata": {
        "colab": {
          "base_uri": "https://localhost:8080/"
        },
        "id": "zDoouf0bSESv",
        "outputId": "518190eb-9a0c-4424-f4d9-af4516acc42a"
      },
      "execution_count": null,
      "outputs": [
        {
          "output_type": "stream",
          "name": "stdout",
          "text": [
            "['https://s.pstatic.net/imgnews/image/thumb100/015/2022/10/30/4769071.jpg', 'https://s.pstatic.net/imgnews/image/thumb100/421/2022/09/15/6334736.jpg']\n"
          ]
        }
      ]
    },
    {
      "cell_type": "code",
      "source": [
        "# 광주\n",
        "Gwangju = \"https://land.naver.com/news/region.naver?city_no=2900000000&dvsn_no=\"\n",
        "naver_region_img_url(Gwangju)"
      ],
      "metadata": {
        "colab": {
          "base_uri": "https://localhost:8080/"
        },
        "id": "z7XFILF4SP7u",
        "outputId": "4ff9b3c3-3de1-4ea4-db1a-27f6cf7cbbcc"
      },
      "execution_count": null,
      "outputs": [
        {
          "output_type": "stream",
          "name": "stdout",
          "text": [
            "['https://s.pstatic.net/imgnews/image/thumb100/016/2022/08/25/2032686.jpg', 'https://s.pstatic.net/imgnews/image/thumb100/003/2021/11/18/10841342.jpg']\n"
          ]
        }
      ]
    },
    {
      "cell_type": "code",
      "source": [
        "# 강원\n",
        "Gangwon = \"https://land.naver.com/news/region.naver?city_no=4200000000&dvsn_no=\"\n",
        "naver_region_img_url(Gangwon)"
      ],
      "metadata": {
        "colab": {
          "base_uri": "https://localhost:8080/"
        },
        "id": "dVrG0S52SmR_",
        "outputId": "e68ec78f-0df6-4e30-eb12-c0ab645d3648"
      },
      "execution_count": null,
      "outputs": [
        {
          "output_type": "stream",
          "name": "stdout",
          "text": [
            "['https://s.pstatic.net/imgnews/image/thumb100/001/2022/08/25/13397432.jpg', 'https://s.pstatic.net/imgnews/image/thumb100/014/2022/06/20/4854304.jpg']\n"
          ]
        }
      ]
    },
    {
      "cell_type": "code",
      "source": [
        "# 충북\n",
        "Chungbuk = \"https://land.naver.com/news/region.naver?city_no=4300000000&dvsn_no=\"\n",
        "naver_region_img_url(Chungbuk)"
      ],
      "metadata": {
        "colab": {
          "base_uri": "https://localhost:8080/"
        },
        "id": "8J8y5-reTH4G",
        "outputId": "7f6de954-130a-4202-c4b4-7dec213b34f1"
      },
      "execution_count": null,
      "outputs": [
        {
          "output_type": "stream",
          "name": "stdout",
          "text": [
            "['https://s.pstatic.net/imgnews/image/thumb100/417/2022/04/25/807097.jpg', 'https://s.pstatic.net/imgnews/image/thumb100/016/2021/12/30/1931007.jpg']\n"
          ]
        }
      ]
    },
    {
      "cell_type": "code",
      "source": [
        "# 충남\n",
        "Chungnam = \"https://land.naver.com/news/region.naver?city_no=4400000000&dvsn_no=\"\n",
        "naver_region_img_url(Chungnam)"
      ],
      "metadata": {
        "colab": {
          "base_uri": "https://localhost:8080/"
        },
        "id": "feDwEjKQTN_O",
        "outputId": "eac945b7-3c92-4c50-e084-a8617047a7b1"
      },
      "execution_count": null,
      "outputs": [
        {
          "output_type": "stream",
          "name": "stdout",
          "text": [
            "['https://s.pstatic.net/imgnews/image/thumb100/001/2022/01/10/12908692.jpg', 'https://s.pstatic.net/imgnews/image/thumb100/016/2021/11/26/1917368.jpg']\n"
          ]
        }
      ]
    },
    {
      "cell_type": "code",
      "source": [
        "# 경북\n",
        "Gyeongbuk = \"https://land.naver.com/news/region.naver?city_no=4700000000&dvsn_no=\"\n",
        "naver_region_img_url(Gyeongbuk)"
      ],
      "metadata": {
        "colab": {
          "base_uri": "https://localhost:8080/"
        },
        "id": "SGEgGwaWTTl1",
        "outputId": "a399c098-2443-415f-d120-60aa7552d1a1"
      },
      "execution_count": null,
      "outputs": [
        {
          "output_type": "stream",
          "name": "stdout",
          "text": [
            "['https://s.pstatic.net/imgnews/image/thumb100/014/2022/06/20/4854304.jpg', 'https://s.pstatic.net/imgnews/image/thumb100/003/2022/06/07/11232199.jpg']\n"
          ]
        }
      ]
    },
    {
      "cell_type": "code",
      "source": [
        "# 경남\n",
        "Gyeongnam = \"https://land.naver.com/news/region.naver?city_no=4800000000&dvsn_no=\"\n",
        "naver_region_img_url(Gyeongnam)"
      ],
      "metadata": {
        "colab": {
          "base_uri": "https://localhost:8080/"
        },
        "id": "F5XJ6hqSTcKe",
        "outputId": "fd536d2d-77d0-4551-89ee-03e212a3311d"
      },
      "execution_count": null,
      "outputs": [
        {
          "output_type": "stream",
          "name": "stdout",
          "text": [
            "['https://s.pstatic.net/imgnews/image/thumb100/119/2022/06/09/2610999.jpg', 'https://s.pstatic.net/imgnews/image/thumb100/001/2022/05/10/13168107.jpg']\n"
          ]
        }
      ]
    },
    {
      "cell_type": "code",
      "source": [
        "# 전북\n",
        "Jeonbuk = \"https://land.naver.com/news/region.naver?city_no=4500000000&dvsn_no=\"\n",
        "naver_region_img_url(Jeonbuk)"
      ],
      "metadata": {
        "colab": {
          "base_uri": "https://localhost:8080/"
        },
        "id": "v8wBTrzPTmn3",
        "outputId": "2a174b09-5a30-4621-c600-6f44ede82d62"
      },
      "execution_count": null,
      "outputs": [
        {
          "output_type": "stream",
          "name": "stdout",
          "text": [
            "['https://s.pstatic.net/imgnews/image/thumb100/001/2022/09/16/13442383.jpg', 'https://s.pstatic.net/imgnews/image/thumb100/421/2022/08/18/6284137.jpg']\n"
          ]
        }
      ]
    },
    {
      "cell_type": "code",
      "source": [
        "# 전남\n",
        "Jeonnam = \"https://land.naver.com/news/region.naver?city_no=4600000000&dvsn_no=\"\n",
        "naver_region_img_url(Jeonnam)"
      ],
      "metadata": {
        "colab": {
          "base_uri": "https://localhost:8080/"
        },
        "id": "O3yzkuuaTtOH",
        "outputId": "66093007-dfb0-49a4-e3c0-41eee1d08ea4"
      },
      "execution_count": null,
      "outputs": [
        {
          "output_type": "stream",
          "name": "stdout",
          "text": [
            "['https://s.pstatic.net/imgnews/image/thumb100/421/2022/09/15/6335513.jpg', 'https://s.pstatic.net/imgnews/image/thumb100/020/2022/08/01/3443254.jpg']\n"
          ]
        }
      ]
    },
    {
      "cell_type": "code",
      "source": [
        "# 제주\n",
        "Jeju = \"https://land.naver.com/news/region.naver?city_no=5000000000&dvsn_no=\"\n",
        "naver_region_img_url(Jeju)"
      ],
      "metadata": {
        "colab": {
          "base_uri": "https://localhost:8080/"
        },
        "id": "hUvMIYH_T0FH",
        "outputId": "7d981c6e-90d7-4be1-e203-74b9f80071aa"
      },
      "execution_count": null,
      "outputs": [
        {
          "output_type": "stream",
          "name": "stdout",
          "text": [
            "['https://s.pstatic.net/imgnews/image/thumb100/001/2021/08/24/12616535.jpg', 'https://s.pstatic.net/imgnews/image/thumb100/001/2021/06/11/12453413.jpg']\n"
          ]
        }
      ]
    },
    {
      "cell_type": "markdown",
      "source": [
        "### 네이버 부동산 뉴스_지역별 뉴스 URL 가져오기"
      ],
      "metadata": {
        "id": "xpKMHAC7ep1H"
      }
    },
    {
      "cell_type": "code",
      "source": [
        "def naver_region_url(url):\n",
        "  global RegionUrl01\n",
        "  global RegionUrl02\n",
        "\n",
        "  response = requests.request(\"GET\", url)\n",
        "  soup = BeautifulSoup(response.content,'html.parser')\n",
        "  titles = soup.select(\"dt.photo a\")\n",
        "  places_url=[]\n",
        "\n",
        "  for i in titles:\n",
        "    places_url.append(\"https://land.naver.com\"+i.attrs[\"href\"])\n",
        "  for i in places_url[:1]:\n",
        "    RegionUrl01 = i\n",
        "  for i in places_url[1:2]:\n",
        "    RegionUrl02 = i"
      ],
      "metadata": {
        "id": "3sTpsFTYQ_4Z"
      },
      "execution_count": null,
      "outputs": []
    },
    {
      "cell_type": "code",
      "source": [
        "# 서울: Seoul\n",
        "# 경기: Gyeonggi\n",
        "# 인천: Incheon\n",
        "# 부산: Busan\n",
        "# 대전: Daejeon\n",
        "# 대구: Dae_gu\n",
        "# 울산: Ulsan\n",
        "# 세종: Sejong\n",
        "# 광주: Gwangju\n",
        "# 강원: Gangwon\n",
        "# 충북: Chungbuk\n",
        "# 충남: Chungnam\n",
        "# 경북: Gyeongbuk\n",
        "# 경남: Gyeongnam\n",
        "# 전북: Jeonbuk\n",
        "# 전남: Jeonnam\n",
        "# 제주: Jeju\n",
        "naver_region_url(Jeju)\n",
        "RegionUrl01, RegionUrl02\n",
        "\n"
      ],
      "metadata": {
        "colab": {
          "base_uri": "https://localhost:8080/"
        },
        "id": "JZBLlCsNeuG3",
        "outputId": "5f6da6ec-acec-486c-89a9-a3188ed92843"
      },
      "execution_count": null,
      "outputs": [
        {
          "output_type": "execute_result",
          "data": {
            "text/plain": [
              "('https://land.naver.com/news/newsRead.naver?type=region&prsco_id=001&arti_id=0012616535',\n",
              " 'https://land.naver.com/news/newsRead.naver?type=region&prsco_id=001&arti_id=0012453413')"
            ]
          },
          "metadata": {},
          "execution_count": 118
        }
      ]
    },
    {
      "cell_type": "markdown",
      "source": [
        "### 네이버 부동산 뉴스_지역별 뉴스 텍스트 가져오기"
      ],
      "metadata": {
        "id": "DHsFIDJvkGax"
      }
    },
    {
      "cell_type": "code",
      "source": [
        "def naver_region_text(url):\n",
        "  global RegionText01\n",
        "  global RegionText02\n",
        "  response = requests.request(\"GET\", url)\n",
        "  soup = BeautifulSoup(response.content,'html.parser')\n",
        "  titles = soup.select(\"div.section_headline dt a\")\n",
        "  places_title = []\n",
        "\n",
        "  for one in titles:\n",
        "    if one.string != None:\n",
        "      places_title.append(one.string)\n",
        "\n",
        "  for i in places_title[:1]:\n",
        "    RegionText01 = i\n",
        "  for i in places_title[1:2]:\n",
        "    RegionText02 = i\n",
        "\n",
        "# 지역별 URL 입력시 텍스트 바뀜\n",
        "naver_region_text(Seoul)\n",
        "RegionText01, RegionText02"
      ],
      "metadata": {
        "colab": {
          "base_uri": "https://localhost:8080/"
        },
        "id": "d4tqDyAgkJb5",
        "outputId": "088d6157-c841-4d77-b4d8-7fb60f217c80"
      },
      "execution_count": null,
      "outputs": [
        {
          "output_type": "execute_result",
          "data": {
            "text/plain": [
              "(\"경매도 전세도 급급매도 '싸늘'…'26억' 목동 아파트도 16억으로 10억 '뚝'\",\n",
              " '준공 30년 넘은 노후 아파트 비중 영등포 1위…도봉·송파 순')"
            ]
          },
          "metadata": {},
          "execution_count": 119
        }
      ]
    }
  ]
}