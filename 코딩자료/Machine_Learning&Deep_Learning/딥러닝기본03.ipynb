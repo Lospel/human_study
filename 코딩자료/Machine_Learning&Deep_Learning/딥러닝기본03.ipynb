{
  "nbformat": 4,
  "nbformat_minor": 0,
  "metadata": {
    "colab": {
      "provenance": [],
      "collapsed_sections": []
    },
    "kernelspec": {
      "name": "python3",
      "display_name": "Python 3"
    },
    "language_info": {
      "name": "python"
    }
  },
  "cells": [
    {
      "cell_type": "markdown",
      "source": [
        "cnn_221026"
      ],
      "metadata": {
        "id": "qI0agXS4CGqz"
      }
    },
    {
      "cell_type": "markdown",
      "source": [
        "## CNN 알고리즘\n",
        "- 딥러닝의 꽃\n",
        "- 다층 신경망의 기본적인 계산 방식은 각 1개씩만 계산, 반면에 CNN은 필터(커널)를 활용하여 계산\n",
        "- 파급효과\n",
        "  + (은행) 손글씨 판별기를 만듬 / 상업화 성공\n",
        "  + 다양한 아류(개선된) 논문들이 쏟아져 나오기 시작\n",
        "  + 1998년도, LeNet\n",
        "  + 2012년도, AlexNet\n",
        "  + ... VGGNet, GoogleNet\n",
        "  + 2015년도 ResNet의 성능이 사람을 능가하기 시작 --> 영상인식 알고리즘 발전에 도움을 주기 시작"
      ],
      "metadata": {
        "id": "VGo7zw7GCN2q"
      }
    },
    {
      "cell_type": "markdown",
      "source": [
        "## 패션 MNIST 데이터 불러오기"
      ],
      "metadata": {
        "id": "TthvI7mgo8jt"
      }
    },
    {
      "cell_type": "code",
      "source": [
        "from tensorflow import keras\n",
        "from sklearn.model_selection import train_test_split\n",
        "\n",
        "(train_input, train_target), (test_input, test_target) = \\\n",
        "  keras.datasets.fashion_mnist.load_data()\n",
        "\n",
        "train_input.shape, train_target.shape, test_input.shape, test_target.shape"
      ],
      "metadata": {
        "colab": {
          "base_uri": "https://localhost:8080/"
        },
        "id": "xgoCjCGcGeON",
        "outputId": "03b69270-9634-4f4f-80d6-ca7a8deb4a6c"
      },
      "execution_count": 1,
      "outputs": [
        {
          "output_type": "stream",
          "name": "stdout",
          "text": [
            "Downloading data from https://storage.googleapis.com/tensorflow/tf-keras-datasets/train-labels-idx1-ubyte.gz\n",
            "29515/29515 [==============================] - 0s 0us/step\n",
            "Downloading data from https://storage.googleapis.com/tensorflow/tf-keras-datasets/train-images-idx3-ubyte.gz\n",
            "26421880/26421880 [==============================] - 0s 0us/step\n",
            "Downloading data from https://storage.googleapis.com/tensorflow/tf-keras-datasets/t10k-labels-idx1-ubyte.gz\n",
            "5148/5148 [==============================] - 0s 0us/step\n",
            "Downloading data from https://storage.googleapis.com/tensorflow/tf-keras-datasets/t10k-images-idx3-ubyte.gz\n",
            "4422102/4422102 [==============================] - 0s 0us/step\n"
          ]
        },
        {
          "output_type": "execute_result",
          "data": {
            "text/plain": [
              "((60000, 28, 28), (60000,), (10000, 28, 28), (10000,))"
            ]
          },
          "metadata": {},
          "execution_count": 1
        }
      ]
    },
    {
      "cell_type": "markdown",
      "source": [
        "- 기존 신경망 1차원 배열로 재정렬\n",
        "- 합성곱 신경망에서는 3차원 배열을 유지해야 함.\n",
        "  + 흑백이미지인 경우도 3차원 배열로 정리"
      ],
      "metadata": {
        "id": "hpz3P-SUpnCG"
      }
    },
    {
      "cell_type": "code",
      "source": [
        "train_scaled = train_input.reshape(-1, 28,28,1) /255.0\n",
        "train_scaled.shape"
      ],
      "metadata": {
        "colab": {
          "base_uri": "https://localhost:8080/"
        },
        "id": "LEo2Pu62qKwl",
        "outputId": "01f614be-e9ba-459f-eaa7-84144e29b74b"
      },
      "execution_count": 2,
      "outputs": [
        {
          "output_type": "execute_result",
          "data": {
            "text/plain": [
              "(60000, 28, 28, 1)"
            ]
          },
          "metadata": {},
          "execution_count": 2
        }
      ]
    },
    {
      "cell_type": "markdown",
      "source": [
        "## 데이터셋 분리"
      ],
      "metadata": {
        "id": "29_TY3QFq4Bm"
      }
    },
    {
      "cell_type": "code",
      "source": [
        "train_scaled, val_scaled, train_target, val_target = train_test_split(\n",
        "    train_scaled, train_target, test_size=0.2, random_state=42\n",
        ")\n",
        "train_scaled.shape, val_scaled.shape"
      ],
      "metadata": {
        "colab": {
          "base_uri": "https://localhost:8080/"
        },
        "id": "k3cTq154q5lt",
        "outputId": "0130b261-c2a4-4a35-f0c7-147e76dc8209"
      },
      "execution_count": 3,
      "outputs": [
        {
          "output_type": "execute_result",
          "data": {
            "text/plain": [
              "((48000, 28, 28, 1), (12000, 28, 28, 1))"
            ]
          },
          "metadata": {},
          "execution_count": 3
        }
      ]
    },
    {
      "cell_type": "markdown",
      "source": [
        "## 합성곱 신경망 만들기\n",
        "- 기본 코드의 컨셉은 다층 신경망 구현할 때와 똑같음"
      ],
      "metadata": {
        "id": "dgqE7Co9rI9-"
      }
    },
    {
      "cell_type": "code",
      "source": [
        "model = keras.Sequential()    # 32개의 필터, 3 X 3\n",
        "# 3차원\n",
        "model.add(keras.layers.Conv2D(32,kernel_size = 3, activation='relu', padding='same', input_shape=(28,28,1)))\n",
        "model.add(keras.layers.MaxPooling2D(2))\n",
        "model.add(keras.layers.Conv2D(64,kernel_size = 3, activation='relu', padding='same'))\n",
        "model.add(keras.layers.MaxPooling2D(2))\n",
        "\n",
        "#1차원\n",
        "model.add(keras.layers.Flatten())\n",
        "\n",
        "model.add(keras.layers.Dense(100, activation='relu'))\n",
        "model.add(keras.layers.Dropout(0.4))\n",
        "model.add(keras.layers.Dense(10, activation='softmax'))\n",
        "\n",
        "model.summary()"
      ],
      "metadata": {
        "colab": {
          "base_uri": "https://localhost:8080/"
        },
        "id": "8rYyjAgJrIPl",
        "outputId": "a11d4efe-8908-4f69-c352-6c5aa9edf4a8"
      },
      "execution_count": 6,
      "outputs": [
        {
          "output_type": "stream",
          "name": "stdout",
          "text": [
            "Model: \"sequential_2\"\n",
            "_________________________________________________________________\n",
            " Layer (type)                Output Shape              Param #   \n",
            "=================================================================\n",
            " conv2d_2 (Conv2D)           (None, 28, 28, 32)        320       \n",
            "                                                                 \n",
            " max_pooling2d (MaxPooling2D  (None, 14, 14, 32)       0         \n",
            " )                                                               \n",
            "                                                                 \n",
            " conv2d_3 (Conv2D)           (None, 14, 14, 64)        18496     \n",
            "                                                                 \n",
            " max_pooling2d_1 (MaxPooling  (None, 7, 7, 64)         0         \n",
            " 2D)                                                             \n",
            "                                                                 \n",
            " flatten (Flatten)           (None, 3136)              0         \n",
            "                                                                 \n",
            " dense (Dense)               (None, 100)               313700    \n",
            "                                                                 \n",
            " dropout (Dropout)           (None, 100)               0         \n",
            "                                                                 \n",
            " dense_1 (Dense)             (None, 10)                1010      \n",
            "                                                                 \n",
            "=================================================================\n",
            "Total params: 333,526\n",
            "Trainable params: 333,526\n",
            "Non-trainable params: 0\n",
            "_________________________________________________________________\n"
          ]
        }
      ]
    },
    {
      "cell_type": "markdown",
      "source": [
        "원본 이미지\n",
        "-- Cov2D ... MaxPooling : 표본 샘플이 만들어짐"
      ],
      "metadata": {
        "id": "3ojFzOKluHjU"
      }
    },
    {
      "cell_type": "code",
      "source": [
        "keras.utils.plot_model(model)"
      ],
      "metadata": {
        "colab": {
          "base_uri": "https://localhost:8080/",
          "height": 856
        },
        "id": "WbUQOEZOvWqG",
        "outputId": "e9639bbc-5dca-4757-997c-17dc5c17dced"
      },
      "execution_count": 7,
      "outputs": [
        {
          "output_type": "execute_result",
          "data": {
            "image/png": "[encoded data removed]",
            "text/plain": [
              "<IPython.core.display.Image object>"
            ]
          },
          "metadata": {},
          "execution_count": 7
        }
      ]
    },
    {
      "cell_type": "markdown",
      "source": [
        "## 모형 훈련"
      ],
      "metadata": {
        "id": "iKEAh4rTvh4z"
      }
    },
    {
      "cell_type": "code",
      "source": [
        "model.compile(optimizer='adam', loss='sparse_categorical_crossentropy', \n",
        "              metrics='accuracy')"
      ],
      "metadata": {
        "id": "cftBraY0vlI7"
      },
      "execution_count": 8,
      "outputs": []
    },
    {
      "cell_type": "markdown",
      "source": [
        "## 모델 저장 \n",
        "- 파이썬에서 모델을 저장한다. 그러나 자바에서는 쉽게 불러올 수 없다.\n",
        "- 별도의 작업이 필요하다\n",
        "  + API 구성, Embeded 형태로 코드 구현 등."
      ],
      "metadata": {
        "id": "a5tre_hKvpiL"
      }
    },
    {
      "cell_type": "code",
      "source": [
        "checkpoint_cb = keras.callbacks.ModelCheckpoint('best-cnn-model.h5', save_best_only=True)\n",
        "\n",
        "early_stopping_cb = keras.callbacks.EarlyStopping(patience=2, restore_best_weights=True)\n",
        "\n",
        "history = model.fit(train_scaled, train_target, epochs=50, validation_data= (val_scaled, val_target), callbacks=[checkpoint_cb, early_stopping_cb])"
      ],
      "metadata": {
        "colab": {
          "base_uri": "https://localhost:8080/"
        },
        "id": "k49FHL6-wTSt",
        "outputId": "759c810d-a492-4f14-daa2-e29e45820242"
      },
      "execution_count": 9,
      "outputs": [
        {
          "output_type": "stream",
          "name": "stdout",
          "text": [
            "Epoch 1/50\n",
            "1500/1500 [==============================] - 68s 44ms/step - loss: 0.5258 - accuracy: 0.8108 - val_loss: 0.3345 - val_accuracy: 0.8743\n",
            "Epoch 2/50\n",
            "1500/1500 [==============================] - 67s 44ms/step - loss: 0.3514 - accuracy: 0.8741 - val_loss: 0.2832 - val_accuracy: 0.8940\n",
            "Epoch 3/50\n",
            "1500/1500 [==============================] - 68s 46ms/step - loss: 0.3015 - accuracy: 0.8900 - val_loss: 0.2791 - val_accuracy: 0.8975\n",
            "Epoch 4/50\n",
            "1500/1500 [==============================] - 67s 45ms/step - loss: 0.2682 - accuracy: 0.9026 - val_loss: 0.2362 - val_accuracy: 0.9131\n",
            "Epoch 5/50\n",
            "1500/1500 [==============================] - 68s 46ms/step - loss: 0.2450 - accuracy: 0.9105 - val_loss: 0.2318 - val_accuracy: 0.9126\n",
            "Epoch 6/50\n",
            "1500/1500 [==============================] - 67s 45ms/step - loss: 0.2236 - accuracy: 0.9174 - val_loss: 0.2211 - val_accuracy: 0.9193\n",
            "Epoch 7/50\n",
            "1500/1500 [==============================] - 68s 45ms/step - loss: 0.2057 - accuracy: 0.9249 - val_loss: 0.2325 - val_accuracy: 0.9114\n",
            "Epoch 8/50\n",
            "1500/1500 [==============================] - 69s 46ms/step - loss: 0.1921 - accuracy: 0.9279 - val_loss: 0.2279 - val_accuracy: 0.9190\n"
          ]
        }
      ]
    },
    {
      "cell_type": "markdown",
      "source": [
        "## 모형 평가 그래프를 작성한다."
      ],
      "metadata": {
        "id": "v_szC_kl3D08"
      }
    },
    {
      "cell_type": "code",
      "source": [
        "import matplotlib.pyplot as plt\n",
        "\n",
        "def eva_graph(history):\n",
        "  plt.plot(history.history['loss'])\n",
        "  plt.plot(history.history['val_loss'])\n",
        "  plt.xlabel('epoch')\n",
        "  plt.ylabel('loss')\n",
        "  plt.legend(['train','validation'])\n",
        "  plt.show()\n",
        "\n",
        "eva_graph(history)"
      ],
      "metadata": {
        "colab": {
          "base_uri": "https://localhost:8080/",
          "height": 279
        },
        "id": "YjipSnOO3GOh",
        "outputId": "e738e809-a06f-4981-9fc3-d14059f38ecb"
      },
      "execution_count": 11,
      "outputs": [
        {
          "output_type": "display_data",
          "data": {
            "text/plain": [
              "<Figure size 432x288 with 1 Axes>"
            ],
            "image/png": "[encoded data removed]"
          },
          "metadata": {
            "needs_background": "light"
          }
        }
      ]
    },
    {
      "cell_type": "code",
      "source": [
        "model.evaluate(val_scaled, val_target)"
      ],
      "metadata": {
        "colab": {
          "base_uri": "https://localhost:8080/"
        },
        "id": "H3lHLE7L3uNQ",
        "outputId": "a9ffc702-0801-497a-d816-a999483de71a"
      },
      "execution_count": 12,
      "outputs": [
        {
          "output_type": "stream",
          "name": "stdout",
          "text": [
            "375/375 [==============================] - 6s 15ms/step - loss: 0.2211 - accuracy: 0.9193\n"
          ]
        },
        {
          "output_type": "execute_result",
          "data": {
            "text/plain": [
              "[0.22106771171092987, 0.9193333387374878]"
            ]
          },
          "metadata": {},
          "execution_count": 12
        }
      ]
    },
    {
      "cell_type": "markdown",
      "source": [
        "## 저장된 모델을 불러온다."
      ],
      "metadata": {
        "id": "3jlcJju03sjh"
      }
    },
    {
      "cell_type": "code",
      "source": [
        "model2 = keras.models.load_model('/content/best-cnn-model.h5')\n",
        "model2.summary()"
      ],
      "metadata": {
        "colab": {
          "base_uri": "https://localhost:8080/"
        },
        "id": "26DD4Fw83_GI",
        "outputId": "a9a89249-d2c8-427a-c20b-5b050bd71020"
      },
      "execution_count": 13,
      "outputs": [
        {
          "output_type": "stream",
          "name": "stdout",
          "text": [
            "Model: \"sequential_2\"\n",
            "_________________________________________________________________\n",
            " Layer (type)                Output Shape              Param #   \n",
            "=================================================================\n",
            " conv2d_2 (Conv2D)           (None, 28, 28, 32)        320       \n",
            "                                                                 \n",
            " max_pooling2d (MaxPooling2D  (None, 14, 14, 32)       0         \n",
            " )                                                               \n",
            "                                                                 \n",
            " conv2d_3 (Conv2D)           (None, 14, 14, 64)        18496     \n",
            "                                                                 \n",
            " max_pooling2d_1 (MaxPooling  (None, 7, 7, 64)         0         \n",
            " 2D)                                                             \n",
            "                                                                 \n",
            " flatten (Flatten)           (None, 3136)              0         \n",
            "                                                                 \n",
            " dense (Dense)               (None, 100)               313700    \n",
            "                                                                 \n",
            " dropout (Dropout)           (None, 100)               0         \n",
            "                                                                 \n",
            " dense_1 (Dense)             (None, 10)                1010      \n",
            "                                                                 \n",
            "=================================================================\n",
            "Total params: 333,526\n",
            "Trainable params: 333,526\n",
            "Non-trainable params: 0\n",
            "_________________________________________________________________\n"
          ]
        }
      ]
    },
    {
      "cell_type": "code",
      "source": [
        "model2.evaluate(val_scaled, val_target)"
      ],
      "metadata": {
        "colab": {
          "base_uri": "https://localhost:8080/"
        },
        "id": "X4tQ77cd4XCp",
        "outputId": "803181a8-957d-47b3-fed9-ad1aebfc152a"
      },
      "execution_count": 14,
      "outputs": [
        {
          "output_type": "stream",
          "name": "stdout",
          "text": [
            "375/375 [==============================] - 5s 14ms/step - loss: 0.2211 - accuracy: 0.9193\n"
          ]
        },
        {
          "output_type": "execute_result",
          "data": {
            "text/plain": [
              "[0.22106771171092987, 0.9193333387374878]"
            ]
          },
          "metadata": {},
          "execution_count": 14
        }
      ]
    }
  ]
}