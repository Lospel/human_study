{
  "nbformat": 4,
  "nbformat_minor": 0,
  "metadata": {
    "colab": {
      "provenance": [],
      "collapsed_sections": [
        "KLqf1O8oroJy",
        "I5oXpQoqr_55"
      ]
    },
    "kernelspec": {
      "name": "python3",
      "display_name": "Python 3"
    },
    "language_info": {
      "name": "python"
    }
  },
  "cells": [
    {
      "cell_type": "markdown",
      "source": [
        "## 생선 분류 문제\n",
        "- 도미, 빙어"
      ],
      "metadata": {
        "id": "KLqf1O8oroJy"
      }
    },
    {
      "cell_type": "code",
      "source": [
        "# 도미\n",
        "bream_length = [25.4, 26.3, 26.5, 29.0, 29.0, 29.7, 29.7, 30.0, 30.0, 30.7, 31.0, 31.0, 31.5, 32.0, 32.0, 32.0, 33.0, 33.0, 33.5, 33.5, 34.0, 34.0, 34.5, 35.0, 35.0, 35.0, 35.0, 36.0, 36.0, 37.0, 38.5, 38.5, 39.5, 41.0, 41.0]\n",
        "bream_weight = [242.0, 290.0, 340.0, 363.0, 430.0, 450.0, 500.0, 390.0, 450.0, 500.0, 475.0, 500.0, 500.0, 340.0, 600.0, 600.0, 700.0, 700.0, 610.0, 650.0, 575.0, 685.0, 620.0, 680.0, 700.0, 725.0, 720.0, 714.0, 850.0, 1000.0, 920.0, 955.0, 925.0, 975.0, 950.0]\n",
        "\n",
        "# 빙어\n",
        "smelt_length = [9.8, 10.5, 10.6, 11.0, 11.2, 11.3, 11.8, 11.8, 12.0, 12.2, 12.4, 13.0, 14.3, 15.0]\n",
        "smelt_weight = [6.7, 7.5, 7.0, 9.7, 9.8, 8.7, 10.0, 9.9, 9.8, 12.2, 13.4, 12.2, 19.7, 19.9]"
      ],
      "metadata": {
        "id": "6YyvonwervRA"
      },
      "execution_count": 1,
      "outputs": []
    },
    {
      "cell_type": "markdown",
      "source": [
        "- 전체 데이터 길이 확인"
      ],
      "metadata": {
        "id": "mmVSaWLxvte_"
      }
    },
    {
      "cell_type": "code",
      "source": [
        "# 도미 35개, 빙어 14개\n",
        "print(len(bream_length), len(smelt_length))"
      ],
      "metadata": {
        "colab": {
          "base_uri": "https://localhost:8080/"
        },
        "id": "v5jd8fGbvvg_",
        "outputId": "1df404e6-9c98-4180-8cdb-07ab79aed063"
      },
      "execution_count": 13,
      "outputs": [
        {
          "output_type": "stream",
          "name": "stdout",
          "text": [
            "35 14\n"
          ]
        }
      ]
    },
    {
      "cell_type": "markdown",
      "source": [
        "## 데이터 시각화"
      ],
      "metadata": {
        "id": "I5oXpQoqr_55"
      }
    },
    {
      "cell_type": "code",
      "source": [
        "import matplotlib.pyplot as plt\n",
        "fig, ax = plt.subplots(figsize=(10,6))\n",
        "ax.scatter(bream_length, bream_weight)\n",
        "ax.scatter(smelt_length, smelt_weight)\n",
        "ax.set_xlabel('length')\n",
        "ax.set_ylabel('weight')\n",
        "\n",
        "plt.show()"
      ],
      "metadata": {
        "colab": {
          "base_uri": "https://localhost:8080/",
          "height": 388
        },
        "id": "hIzy4iOFr7pq",
        "outputId": "05154f42-c21f-4745-91bf-ce2cda985088"
      },
      "execution_count": 5,
      "outputs": [
        {
          "output_type": "display_data",
          "data": {
            "text/plain": [
              "<Figure size 720x432 with 1 Axes>"
            ],
            "image/png": "[encoded data removed]"
          },
          "metadata": {
            "needs_background": "light"
          }
        }
      ]
    },
    {
      "cell_type": "markdown",
      "source": [
        "- 전체 데이터 만들기"
      ],
      "metadata": {
        "id": "gwsrU8GwtUFR"
      }
    },
    {
      "cell_type": "code",
      "source": [
        "length = bream_length + smelt_length\n",
        "weight = bream_weight + smelt_weight\n",
        "\n",
        "print(len(length), len(weight))"
      ],
      "metadata": {
        "colab": {
          "base_uri": "https://localhost:8080/"
        },
        "id": "iT93J17atWZ_",
        "outputId": "fdb9738b-3b29-4bd4-aeea-136c98a987f4"
      },
      "execution_count": 6,
      "outputs": [
        {
          "output_type": "stream",
          "name": "stdout",
          "text": [
            "49 49\n"
          ]
        }
      ]
    },
    {
      "cell_type": "markdown",
      "source": [
        "### 리스트 컴프리헨션 (List Comprehension)\n",
        "- 반복문 (조건문 포함)을 1줄로 처리\n",
        "- 반환값은 리스트 "
      ],
      "metadata": {
        "id": "PFg9aywTt7DQ"
      }
    },
    {
      "cell_type": "code",
      "source": [
        "temp_text = \"humanEdu\"\n",
        "human_letters = []\n",
        "for letter in temp_text :\n",
        "  human_letters.append(letter)\n",
        "\n",
        "print(human_letters)"
      ],
      "metadata": {
        "colab": {
          "base_uri": "https://localhost:8080/"
        },
        "id": "vFlS5hoitv0p",
        "outputId": "16eeb27d-2f9a-4422-92c1-72c02e74e1c4"
      },
      "execution_count": 8,
      "outputs": [
        {
          "output_type": "stream",
          "name": "stdout",
          "text": [
            "['h', 'u', 'm', 'a', 'n', 'E', 'd', 'u']\n"
          ]
        }
      ]
    },
    {
      "cell_type": "code",
      "source": [
        "temp_text = \"humanEdu\"\n",
        "human_letters = [letter for letter in temp_text]\n",
        "\n",
        "print(human_letters)"
      ],
      "metadata": {
        "colab": {
          "base_uri": "https://localhost:8080/"
        },
        "id": "KA1OWnX2uiGZ",
        "outputId": "85422a8f-ad5c-4179-d9ec-a14740b3110d"
      },
      "execution_count": 10,
      "outputs": [
        {
          "output_type": "stream",
          "name": "stdout",
          "text": [
            "['h', 'u', 'm', 'a', 'n', 'E', 'd', 'u']\n"
          ]
        }
      ]
    },
    {
      "cell_type": "code",
      "source": [
        "fish_data = [[l,w] for l, w in zip(length, weight)]\n",
        "\n",
        "print(fish_data)"
      ],
      "metadata": {
        "colab": {
          "base_uri": "https://localhost:8080/"
        },
        "id": "Zi5JSab-vCqh",
        "outputId": "51395e6a-6711-46b5-caf9-869c5b471718"
      },
      "execution_count": 11,
      "outputs": [
        {
          "output_type": "stream",
          "name": "stdout",
          "text": [
            "[[25.4, 242.0], [26.3, 290.0], [26.5, 340.0], [29.0, 363.0], [29.0, 430.0], [29.7, 450.0], [29.7, 500.0], [30.0, 390.0], [30.0, 450.0], [30.7, 500.0], [31.0, 475.0], [31.0, 500.0], [31.5, 500.0], [32.0, 340.0], [32.0, 600.0], [32.0, 600.0], [33.0, 700.0], [33.0, 700.0], [33.5, 610.0], [33.5, 650.0], [34.0, 575.0], [34.0, 685.0], [34.5, 620.0], [35.0, 680.0], [35.0, 700.0], [35.0, 725.0], [35.0, 720.0], [36.0, 714.0], [36.0, 850.0], [37.0, 1000.0], [38.5, 920.0], [38.5, 955.0], [39.5, 925.0], [41.0, 975.0], [41.0, 950.0], [9.8, 6.7], [10.5, 7.5], [10.6, 7.0], [11.0, 9.7], [11.2, 9.8], [11.3, 8.7], [11.8, 10.0], [11.8, 9.9], [12.0, 9.8], [12.2, 12.2], [12.4, 13.4], [13.0, 12.2], [14.3, 19.7], [15.0, 19.9]]\n"
          ]
        }
      ]
    },
    {
      "cell_type": "markdown",
      "source": [
        "- 지도학습은 라벨이 필요하다. \n",
        "--> 종속변수, 타겟변수 (Response Variable, Dependent Variable)"
      ],
      "metadata": {
        "id": "veu595VVvXkY"
      }
    },
    {
      "cell_type": "code",
      "source": [
        "# 도미 35개 1로 표시\n",
        "# 빙어 14개 0로 표시\n",
        "fish_target = [1] * 35 + [0] * 14\n",
        "# fish_target = [\"도미\"] * 35 + [\"빙어\"] * 14\n",
        "print(fish_target)"
      ],
      "metadata": {
        "colab": {
          "base_uri": "https://localhost:8080/"
        },
        "id": "FsjfQS2kvqh_",
        "outputId": "463df451-a320-471a-ef78-71676684b578"
      },
      "execution_count": 24,
      "outputs": [
        {
          "output_type": "stream",
          "name": "stdout",
          "text": [
            "[1, 1, 1, 1, 1, 1, 1, 1, 1, 1, 1, 1, 1, 1, 1, 1, 1, 1, 1, 1, 1, 1, 1, 1, 1, 1, 1, 1, 1, 1, 1, 1, 1, 1, 1, 0, 0, 0, 0, 0, 0, 0, 0, 0, 0, 0, 0, 0, 0]\n"
          ]
        }
      ]
    },
    {
      "cell_type": "markdown",
      "source": [
        "## 머신러닝 모형 구현\n",
        "- KNN 구현"
      ],
      "metadata": {
        "id": "vI2ZxB7twT_o"
      }
    },
    {
      "cell_type": "code",
      "source": [
        "from sklearn.neighbors import KNeighborsClassifier\n",
        "\n",
        "# 모형 불러오기\n",
        "kn = KNeighborsClassifier()\n",
        "\n",
        "# 모형 학습\n",
        "kn.fit(fish_data,fish_target)"
      ],
      "metadata": {
        "colab": {
          "base_uri": "https://localhost:8080/"
        },
        "id": "MEWf99pewWD_",
        "outputId": "1604e6da-1e36-4a33-febf-8fff135e91f8"
      },
      "execution_count": 18,
      "outputs": [
        {
          "output_type": "execute_result",
          "data": {
            "text/plain": [
              "KNeighborsClassifier()"
            ]
          },
          "metadata": {},
          "execution_count": 18
        }
      ]
    },
    {
      "cell_type": "code",
      "source": [
        "# 모형 평가\n",
        "# 1.0 의미 ==> 100% 정확도\n",
        "kn.score(fish_data, fish_target)"
      ],
      "metadata": {
        "colab": {
          "base_uri": "https://localhost:8080/"
        },
        "id": "JYM--_AVz6pw",
        "outputId": "ea932b2d-30a0-47e2-beff-d62b5a5f3e9d"
      },
      "execution_count": 19,
      "outputs": [
        {
          "output_type": "execute_result",
          "data": {
            "text/plain": [
              "1.0"
            ]
          },
          "metadata": {},
          "execution_count": 19
        }
      ]
    },
    {
      "cell_type": "code",
      "source": [
        "# 예측 (= 배포)\n",
        "new_data = [[30, 600]]\n",
        "kn.predict(new_data) # 도미로 예측함"
      ],
      "metadata": {
        "colab": {
          "base_uri": "https://localhost:8080/"
        },
        "id": "hdIzD8El0LQI",
        "outputId": "7d354ba0-fbc2-494f-c389-af834e1770da"
      },
      "execution_count": 25,
      "outputs": [
        {
          "output_type": "execute_result",
          "data": {
            "text/plain": [
              "array([1])"
            ]
          },
          "metadata": {},
          "execution_count": 25
        }
      ]
    },
    {
      "cell_type": "code",
      "source": [
        "import matplotlib.pyplot as plt\n",
        "fig, ax = plt.subplots(figsize=(10,6))\n",
        "ax.scatter(bream_length, bream_weight)\n",
        "ax.scatter(smelt_length, smelt_weight)\n",
        "ax.scatter(30,600, marker = '^')\n",
        "\n",
        "ax.set_xlabel('length')\n",
        "ax.set_ylabel('weight')\n",
        "\n",
        "plt.show()"
      ],
      "metadata": {
        "colab": {
          "base_uri": "https://localhost:8080/",
          "height": 388
        },
        "id": "F6M2d2Sp1BgG",
        "outputId": "d5a5576f-3298-49ae-8c09-3cf1aa9f74ac"
      },
      "execution_count": 27,
      "outputs": [
        {
          "output_type": "display_data",
          "data": {
            "text/plain": [
              "<Figure size 720x432 with 1 Axes>"
            ],
            "image/png": "[encoded data removed]"
          },
          "metadata": {
            "needs_background": "light"
          }
        }
      ]
    },
    {
      "cell_type": "code",
      "source": [
        "import sklearn\n",
        "kn = sklearn.neighbors.KNeighborsClassifier()"
      ],
      "metadata": {
        "id": "xz96ecKJzNeW"
      },
      "execution_count": 16,
      "outputs": []
    },
    {
      "cell_type": "code",
      "source": [
        "from sklearn.neighbors import KNeighborsClassifier\n",
        "\n",
        "# 모형 불러오기\n",
        "kn = KNeighborsClassifier(n_neighbors = 17)\n",
        "\n",
        "# 모형 학습\n",
        "kn.fit(fish_data,fish_target)\n",
        "\n",
        "# 모형 평가\n",
        "# 0.71 의미 ==> 71% 정확도\n",
        "kn.score(fish_data, fish_target)"
      ],
      "metadata": {
        "colab": {
          "base_uri": "https://localhost:8080/"
        },
        "id": "ANGe8hIuTEm8",
        "outputId": "ba4919d0-559a-458f-b897-586f0e698afe"
      },
      "execution_count": 30,
      "outputs": [
        {
          "output_type": "execute_result",
          "data": {
            "text/plain": [
              "1.0"
            ]
          },
          "metadata": {},
          "execution_count": 30
        }
      ]
    },
    {
      "cell_type": "code",
      "source": [
        "for n in range(5,50) :\n",
        "  # 최근접 이웃 개수 설정\n",
        "  # print(n)\n",
        "  kn.n_neighbors = n\n",
        "\n",
        "  # 스코어 계산\n",
        "  score = kn.score(fish_data,fish_target)\n",
        "\n",
        "  print(n,score)\n",
        "  \n",
        "  # 1.0에 미치지 못하는 이웃 개수 경계선 구하기\n",
        "  if score <1 :\n",
        "    print(n,score)\n",
        "    break"
      ],
      "metadata": {
        "colab": {
          "base_uri": "https://localhost:8080/"
        },
        "id": "FzIQOu1AT7bl",
        "outputId": "f3328232-8246-49ce-fb3a-d82fca01fc29"
      },
      "execution_count": 34,
      "outputs": [
        {
          "output_type": "stream",
          "name": "stdout",
          "text": [
            "5 1.0\n",
            "6 1.0\n",
            "7 1.0\n",
            "8 1.0\n",
            "9 1.0\n",
            "10 1.0\n",
            "11 1.0\n",
            "12 1.0\n",
            "13 1.0\n",
            "14 1.0\n",
            "15 1.0\n",
            "16 1.0\n",
            "17 1.0\n",
            "18 0.9795918367346939\n",
            "18 0.9795918367346939\n"
          ]
        }
      ]
    },
    {
      "cell_type": "markdown",
      "source": [
        "## 머신러닝 중요 메서드\n",
        "- fit() : 훈련시 사용하는 메서드, 두개의 데이터가 들어감. \n",
        "  + 독립변수 : fish_data (길이, 몸무게)\n",
        "  + 종속변수 : fish_target\n",
        "\n",
        "- predict() : 예측할 때 사용\n",
        "  + 새로운 데이터 : 독립변수만 추가\n",
        "\n",
        "- score() : 모형의 성능 평가\n",
        "  + 실전 : 평가지표 함수를 사용!"
      ],
      "metadata": {
        "id": "hvUcXUalUqR9"
      }
    },
    {
      "cell_type": "markdown",
      "source": [
        "## 훈련 세트와 테스트 세트\n",
        "- 기존 모델의 문제점\n",
        "- 예측값, 평가지표 산출 시, 100%\n",
        "- 훈련 세트 : 훈련 시에 사용되는 데이터\n",
        "- 테스트 세트 : 평가 시에 사용되는 데이터"
      ],
      "metadata": {
        "id": "weSddzAWWN6s"
      }
    },
    {
      "cell_type": "code",
      "source": [
        "fish_data[:5]"
      ],
      "metadata": {
        "colab": {
          "base_uri": "https://localhost:8080/"
        },
        "id": "dOOTJz1EYP_U",
        "outputId": "e3274b79-0d2c-45f1-d374-ffbe39838b50"
      },
      "execution_count": 35,
      "outputs": [
        {
          "output_type": "execute_result",
          "data": {
            "text/plain": [
              "[[25.4, 242.0], [26.3, 290.0], [26.5, 340.0], [29.0, 363.0], [29.0, 430.0]]"
            ]
          },
          "metadata": {},
          "execution_count": 35
        }
      ]
    },
    {
      "cell_type": "code",
      "source": [
        "fish_data[44:]"
      ],
      "metadata": {
        "colab": {
          "base_uri": "https://localhost:8080/"
        },
        "id": "ZWbPDTwAYQb0",
        "outputId": "2ce44490-d831-4c63-f6a6-00add8109d64"
      },
      "execution_count": 36,
      "outputs": [
        {
          "output_type": "execute_result",
          "data": {
            "text/plain": [
              "[[12.2, 12.2], [12.4, 13.4], [13.0, 12.2], [14.3, 19.7], [15.0, 19.9]]"
            ]
          },
          "metadata": {},
          "execution_count": 36
        }
      ]
    },
    {
      "cell_type": "code",
      "source": [
        "train_input = fish_data[:35]\n",
        "train_target = fish_target[:35]\n",
        "\n",
        "test_input = fish_data[35:]\n",
        "test_target = fish_target[35:]"
      ],
      "metadata": {
        "id": "I-aAGDQYYSDb"
      },
      "execution_count": 37,
      "outputs": []
    },
    {
      "cell_type": "markdown",
      "source": [
        "- 모형 만들고, 모형 테스트\n",
        "- Why 정확도가 0%인가?"
      ],
      "metadata": {
        "id": "-co_S2XgZfpV"
      }
    },
    {
      "cell_type": "code",
      "source": [
        "kn = kn.fit(train_input, train_target)\n",
        "kn.score(test_input, test_target)"
      ],
      "metadata": {
        "colab": {
          "base_uri": "https://localhost:8080/"
        },
        "id": "b-q0k27xZdh7",
        "outputId": "eae8038f-de84-40ea-fb2d-c2fda6d713ae"
      },
      "execution_count": 39,
      "outputs": [
        {
          "output_type": "execute_result",
          "data": {
            "text/plain": [
              "0.0"
            ]
          },
          "metadata": {},
          "execution_count": 39
        }
      ]
    },
    {
      "cell_type": "markdown",
      "source": [
        "### 데이터 섞기"
      ],
      "metadata": {
        "id": "EtEwrOR_b83S"
      }
    },
    {
      "cell_type": "code",
      "source": [
        "import numpy as np\n",
        "\n",
        "input_arr = np.array(fish_data)\n",
        "target_arr = np.array(fish_target)\n",
        "\n",
        "# print(input_arr)\n",
        "print(input_arr.shape) # 길이와 무게\n",
        "print(target_arr.shape) # 라벨\n"
      ],
      "metadata": {
        "colab": {
          "base_uri": "https://localhost:8080/"
        },
        "id": "8Kl5CLA_b-2x",
        "outputId": "cec78f6c-5113-45a2-b771-acbc2f6e3e72"
      },
      "execution_count": 45,
      "outputs": [
        {
          "output_type": "stream",
          "name": "stdout",
          "text": [
            "(49, 2)\n",
            "(49,)\n"
          ]
        }
      ]
    },
    {
      "cell_type": "markdown",
      "source": [
        "- 인덱스를 shuffle을 활용하여 섞기"
      ],
      "metadata": {
        "id": "_gwA_hYlgC8-"
      }
    },
    {
      "cell_type": "code",
      "source": [
        "np.random.seed(42) # 랜덤 고정\n",
        "index = np.arange(49)\n",
        "index"
      ],
      "metadata": {
        "colab": {
          "base_uri": "https://localhost:8080/"
        },
        "id": "xKotdV-egGDi",
        "outputId": "c772793b-75db-4486-ab7d-074c5397bf1f"
      },
      "execution_count": 46,
      "outputs": [
        {
          "output_type": "execute_result",
          "data": {
            "text/plain": [
              "array([ 0,  1,  2,  3,  4,  5,  6,  7,  8,  9, 10, 11, 12, 13, 14, 15, 16,\n",
              "       17, 18, 19, 20, 21, 22, 23, 24, 25, 26, 27, 28, 29, 30, 31, 32, 33,\n",
              "       34, 35, 36, 37, 38, 39, 40, 41, 42, 43, 44, 45, 46, 47, 48])"
            ]
          },
          "metadata": {},
          "execution_count": 46
        }
      ]
    },
    {
      "cell_type": "code",
      "source": [
        "np.random.shuffle(index)\n",
        "print(index)"
      ],
      "metadata": {
        "colab": {
          "base_uri": "https://localhost:8080/"
        },
        "id": "jY668Wo-gXDw",
        "outputId": "7d2f9232-78b4-4d1e-ed6f-5079d542a639"
      },
      "execution_count": 47,
      "outputs": [
        {
          "output_type": "stream",
          "name": "stdout",
          "text": [
            "[13 45 47 44 17 27 26 25 31 19 12  4 34  8  3  6 40 41 46 15  9 16 24 33\n",
            " 30  0 43 32  5 29 11 36  1 21  2 37 35 23 39 10 22 18 48 20  7 42 14 28\n",
            " 38]\n"
          ]
        }
      ]
    },
    {
      "cell_type": "code",
      "source": [
        "train_input = input_arr[index[:35]]\n",
        "train_target = target_arr[index[:35]]\n",
        "\n",
        "train_target"
      ],
      "metadata": {
        "colab": {
          "base_uri": "https://localhost:8080/"
        },
        "id": "XtA7CTxAhDzS",
        "outputId": "6c00e774-e59e-462b-9f5a-35cf86cdd1ef"
      },
      "execution_count": 48,
      "outputs": [
        {
          "output_type": "execute_result",
          "data": {
            "text/plain": [
              "array([1, 0, 0, 0, 1, 1, 1, 1, 1, 1, 1, 1, 1, 1, 1, 1, 0, 0, 0, 1, 1, 1,\n",
              "       1, 1, 1, 1, 0, 1, 1, 1, 1, 0, 1, 1, 1])"
            ]
          },
          "metadata": {},
          "execution_count": 48
        }
      ]
    },
    {
      "cell_type": "code",
      "source": [
        "test_input = input_arr[index[35:]]\n",
        "test_target = target_arr[index[35:]]\n",
        "\n",
        "test_target"
      ],
      "metadata": {
        "colab": {
          "base_uri": "https://localhost:8080/"
        },
        "id": "MJ0QayIlhWAA",
        "outputId": "0502bccd-ffe2-4fb1-c911-4c935429dbe2"
      },
      "execution_count": 49,
      "outputs": [
        {
          "output_type": "execute_result",
          "data": {
            "text/plain": [
              "array([0, 0, 1, 0, 1, 1, 1, 0, 1, 1, 0, 1, 1, 0])"
            ]
          },
          "metadata": {},
          "execution_count": 49
        }
      ]
    },
    {
      "cell_type": "markdown",
      "source": [
        "- 적절하게 섞여 있는지 확인하는 시각화"
      ],
      "metadata": {
        "id": "uRn36qRyhkag"
      }
    },
    {
      "cell_type": "code",
      "source": [
        "import matplotlib.pyplot as plt\n",
        "fig, ax = plt.subplots(figsize=(10,6))\n",
        "ax.scatter(train_input[:,0], train_input[:,1])\n",
        "ax.scatter(test_input[:,0], test_input[:,1])\n",
        "\n",
        "ax.set_xlabel('length')\n",
        "ax.set_ylabel('weight')\n",
        "\n",
        "plt.show()"
      ],
      "metadata": {
        "colab": {
          "base_uri": "https://localhost:8080/",
          "height": 388
        },
        "id": "h5cJWEYOhiaq",
        "outputId": "8b0e4805-1764-4ff7-d316-5d77a5a36a86"
      },
      "execution_count": 51,
      "outputs": [
        {
          "output_type": "display_data",
          "data": {
            "text/plain": [
              "<Figure size 720x432 with 1 Axes>"
            ],
            "image/png": "[encoded data removed]"
          },
          "metadata": {
            "needs_background": "light"
          }
        }
      ]
    },
    {
      "cell_type": "markdown",
      "source": [
        "- 머신러닝 모형 개발"
      ],
      "metadata": {
        "id": "foO88dnFialf"
      }
    },
    {
      "cell_type": "code",
      "source": [
        "kn = KNeighborsClassifier(n_neighbors = 5)\n",
        "kn = kn.fit(train_input, train_target)\n",
        "kn.score(test_input, test_target)"
      ],
      "metadata": {
        "colab": {
          "base_uri": "https://localhost:8080/"
        },
        "id": "D2Yjgpl0ifCg",
        "outputId": "86823498-d9f5-4b87-97bc-b17ce9b39900"
      },
      "execution_count": 53,
      "outputs": [
        {
          "output_type": "execute_result",
          "data": {
            "text/plain": [
              "1.0"
            ]
          },
          "metadata": {},
          "execution_count": 53
        }
      ]
    },
    {
      "cell_type": "code",
      "source": [
        "kn.predict(test_input)"
      ],
      "metadata": {
        "colab": {
          "base_uri": "https://localhost:8080/"
        },
        "id": "8TNMiLqNjCWw",
        "outputId": "075f3485-3075-4249-887c-6a29fb5cb649"
      },
      "execution_count": 54,
      "outputs": [
        {
          "output_type": "execute_result",
          "data": {
            "text/plain": [
              "array([0, 0, 1, 0, 1, 1, 1, 0, 1, 1, 0, 1, 1, 0])"
            ]
          },
          "metadata": {},
          "execution_count": 54
        }
      ]
    },
    {
      "cell_type": "code",
      "source": [
        "test_target"
      ],
      "metadata": {
        "colab": {
          "base_uri": "https://localhost:8080/"
        },
        "id": "fOJ5A2EpjGcJ",
        "outputId": "583cd472-258a-4277-b4c5-116fcee7902f"
      },
      "execution_count": 55,
      "outputs": [
        {
          "output_type": "execute_result",
          "data": {
            "text/plain": [
              "array([0, 0, 1, 0, 1, 1, 1, 0, 1, 1, 0, 1, 1, 0])"
            ]
          },
          "metadata": {},
          "execution_count": 55
        }
      ]
    },
    {
      "cell_type": "markdown",
      "source": [
        "- 주요 함수\n",
        "  + seed() : 초기값이 같으면 동일한 난수를 뽑는다. 실험 재현성\n",
        "  + shuffle() : 주어진 배열을 랜덤하게 섞는다."
      ],
      "metadata": {
        "id": "lc-YU_M0kbRv"
      }
    },
    {
      "cell_type": "markdown",
      "source": [
        "## Scikit-Learn 라이브러리를 활용한 세트 분리"
      ],
      "metadata": {
        "id": "syYZ4HbblBuX"
      }
    },
    {
      "cell_type": "code",
      "source": [
        "fish_length = [25.4, 26.3, 26.5, 29.0, 29.0, 29.7, 29.7, 30.0, 30.0, 30.7, 31.0, 31.0, \n",
        "                31.5, 32.0, 32.0, 32.0, 33.0, 33.0, 33.5, 33.5, 34.0, 34.0, 34.5, 35.0, \n",
        "                35.0, 35.0, 35.0, 36.0, 36.0, 37.0, 38.5, 38.5, 39.5, 41.0, 41.0, 9.8, \n",
        "                10.5, 10.6, 11.0, 11.2, 11.3, 11.8, 11.8, 12.0, 12.2, 12.4, 13.0, 14.3, 15.0]\n",
        "fish_weight = [242.0, 290.0, 340.0, 363.0, 430.0, 450.0, 500.0, 390.0, 450.0, 500.0, 475.0, 500.0, \n",
        "                500.0, 340.0, 600.0, 600.0, 700.0, 700.0, 610.0, 650.0, 575.0, 685.0, 620.0, 680.0, \n",
        "                700.0, 725.0, 720.0, 714.0, 850.0, 1000.0, 920.0, 955.0, 925.0, 975.0, 950.0, 6.7, \n",
        "                7.5, 7.0, 9.7, 9.8, 8.7, 10.0, 9.9, 9.8, 12.2, 13.4, 12.2, 19.7, 19.9]"
      ],
      "metadata": {
        "id": "OtCUaOFJlGhY"
      },
      "execution_count": 56,
      "outputs": []
    },
    {
      "cell_type": "code",
      "source": [
        "a_list = [1,2,3]\n",
        "b_list = [4,5,6]\n",
        "\n",
        "np.column_stack((a_list, b_list))"
      ],
      "metadata": {
        "colab": {
          "base_uri": "https://localhost:8080/"
        },
        "id": "XfcTAnJPlMs_",
        "outputId": "46fd3939-dd47-48f3-987c-ae1bd1ad576f"
      },
      "execution_count": 57,
      "outputs": [
        {
          "output_type": "execute_result",
          "data": {
            "text/plain": [
              "array([[1, 4],\n",
              "       [2, 5],\n",
              "       [3, 6]])"
            ]
          },
          "metadata": {},
          "execution_count": 57
        }
      ]
    },
    {
      "cell_type": "code",
      "source": [
        "fish_data = np.column_stack((fish_length, fish_weight))\n",
        "print(fish_data[:5])"
      ],
      "metadata": {
        "colab": {
          "base_uri": "https://localhost:8080/"
        },
        "id": "2OGMdeMglm6_",
        "outputId": "1ee36864-c82d-4b6e-fd87-59c932329e14"
      },
      "execution_count": 58,
      "outputs": [
        {
          "output_type": "stream",
          "name": "stdout",
          "text": [
            "[[ 25.4 242. ]\n",
            " [ 26.3 290. ]\n",
            " [ 26.5 340. ]\n",
            " [ 29.  363. ]\n",
            " [ 29.  430. ]]\n"
          ]
        }
      ]
    },
    {
      "cell_type": "code",
      "source": [
        "fish_target = np.concatenate((np.ones(35),np.zeros(14)))\n",
        "print(fish_target)"
      ],
      "metadata": {
        "colab": {
          "base_uri": "https://localhost:8080/"
        },
        "id": "C0g7uEQsmCnh",
        "outputId": "d3fc8bc8-d510-4d7e-dfc2-8d3986702b34"
      },
      "execution_count": 59,
      "outputs": [
        {
          "output_type": "stream",
          "name": "stdout",
          "text": [
            "[1. 1. 1. 1. 1. 1. 1. 1. 1. 1. 1. 1. 1. 1. 1. 1. 1. 1. 1. 1. 1. 1. 1. 1.\n",
            " 1. 1. 1. 1. 1. 1. 1. 1. 1. 1. 1. 0. 0. 0. 0. 0. 0. 0. 0. 0. 0. 0. 0. 0.\n",
            " 0.]\n"
          ]
        }
      ]
    },
    {
      "cell_type": "markdown",
      "source": [
        "- Scikit-Learn 라이브러리가 요구하는 input 데이터 형태는 기본적으로 배열임 (리스트가 아님)\n",
        "- 참조 : https://scikit-learn.org/stable/modules/generated/sklearn.model_selection.train_test_split.html#sklearn.model_selection.train_test_split\n"
      ],
      "metadata": {
        "id": "lwVDJcKhmRU3"
      }
    },
    {
      "cell_type": "code",
      "source": [
        "from sklearn.model_selection import train_test_split\n",
        "train_input, test_input, train_target, test_target = train_test_split(\n",
        "    fish_data, fish_target, random_state =42\n",
        ")\n",
        "\n",
        "print(train_input.shape, train_target.shape)"
      ],
      "metadata": {
        "colab": {
          "base_uri": "https://localhost:8080/"
        },
        "id": "hgOau6KSmrUn",
        "outputId": "d0afe2a4-54f7-4b1d-c438-ee020169039e"
      },
      "execution_count": 61,
      "outputs": [
        {
          "output_type": "stream",
          "name": "stdout",
          "text": [
            "(36, 2) (36,)\n"
          ]
        }
      ]
    },
    {
      "cell_type": "code",
      "source": [
        "print(test_input.shape, test_target.shape)"
      ],
      "metadata": {
        "colab": {
          "base_uri": "https://localhost:8080/"
        },
        "id": "9CAwkI6AoDpN",
        "outputId": "762281a0-1674-4b97-b4d3-0b52b5cbb116"
      },
      "execution_count": 62,
      "outputs": [
        {
          "output_type": "stream",
          "name": "stdout",
          "text": [
            "(13, 2) (13,)\n"
          ]
        }
      ]
    },
    {
      "cell_type": "code",
      "source": [
        "print(test_target)"
      ],
      "metadata": {
        "colab": {
          "base_uri": "https://localhost:8080/"
        },
        "id": "OVpGktQ0ooSG",
        "outputId": "e08c9f8e-242e-4d3c-ae6a-fdedd19db033"
      },
      "execution_count": 63,
      "outputs": [
        {
          "output_type": "stream",
          "name": "stdout",
          "text": [
            "[1. 0. 0. 0. 1. 1. 1. 1. 1. 1. 1. 1. 1.]\n"
          ]
        }
      ]
    },
    {
      "cell_type": "markdown",
      "source": [
        "- 모형 만들기"
      ],
      "metadata": {
        "id": "nXVMcB7vpC8m"
      }
    },
    {
      "cell_type": "code",
      "source": [
        "kn = KNeighborsClassifier(n_neighbors = 5)\n",
        "kn = kn.fit(train_input, train_target)\n",
        "kn.score(test_input, test_target)"
      ],
      "metadata": {
        "colab": {
          "base_uri": "https://localhost:8080/"
        },
        "id": "HYoeKVK-pEfe",
        "outputId": "17363e3b-426e-497a-b746-069a9b139345"
      },
      "execution_count": 64,
      "outputs": [
        {
          "output_type": "execute_result",
          "data": {
            "text/plain": [
              "1.0"
            ]
          },
          "metadata": {},
          "execution_count": 64
        }
      ]
    },
    {
      "cell_type": "markdown",
      "source": [
        "- 수상한 도미\n",
        "  + 도미 1, 빙어 0"
      ],
      "metadata": {
        "id": "OU_N8oIgpbEm"
      }
    },
    {
      "cell_type": "code",
      "source": [
        "#                 길이, 몸무게\n",
        "print(kn.predict([[25,150]]))\n",
        "# 그래프로 보면 도미이지만 머신러닝은 빙어로 예측함"
      ],
      "metadata": {
        "colab": {
          "base_uri": "https://localhost:8080/"
        },
        "id": "kkB9Gho1peHL",
        "outputId": "e8bc3132-c8fb-483f-c2ba-98bd69d31db9"
      },
      "execution_count": 66,
      "outputs": [
        {
          "output_type": "stream",
          "name": "stdout",
          "text": [
            "[0.]\n"
          ]
        }
      ]
    },
    {
      "cell_type": "code",
      "source": [
        "import matplotlib.pyplot as plt\n",
        "fig, ax = plt.subplots(figsize=(10,6))\n",
        "ax.scatter(train_input[:,0], train_input[:,1])\n",
        "ax.scatter(25,150,marker = '^')\n",
        "\n",
        "ax.set_xlabel('length')\n",
        "ax.set_ylabel('weight')\n",
        "\n",
        "plt.show()"
      ],
      "metadata": {
        "colab": {
          "base_uri": "https://localhost:8080/",
          "height": 388
        },
        "id": "dz8NV-50uyNx",
        "outputId": "42070339-29ca-4547-e9c4-e4c1d445d2bc"
      },
      "execution_count": 67,
      "outputs": [
        {
          "output_type": "display_data",
          "data": {
            "text/plain": [
              "<Figure size 720x432 with 1 Axes>"
            ],
            "image/png": "[encoded data removed]"
          },
          "metadata": {
            "needs_background": "light"
          }
        }
      ]
    },
    {
      "cell_type": "code",
      "source": [
        "distances, indexes = kn.kneighbors([[25,150]])\n",
        "\n",
        "fig, ax = plt.subplots(figsize=(10,6))\n",
        "ax.scatter(train_input[:,0], train_input[:,1])\n",
        "ax.scatter(25,150,marker = '^')\n",
        "ax.scatter(train_input[indexes,0], train_input[indexes,1], marker='D')\n",
        "ax.set_xlim((0, 1000))\n",
        "\n",
        "ax.set_xlabel('length')\n",
        "ax.set_ylabel('weight')\n",
        "\n",
        "plt.show()"
      ],
      "metadata": {
        "colab": {
          "base_uri": "https://localhost:8080/",
          "height": 388
        },
        "id": "MteZYPyCvOot",
        "outputId": "54b3904b-bca1-4935-c8c1-385400413678"
      },
      "execution_count": 73,
      "outputs": [
        {
          "output_type": "display_data",
          "data": {
            "text/plain": [
              "<Figure size 720x432 with 1 Axes>"
            ],
            "image/png": "[encoded data removed]"
          },
          "metadata": {
            "needs_background": "light"
          }
        }
      ]
    },
    {
      "cell_type": "markdown",
      "source": [
        "- 두가지 수치 데이터가 있음\n",
        "  + length : cm 단위\n",
        "  + weight : g 단위\n",
        "\n",
        "- 데이터 전처리 (Data Processing) = Feature Engineering"
      ],
      "metadata": {
        "id": "jzjZG09xxvkD"
      }
    },
    {
      "cell_type": "markdown",
      "source": [
        "## Feature Engineering 맛보기\n",
        "- 표준점수 (Z-Score) 화\n",
        "  + 두개의 수치 데이터 단위 달라서, 단위를 통일."
      ],
      "metadata": {
        "id": "TP1y62tgytX0"
      }
    },
    {
      "cell_type": "code",
      "source": [
        "mean = np.mean(train_input, axis = 0) # 평균\n",
        "std = np.std(train_input, axis = 0) # 표준편차\n",
        "\n",
        "print(mean, std)"
      ],
      "metadata": {
        "colab": {
          "base_uri": "https://localhost:8080/"
        },
        "id": "ez9As4APyzrW",
        "outputId": "d41a6e53-cc2b-41dc-ba82-47877e1cafa6"
      },
      "execution_count": 74,
      "outputs": [
        {
          "output_type": "stream",
          "name": "stdout",
          "text": [
            "[ 26.175      418.08888889] [ 10.21073441 321.67847023]\n"
          ]
        }
      ]
    },
    {
      "cell_type": "code",
      "source": [
        "train_scaled = (train_input - mean) / std \n",
        "train_scaled"
      ],
      "metadata": {
        "colab": {
          "base_uri": "https://localhost:8080/"
        },
        "id": "CMC5iaGUzDRz",
        "outputId": "9d6ece25-60ba-4435-d7a2-55e72d06a87c"
      },
      "execution_count": 76,
      "outputs": [
        {
          "output_type": "execute_result",
          "data": {
            "text/plain": [
              "array([[ 0.37460577,  0.09920189],\n",
              "       [ 0.27666962, -0.17125451],\n",
              "       [ 0.34522492,  0.2546366 ],\n",
              "       [-1.45680021, -1.27266487],\n",
              "       [-1.40783213, -1.26862357],\n",
              "       [-1.29030875, -1.26178444],\n",
              "       [ 0.57047806,  0.56550602],\n",
              "       [ 0.44316107,  0.2546366 ],\n",
              "       [ 0.66841421,  0.87637544],\n",
              "       [ 0.86428651,  0.87637544],\n",
              "       [ 1.4519034 ,  1.73126635],\n",
              "       [ 1.20706303,  1.56028817],\n",
              "       [-0.07590051, -0.54740651],\n",
              "       [-1.3882449 , -1.26924531],\n",
              "       [ 1.30499918,  1.57583164],\n",
              "       [ 0.34522492,  0.09920189],\n",
              "       [ 1.06015881,  1.80898371],\n",
              "       [ 0.47254192,  0.2546366 ],\n",
              "       [-1.53514913, -1.2763953 ],\n",
              "       [ 0.01224202, -0.39818919],\n",
              "       [ 0.76635036,  0.82974503],\n",
              "       [ 0.03182925, -0.24275448],\n",
              "       [-1.52535551, -1.27794965],\n",
              "       [-1.60370443, -1.27888226],\n",
              "       [ 0.86428651,  0.81420156],\n",
              "       [-1.46659382, -1.26924531],\n",
              "       [ 0.47254192,  0.17691924],\n",
              "       [ 0.81531843,  0.6276799 ],\n",
              "       [ 0.71738229,  0.59659296],\n",
              "       [-1.09443646, -1.2378475 ],\n",
              "       [ 0.76635036,  0.48778866],\n",
              "       [ 0.37460577, -0.08731977],\n",
              "       [-1.40783213, -1.26893444],\n",
              "       [ 0.57047806,  0.56550602],\n",
              "       [ 0.96222266,  1.34267957],\n",
              "       [-1.48618105, -1.26955618]])"
            ]
          },
          "metadata": {},
          "execution_count": 76
        }
      ]
    },
    {
      "cell_type": "code",
      "source": [
        "# 모델링 재학습\n",
        "kn.fit(train_scaled, train_target)"
      ],
      "metadata": {
        "colab": {
          "base_uri": "https://localhost:8080/"
        },
        "id": "7e0cTCwHzZRD",
        "outputId": "7b8384a2-c8ba-4ede-c14b-83b944cdbcd9"
      },
      "execution_count": 77,
      "outputs": [
        {
          "output_type": "execute_result",
          "data": {
            "text/plain": [
              "KNeighborsClassifier()"
            ]
          },
          "metadata": {},
          "execution_count": 77
        }
      ]
    },
    {
      "cell_type": "code",
      "source": [
        "# 모형 평가 --> 100%\n",
        "test_scaled = (test_input - mean) / std\n",
        "kn.score(test_scaled, test_target)"
      ],
      "metadata": {
        "colab": {
          "base_uri": "https://localhost:8080/"
        },
        "id": "BilUyeRjzdmJ",
        "outputId": "dc73c656-ff57-47ae-db4f-6452e91e73e2"
      },
      "execution_count": 78,
      "outputs": [
        {
          "output_type": "execute_result",
          "data": {
            "text/plain": [
              "1.0"
            ]
          },
          "metadata": {},
          "execution_count": 78
        }
      ]
    },
    {
      "cell_type": "code",
      "source": [
        "# 새로운 데이터 --> 표준점수화\n",
        "new = ([25,150]-mean) / std\n",
        "new"
      ],
      "metadata": {
        "colab": {
          "base_uri": "https://localhost:8080/"
        },
        "id": "_tuvc5CxznLB",
        "outputId": "ee382322-9fe8-4019-bf9d-f8e298f6180a"
      },
      "execution_count": 80,
      "outputs": [
        {
          "output_type": "execute_result",
          "data": {
            "text/plain": [
              "array([-0.11507497, -0.83340638])"
            ]
          },
          "metadata": {},
          "execution_count": 80
        }
      ]
    },
    {
      "cell_type": "code",
      "source": [
        "print(kn.predict([new]))"
      ],
      "metadata": {
        "colab": {
          "base_uri": "https://localhost:8080/"
        },
        "id": "0hrWuNawz89z",
        "outputId": "2dcad1bb-0be2-4be6-a4ba-a9fd76163284"
      },
      "execution_count": 81,
      "outputs": [
        {
          "output_type": "stream",
          "name": "stdout",
          "text": [
            "[1.]\n"
          ]
        }
      ]
    },
    {
      "cell_type": "code",
      "source": [
        "distances, indexes = kn.kneighbors([new])\n",
        "plt.scatter(train_scaled[:,0], train_scaled[:,1])\n",
        "plt.scatter(new[0],new[1],marker = '^')\n",
        "plt.scatter(train_scaled[indexes,0], train_scaled[indexes,1], marker='D')\n",
        "\n",
        "plt.xlabel('length')\n",
        "plt.ylabel('weight')\n",
        "\n",
        "plt.show()"
      ],
      "metadata": {
        "colab": {
          "base_uri": "https://localhost:8080/",
          "height": 279
        },
        "id": "fKEi5VSTz_lB",
        "outputId": "d1d9a217-aa53-4aca-d3cb-477ba8e27381"
      },
      "execution_count": 84,
      "outputs": [
        {
          "output_type": "display_data",
          "data": {
            "text/plain": [
              "<Figure size 432x288 with 1 Axes>"
            ],
            "image/png": "[encoded data removed]"
          },
          "metadata": {
            "needs_background": "light"
          }
        }
      ]
    }
  ]
}