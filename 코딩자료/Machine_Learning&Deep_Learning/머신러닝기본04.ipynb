{
  "nbformat": 4,
  "nbformat_minor": 0,
  "metadata": {
    "colab": {
      "provenance": []
    },
    "kernelspec": {
      "name": "python3",
      "display_name": "Python 3"
    },
    "language_info": {
      "name": "python"
    }
  },
  "cells": [
    {
      "cell_type": "markdown",
      "source": [
        "python_ml_221020"
      ],
      "metadata": {
        "id": "elmZELVgwP06"
      }
    },
    {
      "cell_type": "markdown",
      "source": [
        "## 교차검증 & 샘플링 & 그리드 서치\n",
        "- 정확도를 올리다 (X)\n",
        "- Accuracy Better Model (X)\n",
        "- Accuracy Stable Model (O)"
      ],
      "metadata": {
        "id": "RtcUeY1Yxec5"
      }
    },
    {
      "cell_type": "code",
      "source": [
        "import pandas as pd"
      ],
      "metadata": {
        "id": "tKyfyUluwSzM"
      },
      "execution_count": 1,
      "outputs": []
    },
    {
      "cell_type": "code",
      "source": [
        "wine = pd.read_csv('https://bit.ly/wine_csv_data')"
      ],
      "metadata": {
        "id": "UatePvOSyiAh"
      },
      "execution_count": 2,
      "outputs": []
    },
    {
      "cell_type": "markdown",
      "source": [
        "### Input & Target으로 1차 분리"
      ],
      "metadata": {
        "id": "-0W9MMlyylPZ"
      }
    },
    {
      "cell_type": "code",
      "source": [
        "data = wine[['alcohol', 'sugar','pH']].to_numpy() # 매개변수\n",
        "target = wine['class'].to_numpy() # 종속변수\n",
        "data.shape, target.shape"
      ],
      "metadata": {
        "colab": {
          "base_uri": "https://localhost:8080/"
        },
        "id": "7tA3RweKyooB",
        "outputId": "b43b41df-f352-45ff-b031-f2f8f72e3e89"
      },
      "execution_count": 3,
      "outputs": [
        {
          "output_type": "execute_result",
          "data": {
            "text/plain": [
              "((6497, 3), (6497,))"
            ]
          },
          "metadata": {},
          "execution_count": 3
        }
      ]
    },
    {
      "cell_type": "markdown",
      "source": [
        "### 세트 분리\n",
        "- 기존) : train/test 세트로 분리\n",
        "- 지금) : train/valid/test 세트로 분리\n"
      ],
      "metadata": {
        "id": "7DAZjdxQzBcB"
      }
    },
    {
      "cell_type": "markdown",
      "source": [
        "- train/test 8:2로 분리"
      ],
      "metadata": {
        "id": "fi4_ulb4zanr"
      }
    },
    {
      "cell_type": "code",
      "source": [
        "from sklearn.model_selection import train_test_split\n",
        "train_input, test_input, train_target, test_target = train_test_split(\n",
        "    data, target, random_state=42, test_size=0.2\n",
        ")\n",
        "\n",
        "train_input.shape, test_input.shape, train_target.shape, test_target.shape"
      ],
      "metadata": {
        "colab": {
          "base_uri": "https://localhost:8080/"
        },
        "id": "2OvF270pzKKB",
        "outputId": "7ce47b0a-9df0-476f-d05d-a7a2dacddc3d"
      },
      "execution_count": 4,
      "outputs": [
        {
          "output_type": "execute_result",
          "data": {
            "text/plain": [
              "((5197, 3), (1300, 3), (5197,), (1300,))"
            ]
          },
          "metadata": {},
          "execution_count": 4
        }
      ]
    },
    {
      "cell_type": "code",
      "source": [
        "sub_input, val_input, sub_target, val_target = train_test_split(\n",
        "    train_input, train_target, test_size = 0.2, random_state=42\n",
        ")\n",
        "sub_input.shape, val_input.shape, sub_target.shape, val_target.shape"
      ],
      "metadata": {
        "colab": {
          "base_uri": "https://localhost:8080/"
        },
        "id": "dArBSO1iz0rq",
        "outputId": "338c943b-e553-4fbb-d964-2893cc89a37c"
      },
      "execution_count": 5,
      "outputs": [
        {
          "output_type": "execute_result",
          "data": {
            "text/plain": [
              "((4157, 3), (1040, 3), (4157,), (1040,))"
            ]
          },
          "metadata": {},
          "execution_count": 5
        }
      ]
    },
    {
      "cell_type": "markdown",
      "source": [
        "- 모형 만들고, 모형 평가\n",
        "  + 기존) test 데이터 바로 평가 (Unseen Data) / 미래에 올 데이터\n",
        "  + 지금) val 데이터만 평가"
      ],
      "metadata": {
        "id": "2Azg188q0i5T"
      }
    },
    {
      "cell_type": "code",
      "source": [
        "from sklearn.tree import DecisionTreeClassifier\n",
        "\n",
        "dt = DecisionTreeClassifier(random_state=42)\n",
        "dt.fit(sub_input, sub_target)\n",
        "\n",
        "print(dt.score(sub_input, sub_target))\n",
        "print(dt.score(val_input, val_target))"
      ],
      "metadata": {
        "colab": {
          "base_uri": "https://localhost:8080/"
        },
        "id": "6yZogwE309Oh",
        "outputId": "53709440-9c32-4855-ad9a-781959f65b7f"
      },
      "execution_count": 6,
      "outputs": [
        {
          "output_type": "stream",
          "name": "stdout",
          "text": [
            "0.9971133028626413\n",
            "0.864423076923077\n"
          ]
        }
      ]
    },
    {
      "cell_type": "code",
      "source": [
        "print(dt.score(test_input, test_target))\n"
      ],
      "metadata": {
        "colab": {
          "base_uri": "https://localhost:8080/"
        },
        "id": "wrWMMFz21YnB",
        "outputId": "0e33da45-7ec6-4171-eac3-91e84d8e491c"
      },
      "execution_count": 7,
      "outputs": [
        {
          "output_type": "stream",
          "name": "stdout",
          "text": [
            "0.8569230769230769\n"
          ]
        }
      ]
    },
    {
      "cell_type": "markdown",
      "source": [
        "## 교차검증"
      ],
      "metadata": {
        "id": "H6BGu0XP14mo"
      }
    },
    {
      "cell_type": "code",
      "source": [
        "from sklearn.model_selection import cross_validate\n",
        "scores = cross_validate(dt, train_input, train_target)\n",
        "\n",
        "print(scores)"
      ],
      "metadata": {
        "colab": {
          "base_uri": "https://localhost:8080/"
        },
        "id": "P8ZbKyNX157w",
        "outputId": "63248136-f64b-473d-c715-c5a99f745480"
      },
      "execution_count": 8,
      "outputs": [
        {
          "output_type": "stream",
          "name": "stdout",
          "text": [
            "{'fit_time': array([0.00945735, 0.00735688, 0.00781965, 0.00763392, 0.007195  ]), 'score_time': array([0.00100875, 0.00085282, 0.00094795, 0.00084662, 0.00085163]), 'test_score': array([0.86923077, 0.84615385, 0.87680462, 0.84889317, 0.83541867])}\n"
          ]
        }
      ]
    },
    {
      "cell_type": "code",
      "source": [
        "scores['test_score']"
      ],
      "metadata": {
        "colab": {
          "base_uri": "https://localhost:8080/"
        },
        "id": "OFXImvFq2NcY",
        "outputId": "ff14d591-2eba-4de3-ceb8-6333d77999cb"
      },
      "execution_count": 9,
      "outputs": [
        {
          "output_type": "execute_result",
          "data": {
            "text/plain": [
              "array([0.86923077, 0.84615385, 0.87680462, 0.84889317, 0.83541867])"
            ]
          },
          "metadata": {},
          "execution_count": 9
        }
      ]
    },
    {
      "cell_type": "code",
      "source": [
        "import numpy as np\n",
        "\n",
        "# 검증 데이터 점수\n",
        "np.mean(scores['test_score'])"
      ],
      "metadata": {
        "colab": {
          "base_uri": "https://localhost:8080/"
        },
        "id": "Jt7u28cm2U_K",
        "outputId": "4c867f8b-1a3b-421a-888c-71c7d1285f00"
      },
      "execution_count": 10,
      "outputs": [
        {
          "output_type": "execute_result",
          "data": {
            "text/plain": [
              "0.855300214703487"
            ]
          },
          "metadata": {},
          "execution_count": 10
        }
      ]
    },
    {
      "cell_type": "markdown",
      "source": [
        "- StratifiedKFold 활용\n",
        "  + 통계용어 : 층화추출 (비율에 근거해서 추출하기)\n",
        "- 기존 방법 : 임의 추출 방식 (무작위 방식)\n",
        "- 분류모형\n",
        "  + 분류기준 / 레드와인 개수, 화이트와인 개수"
      ],
      "metadata": {
        "id": "kkx-wI3B6Z-q"
      }
    },
    {
      "cell_type": "code",
      "source": [
        "from sklearn.model_selection import StratifiedKFold\n",
        "scores = cross_validate(dt, train_input, train_target, cv=StratifiedKFold())\n",
        "print(np.mean(scores['test_score']))"
      ],
      "metadata": {
        "colab": {
          "base_uri": "https://localhost:8080/"
        },
        "id": "aUKqkL878j_p",
        "outputId": "fc04a6df-65ff-4295-9a3e-264562fb8b72"
      },
      "execution_count": 11,
      "outputs": [
        {
          "output_type": "stream",
          "name": "stdout",
          "text": [
            "0.855300214703487\n"
          ]
        }
      ]
    },
    {
      "cell_type": "markdown",
      "source": [
        "- StratifiedKFold() 세부 옵션 지정"
      ],
      "metadata": {
        "id": "oR4LW8QF89pf"
      }
    },
    {
      "cell_type": "code",
      "source": [
        "# n_splits : 몇번 교차 검증 할건지 숫자 10\n",
        "splitter = StratifiedKFold(n_splits=10, shuffle=True, random_state=42)\n",
        "scores = cross_validate(dt, train_input, train_target, cv=splitter)\n",
        "print(np.mean(scores['test_score']))"
      ],
      "metadata": {
        "colab": {
          "base_uri": "https://localhost:8080/"
        },
        "id": "AQzgqNJm8_9O",
        "outputId": "d9e8694c-2137-4d46-833e-b294e6d64cd2"
      },
      "execution_count": 12,
      "outputs": [
        {
          "output_type": "stream",
          "name": "stdout",
          "text": [
            "0.8574181117533719\n"
          ]
        }
      ]
    },
    {
      "cell_type": "markdown",
      "source": [
        "## 하이퍼파라미터의 개념\n",
        "- 기존) 수동으로 조정, 하나씩 값을 확인하는 형태\n",
        "  - ridge(), Lasso(), alpha값 조정\n",
        "  - decision tree, max_depth 값 조정\n",
        "\n",
        "- 지금) 자동화개발 --> 머신러닝 엔지니어"
      ],
      "metadata": {
        "id": "jAgkDW_v9iSg"
      }
    },
    {
      "cell_type": "code",
      "source": [
        "from sklearn.model_selection import GridSearchCV\n",
        "\n",
        "# 모형 만들기\n",
        "dt = DecisionTreeClassifier(random_state=42)\n",
        "\n",
        "# 하이퍼파라미터 투입\n",
        "params = {'max_depth': [2,3,4,5,6,7]}\n",
        "gs = GridSearchCV(dt, params, n_jobs=-1)\n",
        "\n",
        "# 모형 학습 --> 7번 수행\n",
        "gs.fit(train_input, train_target)"
      ],
      "metadata": {
        "colab": {
          "base_uri": "https://localhost:8080/"
        },
        "id": "qPQaWMfU-pSJ",
        "outputId": "e2a01b88-ce1b-41b4-9b6e-09d6398156b5"
      },
      "execution_count": 13,
      "outputs": [
        {
          "output_type": "execute_result",
          "data": {
            "text/plain": [
              "GridSearchCV(estimator=DecisionTreeClassifier(random_state=42), n_jobs=-1,\n",
              "             param_grid={'max_depth': [2, 3, 4, 5, 6, 7]})"
            ]
          },
          "metadata": {},
          "execution_count": 13
        }
      ]
    },
    {
      "cell_type": "markdown",
      "source": [
        "- 가장 최적화된 max_depth 확인"
      ],
      "metadata": {
        "id": "eEm71SDk_ajm"
      }
    },
    {
      "cell_type": "code",
      "source": [
        "print(gs.best_params_)"
      ],
      "metadata": {
        "colab": {
          "base_uri": "https://localhost:8080/"
        },
        "id": "-7PBTRQi_dEW",
        "outputId": "78e65e2d-6613-4ef0-fccc-46effd51da70"
      },
      "execution_count": 14,
      "outputs": [
        {
          "output_type": "stream",
          "name": "stdout",
          "text": [
            "{'max_depth': 5}\n"
          ]
        }
      ]
    },
    {
      "cell_type": "code",
      "source": [
        "best_dt = gs.best_estimator_\n",
        "print(best_dt.score(train_input, train_target))"
      ],
      "metadata": {
        "colab": {
          "base_uri": "https://localhost:8080/"
        },
        "id": "sk3Fsyap_obV",
        "outputId": "aa73c538-3841-437f-8e4f-4a3ba16908bd"
      },
      "execution_count": 15,
      "outputs": [
        {
          "output_type": "stream",
          "name": "stdout",
          "text": [
            "0.8672310948624207\n"
          ]
        }
      ]
    },
    {
      "cell_type": "code",
      "source": [
        "gs.cv_results_['mean_test_score']\n",
        "\n",
        "result = pd.DataFrame({\n",
        "    'max_depth' : [2,3,4,5,6,7],\n",
        "    'score' : gs.cv_results_['mean_test_score']\n",
        "})\n",
        "\n",
        "result"
      ],
      "metadata": {
        "colab": {
          "base_uri": "https://localhost:8080/",
          "height": 238
        },
        "id": "rVRKIbU9ABjm",
        "outputId": "ebbd3403-7a3c-4daf-b9d4-147a259cde96"
      },
      "execution_count": 16,
      "outputs": [
        {
          "output_type": "execute_result",
          "data": {
            "text/plain": [
              "   max_depth     score\n",
              "0          2  0.813936\n",
              "1          3  0.841256\n",
              "2          4  0.853378\n",
              "3          5  0.857804\n",
              "4          6  0.855880\n",
              "5          7  0.855301"
            ],
            "text/html": [
              "\n",
              "  <div id=\"df-76a58802-3626-4772-b94d-5ae941732e49\">\n",
              "    <div class=\"colab-df-container\">\n",
              "      <div>\n",
              "<style scoped>\n",
              "    .dataframe tbody tr th:only-of-type {\n",
              "        vertical-align: middle;\n",
              "    }\n",
              "\n",
              "    .dataframe tbody tr th {\n",
              "        vertical-align: top;\n",
              "    }\n",
              "\n",
              "    .dataframe thead th {\n",
              "        text-align: right;\n",
              "    }\n",
              "</style>\n",
              "<table border=\"1\" class=\"dataframe\">\n",
              "  <thead>\n",
              "    <tr style=\"text-align: right;\">\n",
              "      <th></th>\n",
              "      <th>max_depth</th>\n",
              "      <th>score</th>\n",
              "    </tr>\n",
              "  </thead>\n",
              "  <tbody>\n",
              "    <tr>\n",
              "      <th>0</th>\n",
              "      <td>2</td>\n",
              "      <td>0.813936</td>\n",
              "    </tr>\n",
              "    <tr>\n",
              "      <th>1</th>\n",
              "      <td>3</td>\n",
              "      <td>0.841256</td>\n",
              "    </tr>\n",
              "    <tr>\n",
              "      <th>2</th>\n",
              "      <td>4</td>\n",
              "      <td>0.853378</td>\n",
              "    </tr>\n",
              "    <tr>\n",
              "      <th>3</th>\n",
              "      <td>5</td>\n",
              "      <td>0.857804</td>\n",
              "    </tr>\n",
              "    <tr>\n",
              "      <th>4</th>\n",
              "      <td>6</td>\n",
              "      <td>0.855880</td>\n",
              "    </tr>\n",
              "    <tr>\n",
              "      <th>5</th>\n",
              "      <td>7</td>\n",
              "      <td>0.855301</td>\n",
              "    </tr>\n",
              "  </tbody>\n",
              "</table>\n",
              "</div>\n",
              "      <button class=\"colab-df-convert\" onclick=\"convertToInteractive('df-76a58802-3626-4772-b94d-5ae941732e49')\"\n",
              "              title=\"Convert this dataframe to an interactive table.\"\n",
              "              style=\"display:none;\">\n",
              "        \n",
              "  <svg xmlns=\"http://www.w3.org/2000/svg\" height=\"24px\"viewBox=\"0 0 24 24\"\n",
              "       width=\"24px\">\n",
              "    <path d=\"M0 0h24v24H0V0z\" fill=\"none\"/>\n",
              "    <path d=\"M18.56 5.44l.94 2.06.94-2.06 2.06-.94-2.06-.94-.94-2.06-.94 2.06-2.06.94zm-11 1L8.5 8.5l.94-2.06 2.06-.94-2.06-.94L8.5 2.5l-.94 2.06-2.06.94zm10 10l.94 2.06.94-2.06 2.06-.94-2.06-.94-.94-2.06-.94 2.06-2.06.94z\"/><path d=\"M17.41 7.96l-1.37-1.37c-.4-.4-.92-.59-1.43-.59-.52 0-1.04.2-1.43.59L10.3 9.45l-7.72 7.72c-.78.78-.78 2.05 0 2.83L4 21.41c.39.39.9.59 1.41.59.51 0 1.02-.2 1.41-.59l7.78-7.78 2.81-2.81c.8-.78.8-2.07 0-2.86zM5.41 20L4 18.59l7.72-7.72 1.47 1.35L5.41 20z\"/>\n",
              "  </svg>\n",
              "      </button>\n",
              "      \n",
              "  <style>\n",
              "    .colab-df-container {\n",
              "      display:flex;\n",
              "      flex-wrap:wrap;\n",
              "      gap: 12px;\n",
              "    }\n",
              "\n",
              "    .colab-df-convert {\n",
              "      background-color: #E8F0FE;\n",
              "      border: none;\n",
              "      border-radius: 50%;\n",
              "      cursor: pointer;\n",
              "      display: none;\n",
              "      fill: #1967D2;\n",
              "      height: 32px;\n",
              "      padding: 0 0 0 0;\n",
              "      width: 32px;\n",
              "    }\n",
              "\n",
              "    .colab-df-convert:hover {\n",
              "      background-color: #E2EBFA;\n",
              "      box-shadow: 0px 1px 2px rgba(60, 64, 67, 0.3), 0px 1px 3px 1px rgba(60, 64, 67, 0.15);\n",
              "      fill: #174EA6;\n",
              "    }\n",
              "\n",
              "    [theme=dark] .colab-df-convert {\n",
              "      background-color: #3B4455;\n",
              "      fill: #D2E3FC;\n",
              "    }\n",
              "\n",
              "    [theme=dark] .colab-df-convert:hover {\n",
              "      background-color: #434B5C;\n",
              "      box-shadow: 0px 1px 3px 1px rgba(0, 0, 0, 0.15);\n",
              "      filter: drop-shadow(0px 1px 2px rgba(0, 0, 0, 0.3));\n",
              "      fill: #FFFFFF;\n",
              "    }\n",
              "  </style>\n",
              "\n",
              "      <script>\n",
              "        const buttonEl =\n",
              "          document.querySelector('#df-76a58802-3626-4772-b94d-5ae941732e49 button.colab-df-convert');\n",
              "        buttonEl.style.display =\n",
              "          google.colab.kernel.accessAllowed ? 'block' : 'none';\n",
              "\n",
              "        async function convertToInteractive(key) {\n",
              "          const element = document.querySelector('#df-76a58802-3626-4772-b94d-5ae941732e49');\n",
              "          const dataTable =\n",
              "            await google.colab.kernel.invokeFunction('convertToInteractive',\n",
              "                                                     [key], {});\n",
              "          if (!dataTable) return;\n",
              "\n",
              "          const docLinkHtml = 'Like what you see? Visit the ' +\n",
              "            '<a target=\"_blank\" href=https://colab.research.google.com/notebooks/data_table.ipynb>data table notebook</a>'\n",
              "            + ' to learn more about interactive tables.';\n",
              "          element.innerHTML = '';\n",
              "          dataTable['output_type'] = 'display_data';\n",
              "          await google.colab.output.renderOutput(dataTable, element);\n",
              "          const docLink = document.createElement('div');\n",
              "          docLink.innerHTML = docLinkHtml;\n",
              "          element.appendChild(docLink);\n",
              "        }\n",
              "      </script>\n",
              "    </div>\n",
              "  </div>\n",
              "  "
            ]
          },
          "metadata": {},
          "execution_count": 16
        }
      ]
    },
    {
      "cell_type": "code",
      "source": [
        "# 하이퍼파라미터 투입\n",
        "params = {'max_depth': [2,3,4,5,6,7],\n",
        "          'min_impurity_decrease' : np.arange(0.0001,0.001,0.01), # 노드 분할시, 불순도 감소, 최저량 지정\n",
        "          'min_samples_split' : range(2,100,10)\n",
        "          }\n",
        "gs = GridSearchCV(dt, params, n_jobs=-1)\n",
        "\n",
        "# 모형 학습 --> 7번 수행\n",
        "gs.fit(train_input, train_target)\n",
        "\n",
        "print(gs.best_params_)\n",
        "\n",
        "best_dt = gs.best_estimator_\n",
        "print(best_dt.score(train_input, train_target))"
      ],
      "metadata": {
        "colab": {
          "base_uri": "https://localhost:8080/"
        },
        "id": "MmicYw--BHMO",
        "outputId": "0e44ca09-5ec4-4bfd-9eed-9710fe6c8b09"
      },
      "execution_count": 17,
      "outputs": [
        {
          "output_type": "stream",
          "name": "stdout",
          "text": [
            "{'max_depth': 7, 'min_impurity_decrease': 0.0001, 'min_samples_split': 92}\n",
            "0.8793534731575909\n"
          ]
        }
      ]
    },
    {
      "cell_type": "markdown",
      "source": [
        "## 랜덤 서치\n",
        "- 매개변수 값의 목록을 전달하는 것이 아니다.\n",
        "- 매개변수가 샘플링할 수 있는 객체를 전달하는 것이다."
      ],
      "metadata": {
        "id": "pdMP1AHsIHLM"
      }
    },
    {
      "cell_type": "markdown",
      "source": [
        "- 정수 무작위 추출(randint)"
      ],
      "metadata": {
        "id": "axo2GJJ5JdcT"
      }
    },
    {
      "cell_type": "code",
      "source": [
        "from scipy.stats import uniform, randint\n",
        "\n",
        "rgen = randint(0,10)\n",
        "np.unique(rgen.rvs(100),return_counts=True)"
      ],
      "metadata": {
        "colab": {
          "base_uri": "https://localhost:8080/"
        },
        "id": "gp7izFUFIrb8",
        "outputId": "40168cc1-ce1b-4a6a-d9ea-a2d3c3adcd60"
      },
      "execution_count": 18,
      "outputs": [
        {
          "output_type": "execute_result",
          "data": {
            "text/plain": [
              "(array([0, 1, 2, 3, 4, 5, 6, 7, 8, 9]),\n",
              " array([12,  5, 13, 12,  5, 12, 11, 13,  6, 11]))"
            ]
          },
          "metadata": {},
          "execution_count": 18
        }
      ]
    },
    {
      "cell_type": "markdown",
      "source": [
        "- 실수 무작위 추출(uniform)"
      ],
      "metadata": {
        "id": "6hLlfg83JQHU"
      }
    },
    {
      "cell_type": "code",
      "source": [
        "ugen = uniform(0,1)\n",
        "ugen.rvs(10)"
      ],
      "metadata": {
        "colab": {
          "base_uri": "https://localhost:8080/"
        },
        "id": "bpj7mPeeJSIr",
        "outputId": "ae73d824-c9cb-4de4-942c-6aaa7effe714"
      },
      "execution_count": 19,
      "outputs": [
        {
          "output_type": "execute_result",
          "data": {
            "text/plain": [
              "array([0.33229248, 0.91277718, 0.99244341, 0.45474779, 0.44992452,\n",
              "       0.76346446, 0.07875431, 0.27297032, 0.80258835, 0.86218937])"
            ]
          },
          "metadata": {},
          "execution_count": 19
        }
      ]
    },
    {
      "cell_type": "code",
      "source": [
        "from sklearn.model_selection import RandomizedSearchCV\n",
        "\n",
        "# 하이퍼파라미터 투입\n",
        "params = {'max_depth': randint(2,50),\n",
        "          'min_impurity_decrease' : uniform(0.0001,0.1), # 노드 분할시, 불순도 감소, 최저량 지정\n",
        "          'min_samples_split' : randint(2,50)\n",
        "          }\n",
        "\n",
        "# n_jobs=-1 --> 코어를 직렬이 아닌 병렬로 계산하겠다는 뜻\n",
        "# 랜덤서치\n",
        "rs = RandomizedSearchCV(dt, params, n_iter=100,random_state=42, n_jobs=-1)\n",
        "\n",
        "rs.fit(train_input,train_target)"
      ],
      "metadata": {
        "colab": {
          "base_uri": "https://localhost:8080/"
        },
        "id": "FkrtI-OtJi10",
        "outputId": "91286be4-521b-4d28-a4db-69a1f9213169"
      },
      "execution_count": 20,
      "outputs": [
        {
          "output_type": "execute_result",
          "data": {
            "text/plain": [
              "RandomizedSearchCV(estimator=DecisionTreeClassifier(random_state=42),\n",
              "                   n_iter=100, n_jobs=-1,\n",
              "                   param_distributions={'max_depth': <scipy.stats._distn_infrastructure.rv_frozen object at 0x7fe48edf9c90>,\n",
              "                                        'min_impurity_decrease': <scipy.stats._distn_infrastructure.rv_frozen object at 0x7fe48edb4d90>,\n",
              "                                        'min_samples_split': <scipy.stats._distn_infrastructure.rv_frozen object at 0x7fe48edb4910>},\n",
              "                   random_state=42)"
            ]
          },
          "metadata": {},
          "execution_count": 20
        }
      ]
    },
    {
      "cell_type": "code",
      "source": [
        "print(rs.best_params_)\n",
        "\n",
        "best_dt = rs.best_estimator_\n",
        "print(best_dt.score(train_input, train_target))"
      ],
      "metadata": {
        "colab": {
          "base_uri": "https://localhost:8080/"
        },
        "id": "uIJXgZHeKtPN",
        "outputId": "2de3eee4-9386-4660-a460-10cf4a7318d6"
      },
      "execution_count": 21,
      "outputs": [
        {
          "output_type": "stream",
          "name": "stdout",
          "text": [
            "{'max_depth': 39, 'min_impurity_decrease': 0.00017787658410143285, 'min_samples_split': 22}\n",
            "0.9053299980758129\n"
          ]
        }
      ]
    },
    {
      "cell_type": "markdown",
      "source": [
        "## 주요 정리\n",
        "- 샘플링 중요 : 데이터가 편향적일 수 있다.\n",
        "- 과대적합 방지 : 하이퍼파라미터 튜닝을 진행한다.\n",
        "  + 그리드 서치 : 비추천\n",
        "  + 랜덤 서치 : 추천\n",
        "  + 각 모델의 도움말을 잘 살펴본다.\n"
      ],
      "metadata": {
        "id": "8nQN9eVLPdaC"
      }
    },
    {
      "cell_type": "markdown",
      "source": [
        "## 랜덤포레스트 (Random Forest)\n",
        "- Decision Tree\n",
        "- 데이터 샘플은 무작위로 뽑는다. (행 조정)\n",
        "- 데이터 컬럼 개수가 매우 많음\n",
        "  + 1천개\n",
        "  + 컬럼 개수의 조합 (무작위 선택 필요)\n",
        "  + 독립된 모형\n",
        "- 데이터셋이 클 때, 매우 큰 효과 발휘"
      ],
      "metadata": {
        "id": "CUmRoBRIv1lP"
      }
    },
    {
      "cell_type": "code",
      "source": [
        "train_input.shape, test_input.shape, train_target.shape, test_target.shape"
      ],
      "metadata": {
        "colab": {
          "base_uri": "https://localhost:8080/"
        },
        "id": "lQS3Xp3I0M1X",
        "outputId": "0eed6f4f-952a-426c-d30f-4f51135ce4ec"
      },
      "execution_count": 23,
      "outputs": [
        {
          "output_type": "execute_result",
          "data": {
            "text/plain": [
              "((5197, 3), (1300, 3), (5197,), (1300,))"
            ]
          },
          "metadata": {},
          "execution_count": 23
        }
      ]
    },
    {
      "cell_type": "code",
      "source": [
        "# https://scikit-learn.org/stable/modules/generated/sklearn.ensemble.RandomForestClassifier.html?highlight=randomforestclassifier#sklearn.ensemble.RandomForestClassifier\n",
        "from sklearn.model_selection import cross_validate\n",
        "from sklearn.ensemble import RandomForestClassifier\n",
        "\n",
        "rf = RandomForestClassifier(n_jobs=-1,random_state=42)\n",
        "scores = cross_validate(rf, train_input, train_target, return_train_score=True)\n",
        "\n",
        "print(np.mean(scores['train_score']), np.mean(scores['test_score']))"
      ],
      "metadata": {
        "colab": {
          "base_uri": "https://localhost:8080/"
        },
        "id": "BcoK79bi0cAV",
        "outputId": "df6ccc38-e0b1-4394-f719-923dbed42b14"
      },
      "execution_count": 25,
      "outputs": [
        {
          "output_type": "stream",
          "name": "stdout",
          "text": [
            "0.9973541965122431 0.8905151032797809\n"
          ]
        }
      ]
    },
    {
      "cell_type": "markdown",
      "source": [
        "### 특성 중요도\n",
        "- 각 데이터의 특성(Feature)이 존재.\n",
        "- 현재 사용하는 알고리즘에서 중요도를 표시해주는 것"
      ],
      "metadata": {
        "id": "4CBG6Ocv1V3e"
      }
    },
    {
      "cell_type": "code",
      "source": [
        "rf.fit(train_input, train_target)\n",
        "\n",
        "# print(rf.n_features_)\n",
        "\n",
        "print(rf.feature_importances_)"
      ],
      "metadata": {
        "colab": {
          "base_uri": "https://localhost:8080/"
        },
        "id": "6zq5yY7y2Ix9",
        "outputId": "42171ae8-595c-40a8-b0ca-c5421c633d0b"
      },
      "execution_count": 28,
      "outputs": [
        {
          "output_type": "stream",
          "name": "stdout",
          "text": [
            "[0.23167441 0.50039841 0.26792718]\n"
          ]
        }
      ]
    },
    {
      "cell_type": "markdown",
      "source": [
        "- 알코올,      도수,        산도\n",
        "- [0.23167441 0.50039841 0.26792718]\n"
      ],
      "metadata": {
        "id": "rajsLIqZ2iBG"
      }
    },
    {
      "cell_type": "code",
      "source": [
        "import seaborn as sns\n",
        "\n",
        "# sns.scatterplot(data=wine, x='pH', y='sugar', hue='class')\n",
        "sns.boxplot(data=wine, x='class', y='alcohol')"
      ],
      "metadata": {
        "colab": {
          "base_uri": "https://localhost:8080/",
          "height": 297
        },
        "id": "QPsYMqpp3NFt",
        "outputId": "91bb64db-5406-43f9-9c86-09aedfb9f532"
      },
      "execution_count": 33,
      "outputs": [
        {
          "output_type": "execute_result",
          "data": {
            "text/plain": [
              "<matplotlib.axes._subplots.AxesSubplot at 0x7fe489a82510>"
            ]
          },
          "metadata": {},
          "execution_count": 33
        },
        {
          "output_type": "display_data",
          "data": {
            "text/plain": [
              "<Figure size 432x288 with 1 Axes>"
            ],
            "image/png": "[encoded data removed]"
          },
          "metadata": {
            "needs_background": "light"
          }
        }
      ]
    },
    {
      "cell_type": "markdown",
      "source": [
        "- 복원 추출\n",
        "  + 한번도 추출이 안된 샘플이 있을 수도 있다."
      ],
      "metadata": {
        "id": "IAR6QXIX37S9"
      }
    },
    {
      "cell_type": "code",
      "source": [
        "rf = RandomForestClassifier(n_jobs=-1, oob_score = True, random_state=42)\n",
        "rf.fit(train_input, train_target)\n",
        "print(rf.oob_score_) # 검증 세트와 비슷한 느낌.\n",
        "print(rf.score(train_input,train_target))\n",
        "print(rf.score(test_input,test_target))"
      ],
      "metadata": {
        "colab": {
          "base_uri": "https://localhost:8080/"
        },
        "id": "Jrcyy9tf36Yu",
        "outputId": "6574f341-ddc1-4a2d-9bce-c0f4ee3922e6"
      },
      "execution_count": 34,
      "outputs": [
        {
          "output_type": "stream",
          "name": "stdout",
          "text": [
            "0.8934000384837406\n",
            "0.996921300750433\n",
            "0.8892307692307693\n"
          ]
        }
      ]
    },
    {
      "cell_type": "markdown",
      "source": [
        "## 확률적 경사하강법\n",
        "- 점진적 학습\n",
        "  - 대표 알고리즘 : 확률적 경사 하강법 (Stochastic Gradient Descent)\n",
        "  + 확률적 : 무작위 데이터 \n",
        "- 훈련세트 분리\n",
        "  + 샘플 뽑기\n",
        "    + 확률적 경사하강법 : 1개씩 뽑기\n",
        "    + 미니배치 경사 하강법 : 여러개씩 뽑기\n",
        "    + 배치 경사 하강법 : 몽땅 꺼내기\n",
        "  + 조금씩 경사 및 기울기를 따라 이동\n",
        "  + 모든 훈련세트 소진 : 1 에포크 끝.\n",
        "\n",
        "- 손실함수 (loss function)\n",
        "  + 머신러닝 알고리즘이 얼마나 잘 못맞추느냐 측정하는 기준.\n",
        "  + 손실 함수의 값은 작을수록 좋음"
      ],
      "metadata": {
        "id": "nlTZz5kY824L"
      }
    },
    {
      "cell_type": "markdown",
      "source": [
        "## 그레이디언트 부스팅\n",
        "- 처음에 샘플을 뽑고, 경사하강법을 적용\n",
        "  + 사용하는 모델은 결정 트리"
      ],
      "metadata": {
        "id": "dMy_gxsIDqji"
      }
    },
    {
      "cell_type": "code",
      "source": [
        "from sklearn.ensemble import GradientBoostingClassifier\n",
        "gd = GradientBoostingClassifier(n_estimators = 500,\n",
        "                                learning_rate=0.2,\n",
        "                                subsample=0.5, # 전체 훈련 세트\n",
        "                                random_state=42)\n",
        "\n",
        "scores = cross_validate(gd, train_input,train_target, return_train_score=True, n_jobs=-1)\n",
        "\n",
        "print(np.mean(scores['train_score']), np.mean(scores['test_score']))"
      ],
      "metadata": {
        "colab": {
          "base_uri": "https://localhost:8080/"
        },
        "id": "4KDNc_Zf4Y5T",
        "outputId": "e48fd9df-4d63-4576-8dc6-ef2cdf4620f7"
      },
      "execution_count": 39,
      "outputs": [
        {
          "output_type": "stream",
          "name": "stdout",
          "text": [
            "0.9434289514154802 0.8751230843266453\n"
          ]
        }
      ]
    },
    {
      "cell_type": "markdown",
      "source": [
        "## XGBoost vs LightGBM\n",
        "- Decision Tree\n",
        "- 노드가 분기, 속도 차이 존재\n",
        "  + LightGBM > XGBoost\n",
        "- GPU 지원 여부\n",
        "  + 기존) 선형회귀, 결정트리, 랜덤포레스트, 일반 부스팅 (지원X)\n",
        "  + XGBoost, LightGBM (지원O)\n",
        "- 공통적인 특징 (문법상 미세한 차이 발생)\n",
        "  + Scikit-Learn과 연동된 API\n",
        "  + 독자적인 API\n",
        "  + 약간의 문법적인 혼동이 옴"
      ],
      "metadata": {
        "id": "uyj7HKguKTXH"
      }
    },
    {
      "cell_type": "markdown",
      "source": [
        "기존) pandas 데이터프레임 --> numpy 배열 --> Scikit-Learn\n",
        "\n",
        "LightGBM) pandas 데이터프레임 --> numpy 배열 --> Dataset API --> 모델\n",
        "\n",
        "XGBoost) pandas 데이터프레임 --> numpy 배열 --> DMatrix --> 모델"
      ],
      "metadata": {
        "id": "zAbsXQtpMxMP"
      }
    },
    {
      "cell_type": "markdown",
      "source": [
        "### Scikit-Learn API"
      ],
      "metadata": {
        "id": "tqrHqbJaOFi-"
      }
    },
    {
      "cell_type": "code",
      "source": [
        "from xgboost import XGBClassifier\n",
        "xgb = XGBClassifier(tree_method='hist', random_state=42)\n",
        "\n",
        "scores = cross_validate(xgb,train_input,train_target, return_train_score=True)\n",
        "print(np.mean(scores['train_score']), np.mean(scores['test_score']))"
      ],
      "metadata": {
        "colab": {
          "base_uri": "https://localhost:8080/"
        },
        "id": "H1VwtZ0ROIXF",
        "outputId": "e390d2ad-ea09-488c-b378-6a477717e57b"
      },
      "execution_count": 40,
      "outputs": [
        {
          "output_type": "stream",
          "name": "stdout",
          "text": [
            "0.8824322471423747 0.8726214185237284\n"
          ]
        }
      ]
    },
    {
      "cell_type": "code",
      "source": [
        "from lightgbm import LGBMClassifier\n",
        "lgb = LGBMClassifier(random_state=42)\n",
        "\n",
        "scores = cross_validate(lgb,train_input,train_target, return_train_score=True)\n",
        "print(np.mean(scores['train_score']), np.mean(scores['test_score']))"
      ],
      "metadata": {
        "colab": {
          "base_uri": "https://localhost:8080/"
        },
        "id": "LkPJ62yrOn2_",
        "outputId": "5e572b20-cf90-4063-e11e-a544d071b6a5"
      },
      "execution_count": 41,
      "outputs": [
        {
          "output_type": "stream",
          "name": "stdout",
          "text": [
            "0.9338079582727165 0.8789710890649293\n"
          ]
        }
      ]
    },
    {
      "cell_type": "markdown",
      "source": [
        "머신러닝 프로세스\n",
        "- 데이터 수집\n",
        "- 데이터 전처리\n",
        "  + Feature Engineering (표준화), 각 수치 데이터의 단위가 다름.\n",
        "- 머신러닝 모델\n",
        "  + 분류\n",
        "  + 회귀 (수치 예측)\n",
        "  + KNN, 선형회귀, 로지스틱회귀, 결정트리(랜덤포레스트 등), 경사하강법\n",
        "- 하이퍼파라미터, 교차검증\n",
        "  + 그리드 서치\n",
        "  + 랜덤 서치\n",
        "- 평가지표\n",
        "  + 분류 : 정확도\n",
        "  + 회귀 : MAE"
      ],
      "metadata": {
        "id": "CLyp6_omQZTd"
      }
    }
  ]
}